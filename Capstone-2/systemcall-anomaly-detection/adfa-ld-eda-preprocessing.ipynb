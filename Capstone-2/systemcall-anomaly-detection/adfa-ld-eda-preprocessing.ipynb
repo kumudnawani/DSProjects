{
 "cells": [
  {
   "cell_type": "markdown",
   "metadata": {},
   "source": [
    "# EDA/Preprocessing ADFA-LD Dataset"
   ]
  },
  {
   "cell_type": "markdown",
   "metadata": {},
   "source": [
    "**Description of Australian Defence Force Academy-Linux Dataset (ADFA-LD) :**\n",
    "\n",
    "- 1) The dataset was generated on Linux local server running on Ubuntu 11.04, offering a variety\n",
    "of functions such as file sharing, database, remote access and web server.\n",
    "- 2) Six types of attacks occur in ADFA-LD including two brute force password guessing\n",
    "attempts on the open ports enabled by FTP and SSH respectively, an unauthorised attempt to\n",
    "create a new user with root privileges through encoding a malicious payload into a normal\n",
    "executable, the uploads of Java and Linux executable Meterpreter payloads for the remote\n",
    "compromise of a target host, and the compromise and privilege escalation using C100\n",
    "webshell. These types are termed as Hydra-FTP, Hydra-SSH, Adduser, Java-Meterpreter,\n",
    "Meterpreter and Webshell respectively. You can find these attacks inside the folder\n",
    "“Attack_Data_Master”\n",
    "- 3) 833 and 4373 normal traces are generated for training and validation respectively, over a\n",
    "period during which no attacks occur against the host and legitimate application activities\n",
    "ranging from web browsing to document writing are operated as usual. These training and\n",
    "validation can be found in the “Training_Data_Master” and “Validation_Data_Master”\n",
    "folders, respectively.\n",
    "\n",
    "\n",
    "**Preprocessing Steps:**\n",
    "- 1) Split the Attack data of each category (Hydra-FTP, Hydra-SSH, Adduser, Java-Meterpreter,\n",
    "Meterpreter and Webshell ) into 70% training data and 30 % test data. For instance there are\n",
    "are 10 folders in “Adduser” attack. Therefore, 7 of these folders are to be used for training\n",
    "and 3 folders are to be used for testing.\n",
    " - 2) For the Normal data, files in “Training_Data_Master” folder are to be used as training data\n",
    "and files in “Validation_Data_Master” folder are to be used as test data.\n",
    " - 3) Write a python script to find the frequency of occurences of all unique 3-grams, 5-grams\n",
    "and 7-grams system call sequences in the training data for both Attack data (across all\n",
    "categories of attack) and Normal data. For e.g., consider the following trace file\n",
    "corresponding to the Adduser attack.\n",
    "265 168 168 265 168 168 168 265 168 265 168 168 . . .\n",
    "Your script to list all 3-grams should produce the following output:\n",
    "265 168 168 -->3\n",
    "168 168 265 -->2\n",
    "168 265 168 -->3\n",
    "168 168 168 -->1\n",
    "265 168 265 -->1\n",
    "NOTE: To save time you can concatenate your entire training file for a particular class of\n",
    "attack and then run your script on the concatenated file instead of running it individually on\n",
    "each file.\n",
    "- 4) Perform the same task on files in the “Training_Data_Master” to obtain all the unique 3-\n",
    "grams, 5-grams and 7-grams.\n",
    "- 5) Once you have obtained the frequencies of all the unique n-grams terms in the training data,\n",
    "use the top 30% n-grams terms with the highest frequency to create a data set. For instance\n",
    "consider following results for Adduser data (1st File):\n",
    "('240', '102', '221') 7\n",
    "('204', '203', '5') 2\n",
    "('195', '199', '60') 1\n",
    "('5', '197', '45') 1\n",
    "('5', '195', '5') 12\n",
    "('6', '220', '4') 1\n",
    "('191', '5', '133') 9\n",
    "('13', '45', '5') 2\n",
    "('60', '5', '197') 4\n",
    "('3', '142', '7') 2\n",
    "Hydra-FTP data (2nd File):\n",
    "('3', '142', '7') 11\n",
    "('219', '311', '240') 4\n",
    "('240', '13', '240') 1\n",
    "('33', '168', '146') 2\n",
    "('6', '168', '102') 3\n",
    "('5', '197', '45') 1\n",
    "('5', '195', '5') 2\n",
    "('3', '91', '5') 8\n",
    "('42', '120', '197') 1\n",
    "('174', '54', '5') 2\n",
    "('6', '63', '6') 18\n",
    " Normal training data (3rd File):\n",
    " ('195', '10', '41') 1\n",
    "('3', '142', '7') 3\n",
    "('91', '240', '196') 2\n",
    "('5', '195', '5') 2\n",
    "('3', '102', '7') 17\n",
    "('3', '195', '195') 14\n",
    "('4', '78', '240') 1\n",
    "('33', '195', '192') 2\n",
    "('5', '197', '45') 15\n",
    "('199', '45', '192') 1\n",
    "\n",
    " The top 30 % 3-grams terms with highest frequencies in Adduser, Hydra-FTP and Normal\n",
    "data are [('5', '195', '5'), ('191', '5', '133'), ('240', '102', '221')], [('6', '63', '6'), ('3', '142', '7'), ('3', '91',\n",
    "'5')] and [('3', '102', '7'), ('5', '197', '45'), ('3', '195', '195')], respectively. Designate ('5', '195', '5') as\n",
    "feature 1(F1), ('191', '5', '133') as feature 2 (F2) ..... and ('3', '195', '195') as F9. Then, the generated\n",
    "dataset should have 9 features and one class label ( Adduser, Hydra-FTP, Normal ) with each feature\n",
    "corresponding to frequency of occurences of one of these 9 features. For instance for the 1st File,\n",
    "the generated data should be\n",
    "Freq of F1, Freq of F2, ...., Freq of F9 ----->12, 9, 7, 0, 2, 0, 0,1,0, Adduser\n",
    "Freq of F1, Freq of F2, ...., Freq of F9 ----->2, 0, 0, 0, 3, 0, 17,15,14, Normal\n",
    "This will be the final training data which will be used to train various classifiers.\n",
    "- 6) Apply the same procedure to generate the test dataset from the test files of the attack data\n",
    "(for all attack types) and the normal files in the “Validation_Data_Master” using the top\n",
    "30% 3-grams terms with highest frequencies obtained during the training phase. The\n",
    "classifier model developed during the training phase will finally be validated on the Test\n",
    "dataset.\n"
   ]
  },
  {
   "cell_type": "code",
   "execution_count": 27,
   "metadata": {},
   "outputs": [],
   "source": [
    "# LIBRARIES REQUIRED\n",
    "import os, errno, csv\n",
    "from collections import Counter\n",
    "from datetime import datetime, timedelta\n",
    "from glob import glob\n",
    "import matplotlib.pyplot as plt\n",
    "import pandas as pd\n",
    "\n",
    "# FUNCTION DEFINITIONS\n",
    "def calculate_7Grams(data,dictionary):\n",
    "\t'''\n",
    "\tThis function will generate 7 grams from the data and store them in the dictionary.\n",
    "\tIt will return the last 7-gram for calcuting the residuals of the 5-grams and 3-grams\n",
    "\t'''\n",
    "\tngrams = ()\n",
    "\tfor it in range(0, len(data) - 6):\n",
    "\t\tngrams = tuple(data[it: (it + 7)])\n",
    "\t\tdictionary.setdefault(ngrams,0)\n",
    "\t\tdictionary[ngrams] += 1\n",
    "\n",
    "\treturn ngrams\n",
    "\n",
    "def calcualte_Grams(dict7, dict5, dict3):\n",
    "\t'''\n",
    "\tThis function will calculate the proper 5-grams from the dictionary dict7 and store them in dictionary dict5\n",
    "\tand calculate the proper 3-grams from the dictionary dict5 and store them in dictionary dict3\n",
    "\taccording to the main algo described in the latex document.\n",
    "\t'''\n",
    "\t# calcualting & storing the rest of 5-grams from the 7-grams\n",
    "\tgrams5 = ()\n",
    "\tfor key in dict7:\n",
    "\t\tgrams5 = key[:5]\n",
    "\t\tdict5.setdefault(grams5,0)\n",
    "\t\tdict5[grams5] += dict7[key]\n",
    "\t\n",
    "\t# calcualting & storing the rest of 3-grams from the 5-grams\n",
    "\tgrams3 = ()\n",
    "\tfor key in dict5:\n",
    "\t\tgrams3 = key[:3]\n",
    "\t\tdict3.setdefault(grams3,0)\n",
    "\t\tdict3[grams3] += dict5[key]\n",
    "\n",
    "def calculateResidual(grams7, dict5, dict3):\n",
    "\t'''\n",
    "\tThis function will take the last 7-gram as one of the attribute and calculate the corresponding residual 5-grams.\n",
    "\tSimilarly, it will also calcualate the residual 3-grams from the last 5-gram\n",
    "\t'''\n",
    "\t# calculating the last two 5 grams from the last 7 gram\n",
    "\tresidual5a = grams7[2:7]\n",
    "\tresidual5b = grams7[1:6]\n",
    "\tdict5.setdefault(residual5a,0)\n",
    "\tdict5.setdefault(residual5b,0)\n",
    "\tdict5[residual5a] += 1\n",
    "\tdict5[residual5b] += 1\n",
    "\t\n",
    "\t# now calculating the residual 3-grams from the last 5-grams\n",
    "\tresidual3a = residual5b[2:5]\n",
    "\tresidual3b = residual5b[1:4]\n",
    "\tdict3.setdefault(residual3a,0)\n",
    "\tdict3.setdefault(residual3b,0)\n",
    "\tdict3[residual3a] += 1\n",
    "\tdict3[residual3b] += 1\n",
    "\n",
    "def getFeatures(dict, path):\n",
    "\t'''\n",
    "\tThis function will take a dictionary as input, get the top 30% of that dictionary and store them in the path file\n",
    "\t'''\n",
    "\t# get the top 30% of the data \n",
    "\tdictTop30 = dict.most_common(int(0.3*len(dict)))\n",
    "\t# writing the top 30% tupples to the file\n",
    "\twriteFile(path, dictTop30)\n",
    "\t# return the top 30%\n",
    "\treturn dictTop30\n",
    "\n",
    "def getData(file):\n",
    "\t'''\n",
    "\tThe function would open the file passed as the argument and then read the data\n",
    "\tas string. It would return this data after splitting.\n",
    "\t'''\n",
    "\tdata = \"\"\n",
    "\t# reading the data of the file and storing in the variable \"data\"\n",
    "\ttry:\n",
    "\t\twith open(file) as f:\n",
    "\t\t\tdata = data  + f.read()\n",
    "\texcept IOError as exc:\n",
    "\t\tif exc.errno != errno.EISDIR:\n",
    "\t\t\traise\n",
    "\n",
    "\t# split data along the spaces\n",
    "\tdata = data.split()\n",
    "\treturn data\n",
    "\n",
    "def remFile(file):\t\n",
    "\tif os.path.isfile(file):\n",
    "\t\tos.remove(file)\n",
    "\n",
    "def writeFile(file,data):\n",
    "\t'''\n",
    "\tThis function will write the data to the file.\n",
    "\t'''\n",
    "\tremFile(file)\n",
    "\tfilewrite=open(file,'a')\n",
    "\tfor tmp in data:\n",
    "\t\tfilewrite.write(str(tmp)+\"\\n\")\n",
    "\t\n",
    "\tfilewrite.close()\n",
    "\n",
    "def validateGeneral_Auxillary(Features, Dictionary, Filewrite):\n",
    "\tfor feature in Features:\n",
    "\t\tif feature[0] in Dictionary:\n",
    "\t\t\tFilewrite.write( (str(Dictionary[feature[0]]) + ',').rstrip('\\n'))\n",
    "\t\telse:\n",
    "\t\t\tFilewrite.write( '0,'.rstrip('\\n'))\n",
    "\t\n",
    "def validateGenerate():\n",
    "\t'''\n",
    "\tIt will generate the frequency counts for all the files of the Validation Dataset for all the 3/5/7-tupples\n",
    "\t'''\n",
    "\tprint(\"\\nFinding the frequency of features in the Validation Dataset.\")\n",
    "\tfiles = glob('ADFA-LD/Validation_Data_Master/*.txt')\n",
    "\n",
    "\tremFile(\"VALIDATE/7.txt\")\n",
    "\tremFile(\"VALIDATE/5.txt\")\n",
    "\tremFile(\"VALIDATE/3.txt\")\n",
    "\n",
    "\tfilewrite7=open(\"VALIDATE/7.txt\",'a')\n",
    "\tfilewrite5=open(\"VALIDATE/5.txt\",'a')\n",
    "\tfilewrite3=open(\"VALIDATE/3.txt\",'a')\n",
    "\n",
    "\tfor i,file in enumerate(files):\n",
    "\t\tdict3 = {}\n",
    "\t\tdict5 = {}\n",
    "\t\tdict7 = {}\n",
    "\n",
    "\t\t# Get the data of the current file\n",
    "\t\tdata = getData(file)\n",
    "\n",
    "\t\t# calcualting the 7 grams\n",
    "\t\tgrams7 = calculate_7Grams(data, dict7)\n",
    "\n",
    "\t\t# calculating the residual\n",
    "\t\tcalculateResidual(grams7, dict5, dict3)\n",
    "\n",
    "\t\t# Calculating 3-grams and 5-grams\n",
    "\t\tcalcualte_Grams(dict7, dict5, dict3)\n",
    "\n",
    "\t\t# calculating the frequency for attack features\n",
    "\t\tvalidateGeneral_Auxillary(Features7, dict7, filewrite7)\n",
    "\t\tvalidateGeneral_Auxillary(Features5, dict5, filewrite5)\n",
    "\t\tvalidateGeneral_Auxillary(Features3, dict3, filewrite3)\n",
    "\n",
    "\t\tfilewrite3.write('\\n')\n",
    "\t\tfilewrite5.write('\\n')\n",
    "\t\tfilewrite7.write('\\n')\n",
    "\n",
    "\tfilewrite7.close()\t\n",
    "\tfilewrite5.close()\t\n",
    "\tfilewrite3.close()\t\n",
    "\n",
    "\t# For the Validation 30% of the Attack Dataset\n",
    "\n",
    "\tfor AttackIterator,Attack in enumerate(AttackList):\n",
    "\t\t# For each folder(8-10) of the Attack\n",
    "\t\tremFile(\"VALIDATE/\" + Attack +\"7.txt\")\n",
    "\t\tremFile(\"VALIDATE/\" + Attack +\"5.txt\")\n",
    "\t\tremFile(\"VALIDATE/\" + Attack +\"3.txt\")\n",
    "\t\t\n",
    "\t\tfilewrite7=open(\"VALIDATE/\" + Attack +\"7.txt\",'a')\n",
    "\t\tfilewrite5=open(\"VALIDATE/\" + Attack +\"5.txt\",'a')\n",
    "\t\tfilewrite3=open(\"VALIDATE/\" + Attack +\"3.txt\",'a')\n",
    "\n",
    "\t\tfor foldernum in range(8,11):\n",
    "\t\t\t# path of the folder\n",
    "\t\t\tpath = 'ADFA-LD/Attack_Data_Master/' + Attack + '_' + str(foldernum) + '/*.txt'\n",
    "\t\t\t# all the files in this folder\n",
    "\t\t\tfiles = glob(path)\n",
    "\t\t\t# for each file in this folder\n",
    "\t\t\tfor file in files:\n",
    "\t\t\t\t# the following dictionaries will store the corresponding n-grams of the current file\n",
    "\t\t\t\tdict7 = {}\n",
    "\t\t\t\tdict5 = {}\n",
    "\t\t\t\tdict3 = {}\n",
    "\n",
    "\t\t\t\t# reading the data of the file and storing in the variable \"attackdata\"\n",
    "\t\t\t\tattackdata = getData(file)\t\t\t\n",
    "\n",
    "\t\t\t\t# finding and storing the 7 grams of 'attackdata' in the dictionary 'dict7'\n",
    "\t\t\t\tgrams7 = calculate_7Grams(attackdata, dict7)\n",
    "\t\t\t\t\n",
    "\t\t\t\t# according to the logic we need to calculate the last(residual) 5/3 grams separately\n",
    "\t\t\t\tcalculateResidual(grams7, dict5, dict3)\n",
    "\t\t\t\t\n",
    "\t\t\t\t# calcualting & storing the rest of 5-grams from the 7-grams and 3-grams from the 5-grams\n",
    "\t\t\t\tcalcualte_Grams(dict7, dict5, dict3)\n",
    "\n",
    "\t\t\t\t# calculating the frequency for attack features\n",
    "\t\t\t\tvalidateGeneral_Auxillary(Features7, dict7, filewrite7)\n",
    "\t\t\t\tvalidateGeneral_Auxillary(Features5, dict5, filewrite5)\n",
    "\t\t\t\tvalidateGeneral_Auxillary(Features3, dict3, filewrite3)\n",
    "\n",
    "\t\t\t\tfilewrite3.write('\\n')\n",
    "\t\t\t\tfilewrite5.write('\\n')\n",
    "\t\t\t\tfilewrite7.write('\\n')\n",
    "\n",
    "\t\tfilewrite7.close()\n",
    "\t\tfilewrite5.close()\n",
    "\t\tfilewrite3.close()\n",
    "\n",
    "def displayTimeMessage():\n",
    "\t'''\n",
    "\tThis function is used to display the time messages on the console\n",
    "\t'''\n",
    "\tglobal a,b\n",
    "\tb = datetime.now()\n",
    "\tprint(\"\\n\\tTime Taken = \" + str((b-a).total_seconds()) + \" seconds\")\n",
    "\tprint(\"############################################################################################################################\")\n",
    "\ta = b"
   ]
  },
  {
   "cell_type": "markdown",
   "metadata": {},
   "source": [
    "# Split the Attack data of each category (Hydra-FTP, Hydra-SSH, Adduser, Java-Meterpreter,Meterpreter and Webshell ) into 70% training data and 30 % test data"
   ]
  },
  {
   "cell_type": "code",
   "execution_count": 2,
   "metadata": {},
   "outputs": [
    {
     "name": "stdout",
     "output_type": "stream",
     "text": [
      "\n",
      "Calculating all the 3/5/7 Grams for all the 6 Attacks.\n",
      "\n",
      "\tTime Taken = 2.419552 seconds\n",
      "############################################################################################################################\n"
     ]
    }
   ],
   "source": [
    "# GLOBAL VARIABLES\n",
    "\n",
    "# namelist is the list of different attacks\n",
    "AttackList = [\"Adduser\" , \"Hydra_FTP\" , \"Hydra_SSH\" , \"Java_Meterpreter\" , \"Meterpreter\" , \"Web_Shell\"]\n",
    "\n",
    "# 2-D array of dictionaries for storing the grams of the corresponding attacks\n",
    "# grams_k[i][j] represents the k-grams of i'th attack's j'th folder\n",
    "# j varies from 1 to 7, i is the number of attacks = 6 and we need three types of n-grams\n",
    "grams_7 = [[Counter() for x in range(7)] for y in range(6)]\n",
    "grams_5 = [[Counter() for x in range(7)] for y in range(6)]\n",
    "grams_3 = [[Counter() for x in range(7)] for y in range(6)]\n",
    "\n",
    "print(\"\\nCalculating all the 3/5/7 Grams for all the 6 Attacks.\")\n",
    "InitialTime = datetime.now()\n",
    "a = InitialTime\n",
    "\n",
    "# For each attack in the attacklist\n",
    "for AttackIterator,Attack in enumerate(AttackList):\n",
    "\t# For each folder(1-7) of the Attack\n",
    "\tfor foldernum in range(0,7):\n",
    "\t\t# path of the folder\n",
    "\t\tpath = 'ADFA-LD/Attack_Data_Master/' + Attack + '_' + str(foldernum+1) + '/*.txt'\n",
    "\t\t# all the files in this folder\n",
    "\t\tfiles = glob(path)\n",
    "\t\t# for each file in this folder\n",
    "\t\tfor file in files:\n",
    "\t\t\t# the following dictionaries will store the corresponding n-grams of the current file\n",
    "\t\t\tdict7 = {}\n",
    "\t\t\tdict5 = {}\n",
    "\t\t\tdict3 = {}\n",
    "\n",
    "\t\t\t# reading the data of the file and storing in the variable \"attackdata\"\n",
    "\t\t\tattackdata = getData(file)\t\t\t\n",
    "\n",
    "\t\t\t# finding and storing the 7 grams of 'attackdata' in the dictionary 'dict7'\n",
    "\t\t\tgrams7 = calculate_7Grams(attackdata, dict7)\n",
    "\t\t\t\n",
    "\t\t\t# according to the logic we need to calculate the last(residual) 5/3 grams separately\n",
    "\t\t\tcalculateResidual(grams7, dict5, dict3)\n",
    "\t\t\t\n",
    "\t\t\t# calcualting & storing the rest of 5-grams from the 7-grams and 3-grams from the 5-grams\n",
    "\t\t\tcalcualte_Grams(dict7, dict5, dict3)\n",
    "\t\t\t\n",
    "\t\t\t# now we have calculated the 3/5/7 grams of the current file.\n",
    "\t\t\t# adding these counts to the global variable which stores the 3/5/7 grams of the folder\n",
    "\t\t\tgrams_7[AttackIterator][foldernum] = grams_7[AttackIterator][foldernum] + Counter(dict7)\n",
    "\t\t\tgrams_5[AttackIterator][foldernum] = grams_5[AttackIterator][foldernum] + Counter(dict5)\n",
    "\t\t\tgrams_3[AttackIterator][foldernum] = grams_3[AttackIterator][foldernum] + Counter(dict3)\n",
    "\n",
    "displayTimeMessage()"
   ]
  },
  {
   "cell_type": "code",
   "execution_count": null,
   "metadata": {},
   "outputs": [],
   "source": []
  },
  {
   "cell_type": "markdown",
   "metadata": {},
   "source": [
    "# For the Normal data, files in “Training_Data_Master” folder are to be used as training data and files in “Validation_Data_Master” folder are to be used as test data"
   ]
  },
  {
   "cell_type": "code",
   "execution_count": 3,
   "metadata": {},
   "outputs": [
    {
     "name": "stdout",
     "output_type": "stream",
     "text": [
      "\n",
      "\n",
      "Calculating all the 3/5/7 Grams for Normal \n",
      "\n",
      "\tTime Taken = 2.175505 seconds\n",
      "############################################################################################################################\n"
     ]
    }
   ],
   "source": [
    "# Calculating the 3/5/7 grams for the normal files\n",
    "print(\"\\n\\nCalculating all the 3/5/7 Grams for Normal \")\n",
    "# taking the 70% of the normal files and concatenating them\n",
    "path = 'ADFA-LD/Training_Data_Master/*.txt'\n",
    "files = glob(path)\n",
    "\n",
    "# finding and storing the 3/5/7 grams for the normal usage in the corresponding dictionary(counter)\n",
    "dict7_normal = Counter()\n",
    "dict5_normal = Counter()\n",
    "dict3_normal = Counter()\n",
    "\n",
    "for file in files: # for each normal file data\n",
    "\t# reading the data of the file and storing in the variable \"attackdata\"\n",
    "\tnormalfile = getData(file)\n",
    "\n",
    "\t# calculate the 7 grams of 'normalfile' and store in the dictionary 'dict7_normal'\n",
    "\tgrams7 = calculate_7Grams(normalfile, dict7_normal)\n",
    "\n",
    "\t# according to the logic we need to calculate the last 5/3 grams separtely\n",
    "\tcalculateResidual(grams7, dict5_normal, dict3_normal)\n",
    "\n",
    "# calcualting & storing the rest of 5-grams from the 7-grams and 3-grams from the 5-grams\n",
    "calcualte_Grams(dict7_normal, dict5_normal, dict3_normal)\n",
    "\n",
    "displayTimeMessage()"
   ]
  },
  {
   "cell_type": "code",
   "execution_count": 4,
   "metadata": {},
   "outputs": [
    {
     "name": "stdout",
     "output_type": "stream",
     "text": [
      "\n",
      "\n",
      "Calculating the features for all 3/5/7 Grams for Normal (i.e. Top 30%) and writing to files.\n",
      "\n",
      "\tTime Taken = 0.224483 seconds\n",
      "############################################################################################################################\n"
     ]
    }
   ],
   "source": [
    "print(\"\\n\\nCalculating the features for all 3/5/7 Grams for Normal (i.e. Top 30%) and writing to files.\")\n",
    "Final7_normal = getFeatures(dict7_normal, 'TRAINING/NORMAL/top30%7tupple.txt')\n",
    "Final5_normal = getFeatures(dict5_normal, 'TRAINING/NORMAL/top30%5tupple.txt')\n",
    "Final3_normal = getFeatures(dict3_normal, 'TRAINING/NORMAL/top30%3tupple.txt')\n",
    "\n",
    "displayTimeMessage()"
   ]
  },
  {
   "cell_type": "markdown",
   "metadata": {},
   "source": [
    "# Plots for top 30 3/5/7 grams distribution in Normal trace"
   ]
  },
  {
   "cell_type": "code",
   "execution_count": 30,
   "metadata": {},
   "outputs": [
    {
     "data": {
      "text/plain": [
       "(73730, 2)"
      ]
     },
     "execution_count": 30,
     "metadata": {},
     "output_type": "execute_result"
    }
   ],
   "source": [
    "df_7  = pd.DataFrame(list(dict7_normal.items()))\n",
    "df_7.shape"
   ]
  },
  {
   "cell_type": "code",
   "execution_count": 6,
   "metadata": {},
   "outputs": [
    {
     "data": {
      "text/html": [
       "<div>\n",
       "<style scoped>\n",
       "    .dataframe tbody tr th:only-of-type {\n",
       "        vertical-align: middle;\n",
       "    }\n",
       "\n",
       "    .dataframe tbody tr th {\n",
       "        vertical-align: top;\n",
       "    }\n",
       "\n",
       "    .dataframe thead th {\n",
       "        text-align: right;\n",
       "    }\n",
       "</style>\n",
       "<table border=\"1\" class=\"dataframe\">\n",
       "  <thead>\n",
       "    <tr style=\"text-align: right;\">\n",
       "      <th></th>\n",
       "      <th>0</th>\n",
       "      <th>1</th>\n",
       "    </tr>\n",
       "  </thead>\n",
       "  <tbody>\n",
       "    <tr>\n",
       "      <th>0</th>\n",
       "      <td>(6, 6, 63, 6, 42, 120, 6)</td>\n",
       "      <td>1</td>\n",
       "    </tr>\n",
       "    <tr>\n",
       "      <th>1</th>\n",
       "      <td>(6, 63, 6, 42, 120, 6, 195)</td>\n",
       "      <td>1</td>\n",
       "    </tr>\n",
       "    <tr>\n",
       "      <th>2</th>\n",
       "      <td>(63, 6, 42, 120, 6, 195, 120)</td>\n",
       "      <td>1</td>\n",
       "    </tr>\n",
       "    <tr>\n",
       "      <th>3</th>\n",
       "      <td>(6, 42, 120, 6, 195, 120, 6)</td>\n",
       "      <td>1</td>\n",
       "    </tr>\n",
       "    <tr>\n",
       "      <th>4</th>\n",
       "      <td>(42, 120, 6, 195, 120, 6, 6)</td>\n",
       "      <td>1</td>\n",
       "    </tr>\n",
       "  </tbody>\n",
       "</table>\n",
       "</div>"
      ],
      "text/plain": [
       "                               0  1\n",
       "0      (6, 6, 63, 6, 42, 120, 6)  1\n",
       "1    (6, 63, 6, 42, 120, 6, 195)  1\n",
       "2  (63, 6, 42, 120, 6, 195, 120)  1\n",
       "3   (6, 42, 120, 6, 195, 120, 6)  1\n",
       "4   (42, 120, 6, 195, 120, 6, 6)  1"
      ]
     },
     "execution_count": 6,
     "metadata": {},
     "output_type": "execute_result"
    }
   ],
   "source": [
    "df_7.head()"
   ]
  },
  {
   "cell_type": "code",
   "execution_count": 31,
   "metadata": {},
   "outputs": [
    {
     "data": {
      "text/plain": [
       "<matplotlib.axes._subplots.AxesSubplot at 0x2aff3ec97b8>"
      ]
     },
     "execution_count": 31,
     "metadata": {},
     "output_type": "execute_result"
    },
    {
     "data": {
      "image/png": "[encoded data removed]",
      "text/plain": [
       "<Figure size 432x288 with 1 Axes>"
      ]
     },
     "metadata": {
      "needs_background": "light"
     },
     "output_type": "display_data"
    }
   ],
   "source": [
    "pd.DataFrame([dict(Counter(dict7_normal).most_common(30))]).T.plot.bar()"
   ]
  },
  {
   "cell_type": "code",
   "execution_count": 7,
   "metadata": {},
   "outputs": [
    {
     "data": {
      "text/plain": [
       "(43560, 2)"
      ]
     },
     "execution_count": 7,
     "metadata": {},
     "output_type": "execute_result"
    }
   ],
   "source": [
    "df_5  = pd.DataFrame(list(dict5_normal.items()))\n",
    "df_5.shape"
   ]
  },
  {
   "cell_type": "code",
   "execution_count": 8,
   "metadata": {},
   "outputs": [
    {
     "data": {
      "text/html": [
       "<div>\n",
       "<style scoped>\n",
       "    .dataframe tbody tr th:only-of-type {\n",
       "        vertical-align: middle;\n",
       "    }\n",
       "\n",
       "    .dataframe tbody tr th {\n",
       "        vertical-align: top;\n",
       "    }\n",
       "\n",
       "    .dataframe thead th {\n",
       "        text-align: right;\n",
       "    }\n",
       "</style>\n",
       "<table border=\"1\" class=\"dataframe\">\n",
       "  <thead>\n",
       "    <tr style=\"text-align: right;\">\n",
       "      <th></th>\n",
       "      <th>0</th>\n",
       "      <th>1</th>\n",
       "    </tr>\n",
       "  </thead>\n",
       "  <tbody>\n",
       "    <tr>\n",
       "      <th>0</th>\n",
       "      <td>(252, 252, 1, 1, 252)</td>\n",
       "      <td>7</td>\n",
       "    </tr>\n",
       "    <tr>\n",
       "      <th>1</th>\n",
       "      <td>(252, 252, 252, 1, 1)</td>\n",
       "      <td>18</td>\n",
       "    </tr>\n",
       "    <tr>\n",
       "      <th>2</th>\n",
       "      <td>(120, 175, 175, 54, 140)</td>\n",
       "      <td>3</td>\n",
       "    </tr>\n",
       "    <tr>\n",
       "      <th>3</th>\n",
       "      <td>(175, 120, 175, 175, 54)</td>\n",
       "      <td>2</td>\n",
       "    </tr>\n",
       "    <tr>\n",
       "      <th>4</th>\n",
       "      <td>(196, 38, 6, 6, 6)</td>\n",
       "      <td>11</td>\n",
       "    </tr>\n",
       "  </tbody>\n",
       "</table>\n",
       "</div>"
      ],
      "text/plain": [
       "                          0   1\n",
       "0     (252, 252, 1, 1, 252)   7\n",
       "1     (252, 252, 252, 1, 1)  18\n",
       "2  (120, 175, 175, 54, 140)   3\n",
       "3  (175, 120, 175, 175, 54)   2\n",
       "4        (196, 38, 6, 6, 6)  11"
      ]
     },
     "execution_count": 8,
     "metadata": {},
     "output_type": "execute_result"
    }
   ],
   "source": [
    "df_5.head()"
   ]
  },
  {
   "cell_type": "code",
   "execution_count": 32,
   "metadata": {},
   "outputs": [
    {
     "data": {
      "text/plain": [
       "<matplotlib.axes._subplots.AxesSubplot at 0x2aff3f123c8>"
      ]
     },
     "execution_count": 32,
     "metadata": {},
     "output_type": "execute_result"
    },
    {
     "data": {
      "image/png": "[encoded data removed]",
      "text/plain": [
       "<Figure size 432x288 with 1 Axes>"
      ]
     },
     "metadata": {
      "needs_background": "light"
     },
     "output_type": "display_data"
    }
   ],
   "source": [
    "pd.DataFrame([dict(Counter(dict5_normal).most_common(30))]).T.plot.bar()"
   ]
  },
  {
   "cell_type": "code",
   "execution_count": 9,
   "metadata": {},
   "outputs": [
    {
     "data": {
      "text/plain": [
       "(10427, 2)"
      ]
     },
     "execution_count": 9,
     "metadata": {},
     "output_type": "execute_result"
    }
   ],
   "source": [
    "df_3  = pd.DataFrame(list(dict3_normal.items()))\n",
    "df_3.shape"
   ]
  },
  {
   "cell_type": "code",
   "execution_count": 10,
   "metadata": {},
   "outputs": [
    {
     "data": {
      "text/html": [
       "<div>\n",
       "<style scoped>\n",
       "    .dataframe tbody tr th:only-of-type {\n",
       "        vertical-align: middle;\n",
       "    }\n",
       "\n",
       "    .dataframe tbody tr th {\n",
       "        vertical-align: top;\n",
       "    }\n",
       "\n",
       "    .dataframe thead th {\n",
       "        text-align: right;\n",
       "    }\n",
       "</style>\n",
       "<table border=\"1\" class=\"dataframe\">\n",
       "  <thead>\n",
       "    <tr style=\"text-align: right;\">\n",
       "      <th></th>\n",
       "      <th>0</th>\n",
       "      <th>1</th>\n",
       "    </tr>\n",
       "  </thead>\n",
       "  <tbody>\n",
       "    <tr>\n",
       "      <th>0</th>\n",
       "      <td>(252, 1, 1)</td>\n",
       "      <td>41</td>\n",
       "    </tr>\n",
       "    <tr>\n",
       "      <th>1</th>\n",
       "      <td>(252, 252, 1)</td>\n",
       "      <td>34</td>\n",
       "    </tr>\n",
       "    <tr>\n",
       "      <th>2</th>\n",
       "      <td>(175, 175, 54)</td>\n",
       "      <td>9</td>\n",
       "    </tr>\n",
       "    <tr>\n",
       "      <th>3</th>\n",
       "      <td>(120, 175, 175)</td>\n",
       "      <td>174</td>\n",
       "    </tr>\n",
       "    <tr>\n",
       "      <th>4</th>\n",
       "      <td>(38, 6, 6)</td>\n",
       "      <td>24</td>\n",
       "    </tr>\n",
       "  </tbody>\n",
       "</table>\n",
       "</div>"
      ],
      "text/plain": [
       "                 0    1\n",
       "0      (252, 1, 1)   41\n",
       "1    (252, 252, 1)   34\n",
       "2   (175, 175, 54)    9\n",
       "3  (120, 175, 175)  174\n",
       "4       (38, 6, 6)   24"
      ]
     },
     "execution_count": 10,
     "metadata": {},
     "output_type": "execute_result"
    }
   ],
   "source": [
    "df_3.head()"
   ]
  },
  {
   "cell_type": "code",
   "execution_count": 33,
   "metadata": {},
   "outputs": [
    {
     "data": {
      "text/plain": [
       "<matplotlib.axes._subplots.AxesSubplot at 0x2aff3ffdfd0>"
      ]
     },
     "execution_count": 33,
     "metadata": {},
     "output_type": "execute_result"
    },
    {
     "data": {
      "image/png": "[encoded data removed]",
      "text/plain": [
       "<Figure size 432x288 with 1 Axes>"
      ]
     },
     "metadata": {
      "needs_background": "light"
     },
     "output_type": "display_data"
    }
   ],
   "source": [
    "pd.DataFrame([dict(Counter(dict3_normal).most_common(30))]).T.plot.bar()"
   ]
  },
  {
   "cell_type": "markdown",
   "metadata": {},
   "source": [
    "# Plots for top 30 3/5/7 grams distribution in Attack trace"
   ]
  },
  {
   "cell_type": "code",
   "execution_count": 11,
   "metadata": {},
   "outputs": [
    {
     "data": {
      "text/plain": [
       "(226, 2)"
      ]
     },
     "execution_count": 11,
     "metadata": {},
     "output_type": "execute_result"
    }
   ],
   "source": [
    "df_7v  = pd.DataFrame(list(dict7.items()))\n",
    "df_7v.shape"
   ]
  },
  {
   "cell_type": "code",
   "execution_count": 12,
   "metadata": {},
   "outputs": [
    {
     "data": {
      "text/html": [
       "<div>\n",
       "<style scoped>\n",
       "    .dataframe tbody tr th:only-of-type {\n",
       "        vertical-align: middle;\n",
       "    }\n",
       "\n",
       "    .dataframe tbody tr th {\n",
       "        vertical-align: top;\n",
       "    }\n",
       "\n",
       "    .dataframe thead th {\n",
       "        text-align: right;\n",
       "    }\n",
       "</style>\n",
       "<table border=\"1\" class=\"dataframe\">\n",
       "  <thead>\n",
       "    <tr style=\"text-align: right;\">\n",
       "      <th></th>\n",
       "      <th>0</th>\n",
       "      <th>1</th>\n",
       "    </tr>\n",
       "  </thead>\n",
       "  <tbody>\n",
       "    <tr>\n",
       "      <th>0</th>\n",
       "      <td>(5, 5, 6, 3, 3, 197, 5)</td>\n",
       "      <td>1</td>\n",
       "    </tr>\n",
       "    <tr>\n",
       "      <th>1</th>\n",
       "      <td>(5, 6, 3, 3, 197, 5, 5)</td>\n",
       "      <td>1</td>\n",
       "    </tr>\n",
       "    <tr>\n",
       "      <th>2</th>\n",
       "      <td>(6, 3, 3, 197, 5, 5, 5)</td>\n",
       "      <td>1</td>\n",
       "    </tr>\n",
       "    <tr>\n",
       "      <th>3</th>\n",
       "      <td>(3, 3, 197, 5, 5, 5, 6)</td>\n",
       "      <td>1</td>\n",
       "    </tr>\n",
       "    <tr>\n",
       "      <th>4</th>\n",
       "      <td>(3, 197, 5, 5, 5, 6, 91)</td>\n",
       "      <td>1</td>\n",
       "    </tr>\n",
       "  </tbody>\n",
       "</table>\n",
       "</div>"
      ],
      "text/plain": [
       "                          0  1\n",
       "0   (5, 5, 6, 3, 3, 197, 5)  1\n",
       "1   (5, 6, 3, 3, 197, 5, 5)  1\n",
       "2   (6, 3, 3, 197, 5, 5, 5)  1\n",
       "3   (3, 3, 197, 5, 5, 5, 6)  1\n",
       "4  (3, 197, 5, 5, 5, 6, 91)  1"
      ]
     },
     "execution_count": 12,
     "metadata": {},
     "output_type": "execute_result"
    }
   ],
   "source": [
    "df_7v.head()"
   ]
  },
  {
   "cell_type": "code",
   "execution_count": 34,
   "metadata": {},
   "outputs": [
    {
     "data": {
      "text/plain": [
       "<matplotlib.axes._subplots.AxesSubplot at 0x2aff40a7320>"
      ]
     },
     "execution_count": 34,
     "metadata": {},
     "output_type": "execute_result"
    },
    {
     "data": {
      "image/png": "[encoded data removed]",
      "text/plain": [
       "<Figure size 432x288 with 1 Axes>"
      ]
     },
     "metadata": {
      "needs_background": "light"
     },
     "output_type": "display_data"
    }
   ],
   "source": [
    "pd.DataFrame([dict(Counter(dict7).most_common(30))]).T.plot.bar()"
   ]
  },
  {
   "cell_type": "code",
   "execution_count": 13,
   "metadata": {},
   "outputs": [
    {
     "data": {
      "text/html": [
       "<div>\n",
       "<style scoped>\n",
       "    .dataframe tbody tr th:only-of-type {\n",
       "        vertical-align: middle;\n",
       "    }\n",
       "\n",
       "    .dataframe tbody tr th {\n",
       "        vertical-align: top;\n",
       "    }\n",
       "\n",
       "    .dataframe thead th {\n",
       "        text-align: right;\n",
       "    }\n",
       "</style>\n",
       "<table border=\"1\" class=\"dataframe\">\n",
       "  <thead>\n",
       "    <tr style=\"text-align: right;\">\n",
       "      <th></th>\n",
       "      <th>0</th>\n",
       "      <th>1</th>\n",
       "    </tr>\n",
       "  </thead>\n",
       "  <tbody>\n",
       "    <tr>\n",
       "      <th>0</th>\n",
       "      <td>(141, 3, 91, 5, 197)</td>\n",
       "      <td>1</td>\n",
       "    </tr>\n",
       "    <tr>\n",
       "      <th>1</th>\n",
       "      <td>(3, 141, 3, 91, 5)</td>\n",
       "      <td>1</td>\n",
       "    </tr>\n",
       "    <tr>\n",
       "      <th>2</th>\n",
       "      <td>(5, 5, 6, 3, 3)</td>\n",
       "      <td>1</td>\n",
       "    </tr>\n",
       "    <tr>\n",
       "      <th>3</th>\n",
       "      <td>(5, 6, 3, 3, 197)</td>\n",
       "      <td>1</td>\n",
       "    </tr>\n",
       "    <tr>\n",
       "      <th>4</th>\n",
       "      <td>(6, 3, 3, 197, 5)</td>\n",
       "      <td>1</td>\n",
       "    </tr>\n",
       "  </tbody>\n",
       "</table>\n",
       "</div>"
      ],
      "text/plain": [
       "                      0  1\n",
       "0  (141, 3, 91, 5, 197)  1\n",
       "1    (3, 141, 3, 91, 5)  1\n",
       "2       (5, 5, 6, 3, 3)  1\n",
       "3     (5, 6, 3, 3, 197)  1\n",
       "4     (6, 3, 3, 197, 5)  1"
      ]
     },
     "execution_count": 13,
     "metadata": {},
     "output_type": "execute_result"
    }
   ],
   "source": [
    "df_5v  = pd.DataFrame(list(dict5.items()))\n",
    "df_5v.head()"
   ]
  },
  {
   "cell_type": "code",
   "execution_count": 29,
   "metadata": {},
   "outputs": [
    {
     "data": {
      "text/plain": [
       "<matplotlib.axes._subplots.AxesSubplot at 0x2aff3dd4080>"
      ]
     },
     "execution_count": 29,
     "metadata": {},
     "output_type": "execute_result"
    },
    {
     "data": {
      "image/png": "[encoded data removed]",
      "text/plain": [
       "<Figure size 432x288 with 1 Axes>"
      ]
     },
     "metadata": {
      "needs_background": "light"
     },
     "output_type": "display_data"
    }
   ],
   "source": [
    "pd.DataFrame([dict(Counter(dict5).most_common(30))]).T.plot.bar()"
   ]
  },
  {
   "cell_type": "code",
   "execution_count": 16,
   "metadata": {},
   "outputs": [
    {
     "data": {
      "text/html": [
       "<div>\n",
       "<style scoped>\n",
       "    .dataframe tbody tr th:only-of-type {\n",
       "        vertical-align: middle;\n",
       "    }\n",
       "\n",
       "    .dataframe tbody tr th {\n",
       "        vertical-align: top;\n",
       "    }\n",
       "\n",
       "    .dataframe thead th {\n",
       "        text-align: right;\n",
       "    }\n",
       "</style>\n",
       "<table border=\"1\" class=\"dataframe\">\n",
       "  <thead>\n",
       "    <tr style=\"text-align: right;\">\n",
       "      <th></th>\n",
       "      <th>0</th>\n",
       "      <th>1</th>\n",
       "    </tr>\n",
       "  </thead>\n",
       "  <tbody>\n",
       "    <tr>\n",
       "      <th>0</th>\n",
       "      <td>(3, 91, 5)</td>\n",
       "      <td>5</td>\n",
       "    </tr>\n",
       "    <tr>\n",
       "      <th>1</th>\n",
       "      <td>(141, 3, 91)</td>\n",
       "      <td>2</td>\n",
       "    </tr>\n",
       "    <tr>\n",
       "      <th>2</th>\n",
       "      <td>(3, 141, 3)</td>\n",
       "      <td>1</td>\n",
       "    </tr>\n",
       "    <tr>\n",
       "      <th>3</th>\n",
       "      <td>(5, 5, 6)</td>\n",
       "      <td>5</td>\n",
       "    </tr>\n",
       "    <tr>\n",
       "      <th>4</th>\n",
       "      <td>(5, 6, 3)</td>\n",
       "      <td>2</td>\n",
       "    </tr>\n",
       "  </tbody>\n",
       "</table>\n",
       "</div>"
      ],
      "text/plain": [
       "              0  1\n",
       "0    (3, 91, 5)  5\n",
       "1  (141, 3, 91)  2\n",
       "2   (3, 141, 3)  1\n",
       "3     (5, 5, 6)  5\n",
       "4     (5, 6, 3)  2"
      ]
     },
     "execution_count": 16,
     "metadata": {},
     "output_type": "execute_result"
    }
   ],
   "source": [
    "df_3v  = pd.DataFrame(list(dict3.items()))\n",
    "df_3v.head()"
   ]
  },
  {
   "cell_type": "code",
   "execution_count": 21,
   "metadata": {},
   "outputs": [
    {
     "data": {
      "text/plain": [
       "(86, 2)"
      ]
     },
     "execution_count": 21,
     "metadata": {},
     "output_type": "execute_result"
    }
   ],
   "source": [
    "df_3v.shape"
   ]
  },
  {
   "cell_type": "code",
   "execution_count": 28,
   "metadata": {},
   "outputs": [
    {
     "data": {
      "text/plain": [
       "<matplotlib.axes._subplots.AxesSubplot at 0x2aff3cc3f60>"
      ]
     },
     "execution_count": 28,
     "metadata": {},
     "output_type": "execute_result"
    },
    {
     "data": {
      "image/png": "[encoded data removed]",
      "text/plain": [
       "<Figure size 432x288 with 1 Axes>"
      ]
     },
     "metadata": {
      "needs_background": "light"
     },
     "output_type": "display_data"
    }
   ],
   "source": [
    "pd.DataFrame([dict(Counter(dict3).most_common(30))]).T.plot.bar()"
   ]
  },
  {
   "cell_type": "markdown",
   "metadata": {},
   "source": [
    "# Find the frequency of occurences of all unique 3-grams, 5-grams and 7-grams system call sequences in the training data for both Attack data (across all categories of attack) and Normal data"
   ]
  },
  {
   "cell_type": "code",
   "execution_count": 15,
   "metadata": {},
   "outputs": [
    {
     "name": "stdout",
     "output_type": "stream",
     "text": [
      "\n",
      "\n",
      "Calculating the features(i.e. Top 30%) for all 3/5/7 Grams for all 6 Attacks and writing to files.\n",
      "Total 3 - Features =  6428\n",
      "Total 5 - Features =  25350\n",
      "Total 7 - Features =  45594\n",
      "\n",
      "\tTime Taken = 4.792213 seconds\n",
      "############################################################################################################################\n",
      "\n",
      "Finding the frequency of features in the Validation Dataset.\n",
      "\n",
      "\tTime Taken = 299.422719 seconds\n",
      "############################################################################################################################\n",
      "\n",
      "############################################################################################################################\n",
      "\n",
      "TOTAL TIME TAKEN BY THE SCRIPT : 309.034472\n"
     ]
    }
   ],
   "source": [
    "print(\"\\n\\nCalculating the features(i.e. Top 30%) for all 3/5/7 Grams for all 6 Attacks and writing to files.\")\n",
    "\n",
    "# for the top 30% for each attack\n",
    "Final7 = [Counter() for x in range(0,7)]\n",
    "Final5 = [Counter() for x in range(0,7)]\n",
    "Final3 = [Counter() for x in range(0,7)]\n",
    "\n",
    "Features7 = set()\n",
    "Features5 = set()\n",
    "Features3 = set()\n",
    "\n",
    "for i in range(0,6):            # 6 attack\n",
    "\t# first adding the results of different folders of each attack\n",
    "\tfor j in range(0,7):            # 7 folders of each attack\n",
    "\t\tFinal7[i] = Final7[i] + grams_7[i][j]\n",
    "\t\tFinal5[i] = Final5[i] + grams_5[i][j]\n",
    "\t\tFinal3[i] = Final3[i] + grams_3[i][j]\n",
    "\tFinal7[i] = getFeatures(Final7[i], 'TRAINING/ATTACK-' + str(i+1) + '/top30%_7tupple.txt')\n",
    "\tFinal5[i] = getFeatures(Final5[i], 'TRAINING/ATTACK-' + str(i+1) + '/top30%_5tupple.txt')\n",
    "\tFinal3[i] = getFeatures(Final3[i], 'TRAINING/ATTACK-' + str(i+1) + '/top30%_3tupple.txt')\n",
    "\n",
    "Features7 = set(Final7[0] + Final7[1] + Final7[2] + Final7[3] + Final7[4] + Final7[5] + Final7_normal)\n",
    "Features5 = set(Final5[0] + Final5[1] + Final5[2] + Final5[3] + Final5[4] + Final5[5] + Final5_normal)\n",
    "Features3 = set(Final3[0] + Final3[1] + Final3[2] + Final3[3] + Final3[4] + Final3[5] + Final3_normal)\n",
    "\n",
    "print(\"Total 3 - Features = \", len(Features3))\n",
    "print(\"Total 5 - Features = \", len(Features5))\n",
    "print(\"Total 7 - Features = \", len(Features7))\n",
    "\n",
    "displayTimeMessage()\n",
    "\n",
    "# Generating validation data\n",
    "validateGenerate()\n",
    "\n",
    "displayTimeMessage()\n",
    "\n",
    "FinalTime = datetime.now()\n",
    "\n",
    "print(\"\\n############################################################################################################################\")\n",
    "print(\"\\nTOTAL TIME TAKEN BY THE SCRIPT : \" + str((FinalTime-InitialTime).total_seconds()))"
   ]
  }
 ],
 "metadata": {
  "kernelspec": {
   "display_name": "Python 3",
   "language": "python",
   "name": "python3"
  },
  "language_info": {
   "codemirror_mode": {
    "name": "ipython",
    "version": 3
   },
   "file_extension": ".py",
   "mimetype": "text/x-python",
   "name": "python",
   "nbconvert_exporter": "python",
   "pygments_lexer": "ipython3",
   "version": "3.7.1"
  }
 },
 "nbformat": 4,
 "nbformat_minor": 2
}
