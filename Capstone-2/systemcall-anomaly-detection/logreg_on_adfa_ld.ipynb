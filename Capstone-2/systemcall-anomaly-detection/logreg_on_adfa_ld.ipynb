{
 "cells": [
  {
   "cell_type": "markdown",
   "metadata": {},
   "source": [
    "# ADFA-LD - Logistic Regression "
   ]
  },
  {
   "cell_type": "code",
   "execution_count": 1,
   "metadata": {},
   "outputs": [],
   "source": [
    "import pandas as pd\n",
    "import numpy as np\n",
    "import seaborn as sns\n",
    "import matplotlib.pyplot as plt\n",
    "\n"
   ]
  },
  {
   "cell_type": "code",
   "execution_count": 2,
   "metadata": {},
   "outputs": [
    {
     "name": "stdout",
     "output_type": "stream",
     "text": [
      "Generating Training Data ..................................\n",
      "\tTraining data from Adduser\n",
      "\tTraining data from Hydra_FTP\n",
      "\tTraining data from Hydra_SSH\n",
      "\tTraining data from Java_Meterpreter\n",
      "\tTraining data from Meterpreter\n",
      "\tTraining data from Web_Shell\n",
      "\tTraining data from Normal\n",
      "\n",
      "new_train.csv created..............................................\n",
      "\n"
     ]
    }
   ],
   "source": [
    "import glob\n",
    "import math\n",
    "from collections import Counter\n",
    "import csv\n",
    "\n",
    "import numpy as np\n",
    "\n",
    "\n",
    "def plot_confusion_matrix(cm,\n",
    "                          target_names,\n",
    "                          title='Confusion matrix',\n",
    "                          cmap=None,\n",
    "                          normalize=True):\n",
    "    import matplotlib.pyplot as plt\n",
    "    import numpy as np\n",
    "    import itertools\n",
    "\n",
    "    accuracy = np.trace(cm) / float(np.sum(cm))\n",
    "    misclass = 1 - accuracy\n",
    "\n",
    "    if cmap is None:\n",
    "        cmap = plt.get_cmap('Blues')\n",
    "\n",
    "    plt.figure(figsize=(8, 6))\n",
    "    plt.imshow(cm, interpolation='nearest', cmap=cmap)\n",
    "    plt.title(title)\n",
    "    plt.colorbar()\n",
    "    \n",
    "    if target_names is not None:\n",
    "        tick_marks = np.arange(len(target_names))\n",
    "        plt.xticks(tick_marks, target_names, rotation=45)\n",
    "        plt.yticks(tick_marks, target_names)\n",
    "\n",
    "    if normalize:\n",
    "        cm = cm.astype('float') / cm.sum(axis=1)[:, np.newaxis]\n",
    "\n",
    "\n",
    "    thresh = cm.max() / 1.5 if normalize else cm.max() / 2\n",
    "    for i, j in itertools.product(range(cm.shape[0]), range(cm.shape[1])):\n",
    "        if normalize:\n",
    "            plt.text(j, i, \"{:0.4f}\".format(cm[i, j]),\n",
    "                     horizontalalignment=\"center\",\n",
    "                     color=\"white\" if cm[i, j] > thresh else \"black\")\n",
    "        else:\n",
    "            plt.text(j, i, \"{:,}\".format(cm[i, j]),\n",
    "                     horizontalalignment=\"center\",\n",
    "                     color=\"white\" if cm[i, j] > thresh else \"black\")\n",
    "    plt.tight_layout()\n",
    "    plt.ylabel('True label')\n",
    "    plt.xlabel('Predicted label\\naccuracy={:0.4f}; misclass={:0.4f}'.format(accuracy, misclass))\n",
    "    plt.show()\n",
    "    \n",
    "# returns a dictionary of n-grams frequency for any list\n",
    "def ngrams_freq(listname, n):\n",
    "    counts = dict()\n",
    "    # make n-grams as string iteratively\n",
    "    grams = [' '.join(listname[i:i+n]) for i in range(len(listname)-n)]\n",
    "    for gram in grams:\n",
    "        if gram not in counts:\n",
    "            counts[gram] = 1\n",
    "        else:\n",
    "            counts[gram] += 1\n",
    "    return counts\n",
    "\n",
    "# returns the values of features for any list\n",
    "def feature_freq(listname,n,features):\n",
    "\tcounts = dict()\n",
    "\t# make n-grams as string iteratively\n",
    "\tgrams = [' '.join(listname[i:i+n]) for i in range(len(listname)-n)]\n",
    "\tfor gram in grams:\n",
    "\t\tcounts[gram] = 0\n",
    "\tfor gram in grams:\n",
    "\t\tif gram in features:\n",
    "\t\t\tcounts[gram] += 1\n",
    "\treturn counts\n",
    "\n",
    "# values of n for finding n-grams\n",
    "n_values = [1]\n",
    "\n",
    "# Base address for attack data files\n",
    "add = \"ADFA-LD/ADFA-LD/Attack_Data_Master/\"\n",
    "# list of attacks\n",
    "attack = ['Adduser','Hydra_FTP','Hydra_SSH','Java_Meterpreter','Meterpreter','Web_Shell']\n",
    "\n",
    "# initializing dictionary for n-grams from all files\n",
    "traindict = {}\n",
    "\n",
    "Attack_list_new = []\n",
    "print(\"Generating Training Data ..................................\")\n",
    "for term in attack:\n",
    "\tprint(\"\tTraining data from \" + term)\n",
    "\tglobals()['%s_list' % term] = []\n",
    "\tin_address = add+term\n",
    "\tk = 1\n",
    "\t# finding list of data from all files\n",
    "\tfor i in range (1,11):\n",
    "\t\tread_files = glob.glob(in_address+\"_\"+str(i)+\"/*.txt\")\n",
    "\t\tfor f in read_files:\n",
    "\t\t\twith open(f, \"r\") as infile:\n",
    "\t\t\t\tglobals()['%s_list_array' % term+str(k)] = ALine =infile.read()\n",
    "\t\t\t\t#ALine = ALine[:820]                \n",
    "\t\t\t\tAttack_list_new.append(term +','+ str(ALine))\n",
    "\t\t\t\tglobals()['%s_list' % term].extend(globals()['%s_list_array' % term+str(k)])\n",
    "\t\t\t\tk += 1\n",
    "\t# number of lists for distinct files\n",
    "\tglobals()['%s_size' % term] = k-1\n",
    "\t# combined list of all files\n",
    "\tlistname = globals()['%s_list' % term]\n",
    "\t# finding n-grams and extracting top 30%\n",
    "\tfor n in n_values:\n",
    "\t\t#print(\"\t\tExtracting top 30% \"+str(n)+\"-grams from \"+term+\".......................\")\n",
    "\t\tdictname = ngrams_freq(listname,n)\n",
    "\t\ttop = math.ceil(0.3*len(dictname))\n",
    "\t\tdictname = Counter(dictname)\n",
    "\t\tfor k, v in dictname.most_common(top):\n",
    "\t\t\ttraindict.update({k : v})\n",
    "\n",
    "# finding training data for Normal file\n",
    "print(\"\tTraining data from Normal\")\n",
    "Normal_list = []\n",
    "Normal_list_new = []\n",
    "in_address = \"ADFA-LD/ADFA-LD/Training_Data_Master/\"\n",
    "k = 1\n",
    "read_files = glob.glob(in_address+\"/*.txt\")\n",
    "for f in read_files:\n",
    "\twith open(f, \"r\") as infile:\n",
    "\t\tglobals()['Normal%s_list_array' % str(k)] = Line = infile.read()\n",
    "\t\tNormal_list_new.append('Normal,'+ str(Line))\n",
    "\t\tNormal_list.extend(globals()['Normal%s_list_array' % str(k)])\n",
    "\t\tk += 1\n",
    "\n",
    "# number of lists for distinct files\n",
    "Normal_list_size = k-1\n",
    "# combined list of all files\n",
    "listname = Normal_list\n",
    "\n",
    "\n",
    "print(\"\\nnew_train.csv created..............................................\\n\")\n"
   ]
  },
  {
   "cell_type": "code",
   "execution_count": 3,
   "metadata": {},
   "outputs": [],
   "source": [
    "new_train_list = []\n",
    "new_train_list = Normal_list_new + Attack_list_new\n",
    "#new_train_list[1]\n",
    "#Attack_list_new[1]\n"
   ]
  },
  {
   "cell_type": "code",
   "execution_count": 4,
   "metadata": {},
   "outputs": [],
   "source": [
    "new_train_list = []\n",
    "new_train_list = Normal_list_new + Attack_list_new\n",
    "\n",
    "\n",
    "with open('new_train.csv', 'w') as f:\n",
    "    for item in new_train_list:\n",
    "        f.write(\"%s\\n\" % item)       "
   ]
  },
  {
   "cell_type": "code",
   "execution_count": 5,
   "metadata": {
    "scrolled": true
   },
   "outputs": [
    {
     "data": {
      "text/plain": [
       "Normal              833\n",
       "Hydra_SSH           176\n",
       "Hydra_FTP           162\n",
       "Java_Meterpreter    124\n",
       "Web_Shell           118\n",
       "Adduser              91\n",
       "Meterpreter          75\n",
       "Name: Label, dtype: int64"
      ]
     },
     "execution_count": 5,
     "metadata": {},
     "output_type": "execute_result"
    }
   ],
   "source": [
    "train = pd.read_csv(\"./new_train.csv\", sep=',',error_bad_lines=False, header=None, names=['Label','CallTrace'])\n",
    "train.head(5)\n",
    "train.shape\n",
    "#train.info()\n",
    "\n",
    "#train.describe(include = 'all')\n",
    "train_df = train.copy()\n",
    "train['Label'] = train['Label'].astype('category')\n",
    "train['CallTrace'] = train['CallTrace'].astype('category')\n",
    "\n",
    "train['Label'].value_counts()\n",
    "#train['CallTrace'].value_counts()"
   ]
  },
  {
   "cell_type": "code",
   "execution_count": 6,
   "metadata": {},
   "outputs": [
    {
     "data": {
      "text/plain": [
       "5    833\n",
       "2    176\n",
       "1    162\n",
       "3    124\n",
       "6    118\n",
       "0     91\n",
       "4     75\n",
       "Name: Label_Codes, dtype: int64"
      ]
     },
     "execution_count": 6,
     "metadata": {},
     "output_type": "execute_result"
    }
   ],
   "source": [
    "train['Label_Codes'] = train['Label'].cat.codes\n",
    "train['CallTrace_Codes'] = train['CallTrace'].cat.codes\n",
    "train['Label_Codes'].value_counts()"
   ]
  },
  {
   "cell_type": "code",
   "execution_count": 7,
   "metadata": {},
   "outputs": [
    {
     "data": {
      "text/html": [
       "<div>\n",
       "<style scoped>\n",
       "    .dataframe tbody tr th:only-of-type {\n",
       "        vertical-align: middle;\n",
       "    }\n",
       "\n",
       "    .dataframe tbody tr th {\n",
       "        vertical-align: top;\n",
       "    }\n",
       "\n",
       "    .dataframe thead th {\n",
       "        text-align: right;\n",
       "    }\n",
       "</style>\n",
       "<table border=\"1\" class=\"dataframe\">\n",
       "  <thead>\n",
       "    <tr style=\"text-align: right;\">\n",
       "      <th></th>\n",
       "      <th>Label</th>\n",
       "      <th>CallTrace</th>\n",
       "      <th>Label_Codes</th>\n",
       "      <th>CallTrace_Codes</th>\n",
       "    </tr>\n",
       "  </thead>\n",
       "  <tbody>\n",
       "    <tr>\n",
       "      <th>0</th>\n",
       "      <td>Normal</td>\n",
       "      <td>6 6 63 6 42 120 6 195 120 6 6 114 114 1 1 252 ...</td>\n",
       "      <td>5</td>\n",
       "      <td>1407</td>\n",
       "    </tr>\n",
       "    <tr>\n",
       "      <th>1</th>\n",
       "      <td>Normal</td>\n",
       "      <td>54 175 120 175 175 3 175 175 120 175 120 175 1...</td>\n",
       "      <td>5</td>\n",
       "      <td>1239</td>\n",
       "    </tr>\n",
       "    <tr>\n",
       "      <th>2</th>\n",
       "      <td>Normal</td>\n",
       "      <td>6 11 45 33 192 33 5 197 192 6 33 5 3 197 192 1...</td>\n",
       "      <td>5</td>\n",
       "      <td>1286</td>\n",
       "    </tr>\n",
       "    <tr>\n",
       "      <th>3</th>\n",
       "      <td>Normal</td>\n",
       "      <td>7 174 174 5 197 197 6 13 195 4 4 118 6 91 38 5...</td>\n",
       "      <td>5</td>\n",
       "      <td>1465</td>\n",
       "    </tr>\n",
       "    <tr>\n",
       "      <th>4</th>\n",
       "      <td>Normal</td>\n",
       "      <td>11 45 33 192 33 5 197 192 6 33 5 3 197 192 192...</td>\n",
       "      <td>5</td>\n",
       "      <td>93</td>\n",
       "    </tr>\n",
       "  </tbody>\n",
       "</table>\n",
       "</div>"
      ],
      "text/plain": [
       "    Label                                          CallTrace  Label_Codes  \\\n",
       "0  Normal  6 6 63 6 42 120 6 195 120 6 6 114 114 1 1 252 ...            5   \n",
       "1  Normal  54 175 120 175 175 3 175 175 120 175 120 175 1...            5   \n",
       "2  Normal  6 11 45 33 192 33 5 197 192 6 33 5 3 197 192 1...            5   \n",
       "3  Normal  7 174 174 5 197 197 6 13 195 4 4 118 6 91 38 5...            5   \n",
       "4  Normal  11 45 33 192 33 5 197 192 6 33 5 3 197 192 192...            5   \n",
       "\n",
       "   CallTrace_Codes  \n",
       "0             1407  \n",
       "1             1239  \n",
       "2             1286  \n",
       "3             1465  \n",
       "4               93  "
      ]
     },
     "execution_count": 7,
     "metadata": {},
     "output_type": "execute_result"
    }
   ],
   "source": [
    "train.head()"
   ]
  },
  {
   "cell_type": "markdown",
   "metadata": {},
   "source": [
    "# Multinominal Logistic Regression"
   ]
  },
  {
   "cell_type": "code",
   "execution_count": 8,
   "metadata": {},
   "outputs": [
    {
     "name": "stdout",
     "output_type": "stream",
     "text": [
      "Misclassified samples: 145\n",
      "Accuracy: 0.54\n"
     ]
    }
   ],
   "source": [
    "import warnings\n",
    "warnings.filterwarnings(\"ignore\")\n",
    "\n",
    "# split the dataset in train and test\n",
    "X = train.iloc[:, [3]].values\n",
    "y = train.iloc[:, 2].values\n",
    "\n",
    "\n",
    "# Splitting the dataset into the Training set and Test set\n",
    "from sklearn.model_selection import train_test_split\n",
    "X_train, X_test, y_train, y_test = train_test_split(X, y, test_size = 0.2, random_state = 0)\n",
    "\n",
    "# Feature Scaling\n",
    "from sklearn.preprocessing import StandardScaler\n",
    "sc = StandardScaler()\n",
    "X_train = sc.fit_transform(X_train)\n",
    "X_test = sc.transform(X_test)\n",
    "\n",
    "# Fitting Logistic Regression to the Training set\n",
    "from sklearn.linear_model import LogisticRegression\n",
    "classifier = LogisticRegression(multi_class='ovr', solver = 'lbfgs')\n",
    "classifier.fit(X_train, y_train)\n",
    "\n",
    "# Predicting the Test set results\n",
    "y_pred = classifier.predict(X_test)\n",
    "\n",
    "# How did our model perform?\n",
    "from sklearn import metrics\n",
    "count_misclassified = (y_test != y_pred).sum()\n",
    "print('Misclassified samples: {}'.format(count_misclassified))\n",
    "accuracy = metrics.accuracy_score(y_test, y_pred)\n",
    "print('Accuracy: {:.2f}'.format(accuracy))\n",
    "\n",
    "\n"
   ]
  },
  {
   "cell_type": "code",
   "execution_count": 9,
   "metadata": {},
   "outputs": [
    {
     "data": {
      "image/png": "[encoded data removed]",
      "text/plain": [
       "<Figure size 576x432 with 2 Axes>"
      ]
     },
     "metadata": {
      "needs_background": "light"
     },
     "output_type": "display_data"
    }
   ],
   "source": [
    "#classifier.predict_proba(X_test)\n",
    "\n",
    "# Making the Confusion Matrix\n",
    "from sklearn.metrics import confusion_matrix\n",
    "cm = confusion_matrix(y_test, y_pred)\n",
    "plot_confusion_matrix(cm,  \n",
    "                      normalize    = False,\n",
    "                      target_names = ['Adduser', 'Hydra_FTP', 'Hydra_SSH', 'Java_Meterpreter', 'Meterpreter', 'Normal', 'Web_Shell'],\n",
    "                      title        = \"Confusion Matrix\")"
   ]
  },
  {
   "cell_type": "markdown",
   "metadata": {},
   "source": [
    "# Logistic Regression Binary Classification"
   ]
  },
  {
   "cell_type": "code",
   "execution_count": 10,
   "metadata": {},
   "outputs": [
    {
     "data": {
      "text/plain": [
       "0.0    833\n",
       "1.0    746\n",
       "Name: Label_Binary, dtype: int64"
      ]
     },
     "execution_count": 10,
     "metadata": {},
     "output_type": "execute_result"
    }
   ],
   "source": [
    "train.loc[train.Label != 'Normal','Label_Binary']= 1\n",
    "train.loc[train.Label == 'Normal','Label_Binary']= 0\n",
    "train['Label_Binary'].value_counts()\n",
    "#train.head()"
   ]
  },
  {
   "cell_type": "code",
   "execution_count": 11,
   "metadata": {},
   "outputs": [
    {
     "data": {
      "text/html": [
       "<div>\n",
       "<style scoped>\n",
       "    .dataframe tbody tr th:only-of-type {\n",
       "        vertical-align: middle;\n",
       "    }\n",
       "\n",
       "    .dataframe tbody tr th {\n",
       "        vertical-align: top;\n",
       "    }\n",
       "\n",
       "    .dataframe thead th {\n",
       "        text-align: right;\n",
       "    }\n",
       "</style>\n",
       "<table border=\"1\" class=\"dataframe\">\n",
       "  <thead>\n",
       "    <tr style=\"text-align: right;\">\n",
       "      <th></th>\n",
       "      <th>Label</th>\n",
       "      <th>CallTrace</th>\n",
       "      <th>Label_Codes</th>\n",
       "      <th>CallTrace_Codes</th>\n",
       "      <th>Label_Binary</th>\n",
       "    </tr>\n",
       "  </thead>\n",
       "  <tbody>\n",
       "    <tr>\n",
       "      <th>0</th>\n",
       "      <td>Normal</td>\n",
       "      <td>6 6 63 6 42 120 6 195 120 6 6 114 114 1 1 252 ...</td>\n",
       "      <td>5</td>\n",
       "      <td>1407</td>\n",
       "      <td>0.0</td>\n",
       "    </tr>\n",
       "    <tr>\n",
       "      <th>1</th>\n",
       "      <td>Normal</td>\n",
       "      <td>54 175 120 175 175 3 175 175 120 175 120 175 1...</td>\n",
       "      <td>5</td>\n",
       "      <td>1239</td>\n",
       "      <td>0.0</td>\n",
       "    </tr>\n",
       "    <tr>\n",
       "      <th>2</th>\n",
       "      <td>Normal</td>\n",
       "      <td>6 11 45 33 192 33 5 197 192 6 33 5 3 197 192 1...</td>\n",
       "      <td>5</td>\n",
       "      <td>1286</td>\n",
       "      <td>0.0</td>\n",
       "    </tr>\n",
       "    <tr>\n",
       "      <th>3</th>\n",
       "      <td>Normal</td>\n",
       "      <td>7 174 174 5 197 197 6 13 195 4 4 118 6 91 38 5...</td>\n",
       "      <td>5</td>\n",
       "      <td>1465</td>\n",
       "      <td>0.0</td>\n",
       "    </tr>\n",
       "    <tr>\n",
       "      <th>4</th>\n",
       "      <td>Normal</td>\n",
       "      <td>11 45 33 192 33 5 197 192 6 33 5 3 197 192 192...</td>\n",
       "      <td>5</td>\n",
       "      <td>93</td>\n",
       "      <td>0.0</td>\n",
       "    </tr>\n",
       "  </tbody>\n",
       "</table>\n",
       "</div>"
      ],
      "text/plain": [
       "    Label                                          CallTrace  Label_Codes  \\\n",
       "0  Normal  6 6 63 6 42 120 6 195 120 6 6 114 114 1 1 252 ...            5   \n",
       "1  Normal  54 175 120 175 175 3 175 175 120 175 120 175 1...            5   \n",
       "2  Normal  6 11 45 33 192 33 5 197 192 6 33 5 3 197 192 1...            5   \n",
       "3  Normal  7 174 174 5 197 197 6 13 195 4 4 118 6 91 38 5...            5   \n",
       "4  Normal  11 45 33 192 33 5 197 192 6 33 5 3 197 192 192...            5   \n",
       "\n",
       "   CallTrace_Codes  Label_Binary  \n",
       "0             1407           0.0  \n",
       "1             1239           0.0  \n",
       "2             1286           0.0  \n",
       "3             1465           0.0  \n",
       "4               93           0.0  "
      ]
     },
     "execution_count": 11,
     "metadata": {},
     "output_type": "execute_result"
    }
   ],
   "source": [
    "train.head()"
   ]
  },
  {
   "cell_type": "code",
   "execution_count": 12,
   "metadata": {},
   "outputs": [
    {
     "name": "stdout",
     "output_type": "stream",
     "text": [
      "Misclassified samples: 156\n",
      "Accuracy: 0.51\n"
     ]
    }
   ],
   "source": [
    "import warnings\n",
    "warnings.filterwarnings(\"ignore\")\n",
    "\n",
    "# split the dataset in train and test\n",
    "X = train.iloc[:, [3]].values\n",
    "y = train.iloc[:, 4].values\n",
    "\n",
    "\n",
    "# Splitting the dataset into the Training set and Test set\n",
    "from sklearn.model_selection import train_test_split\n",
    "X_train, X_test, y_train, y_test = train_test_split(X, y, test_size = 0.2, random_state = 0)\n",
    "\n",
    "# Feature Scaling\n",
    "from sklearn.preprocessing import StandardScaler\n",
    "sc = StandardScaler()\n",
    "X_train = sc.fit_transform(X_train)\n",
    "X_test = sc.transform(X_test)\n",
    "\n",
    "# Fitting Logistic Regression to the Training set\n",
    "from sklearn.linear_model import LogisticRegression\n",
    "#classifier = LogisticRegression(multi_class='ovr', solver = 'lbfgs')\n",
    "classifier = LogisticRegression()\n",
    "classifier.fit(X_train, y_train)\n",
    "\n",
    "# Predicting the Test set results\n",
    "y_pred = classifier.predict(X_test)\n",
    "\n",
    "# How did our model perform?\n",
    "from sklearn import metrics\n",
    "count_misclassified = (y_test != y_pred).sum()\n",
    "print('Misclassified samples: {}'.format(count_misclassified))\n",
    "accuracy = metrics.accuracy_score(y_test, y_pred)\n",
    "print('Accuracy: {:.2f}'.format(accuracy))\n",
    "\n",
    "\n"
   ]
  },
  {
   "cell_type": "code",
   "execution_count": 13,
   "metadata": {},
   "outputs": [
    {
     "data": {
      "image/png": "[encoded data removed]",
      "text/plain": [
       "<Figure size 576x432 with 2 Axes>"
      ]
     },
     "metadata": {
      "needs_background": "light"
     },
     "output_type": "display_data"
    }
   ],
   "source": [
    "# Making the Confusion Matrix\n",
    "from sklearn.metrics import confusion_matrix\n",
    "cm = confusion_matrix(y_test, y_pred)\n",
    "plot_confusion_matrix(cm,  \n",
    "                      normalize    = False,\n",
    "                      target_names = ['Normal', 'Áttack'],\n",
    "                      title        = \"Confusion Matrix\")"
   ]
  }
 ],
 "metadata": {
  "kernelspec": {
   "display_name": "Python 3",
   "language": "python",
   "name": "python3"
  },
  "language_info": {
   "codemirror_mode": {
    "name": "ipython",
    "version": 3
   },
   "file_extension": ".py",
   "mimetype": "text/x-python",
   "name": "python",
   "nbconvert_exporter": "python",
   "pygments_lexer": "ipython3",
   "version": "3.7.1"
  }
 },
 "nbformat": 4,
 "nbformat_minor": 2
}
