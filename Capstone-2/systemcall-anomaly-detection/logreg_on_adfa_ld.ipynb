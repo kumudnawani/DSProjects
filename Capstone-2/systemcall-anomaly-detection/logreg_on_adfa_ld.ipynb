{
 "cells": [
  {
   "cell_type": "markdown",
   "metadata": {},
   "source": [
    "# ADFA-LD - Logistic Regression "
   ]
  },
  {
   "cell_type": "code",
   "execution_count": 1,
   "metadata": {},
   "outputs": [],
   "source": [
    "import seaborn as sns\n",
    "import matplotlib.pyplot as plt\n",
    "import pandas as pd\n",
    "from IPython.display import display\n",
    "pd.options.display.max_columns = None\n",
    "from sklearn.ensemble import RandomForestRegressor, RandomForestClassifier\n",
    "from IPython.display import display\n",
    "from sklearn import metrics\n",
    "from sklearn.model_selection import train_test_split\n",
    "import statistics\n",
    "import numpy as np\n",
    "from sklearn import metrics\n",
    "from sklearn.preprocessing import MinMaxScaler, StandardScaler, LabelEncoder\n",
    "from sklearn.feature_selection import SelectKBest\n",
    "from sklearn.pipeline import Pipeline\n",
    "from sklearn.model_selection import train_test_split, GridSearchCV, RandomizedSearchCV"
   ]
  },
  {
   "cell_type": "code",
   "execution_count": 2,
   "metadata": {},
   "outputs": [
    {
     "name": "stdout",
     "output_type": "stream",
     "text": [
      "Generating Training Data ..................................\n",
      "\tTraining data from Adduser\n",
      "\tTraining data from Hydra_FTP\n",
      "\tTraining data from Hydra_SSH\n",
      "\tTraining data from Java_Meterpreter\n",
      "\tTraining data from Meterpreter\n",
      "\tTraining data from Web_Shell\n",
      "\tTraining data from Normal\n",
      "\n",
      "new_train.csv created..............................................\n",
      "\n"
     ]
    }
   ],
   "source": [
    "import glob\n",
    "import math\n",
    "from collections import Counter\n",
    "import csv\n",
    "\n",
    "import numpy as np\n",
    "\n",
    "\n",
    "def plot_confusion_matrix(cm,\n",
    "                          target_names,\n",
    "                          title='Confusion matrix',\n",
    "                          cmap=None,\n",
    "                          normalize=True):\n",
    "    import matplotlib.pyplot as plt\n",
    "    import numpy as np\n",
    "    import itertools\n",
    "\n",
    "    accuracy = np.trace(cm) / float(np.sum(cm))\n",
    "    misclass = 1 - accuracy\n",
    "\n",
    "    if cmap is None:\n",
    "        cmap = plt.get_cmap('Blues')\n",
    "\n",
    "    plt.figure(figsize=(8, 6))\n",
    "    plt.imshow(cm, interpolation='nearest', cmap=cmap)\n",
    "    plt.title(title)\n",
    "    plt.colorbar()\n",
    "    \n",
    "    if target_names is not None:\n",
    "        tick_marks = np.arange(len(target_names))\n",
    "        plt.xticks(tick_marks, target_names, rotation=45)\n",
    "        plt.yticks(tick_marks, target_names)\n",
    "\n",
    "    if normalize:\n",
    "        cm = cm.astype('float') / cm.sum(axis=1)[:, np.newaxis]\n",
    "\n",
    "\n",
    "    thresh = cm.max() / 1.5 if normalize else cm.max() / 2\n",
    "    for i, j in itertools.product(range(cm.shape[0]), range(cm.shape[1])):\n",
    "        if normalize:\n",
    "            plt.text(j, i, \"{:0.4f}\".format(cm[i, j]),\n",
    "                     horizontalalignment=\"center\",\n",
    "                     color=\"white\" if cm[i, j] > thresh else \"black\")\n",
    "        else:\n",
    "            plt.text(j, i, \"{:,}\".format(cm[i, j]),\n",
    "                     horizontalalignment=\"center\",\n",
    "                     color=\"white\" if cm[i, j] > thresh else \"black\")\n",
    "    plt.tight_layout()\n",
    "    plt.ylabel('True label')\n",
    "    plt.xlabel('Predicted label\\naccuracy={:0.4f}; misclass={:0.4f}'.format(accuracy, misclass))\n",
    "    plt.show()\n",
    "    \n",
    "# returns a dictionary of n-grams frequency for any list\n",
    "def ngrams_freq(listname, n):\n",
    "    counts = dict()\n",
    "    # make n-grams as string iteratively\n",
    "    grams = [' '.join(listname[i:i+n]) for i in range(len(listname)-n)]\n",
    "    for gram in grams:\n",
    "        if gram not in counts:\n",
    "            counts[gram] = 1\n",
    "        else:\n",
    "            counts[gram] += 1\n",
    "    return counts\n",
    "\n",
    "# returns the values of features for any list\n",
    "def feature_freq(listname,n,features):\n",
    "\tcounts = dict()\n",
    "\t# make n-grams as string iteratively\n",
    "\tgrams = [' '.join(listname[i:i+n]) for i in range(len(listname)-n)]\n",
    "\tfor gram in grams:\n",
    "\t\tcounts[gram] = 0\n",
    "\tfor gram in grams:\n",
    "\t\tif gram in features:\n",
    "\t\t\tcounts[gram] += 1\n",
    "\treturn counts\n",
    "\n",
    "# values of n for finding n-grams\n",
    "n_values = [1]\n",
    "\n",
    "# Base address for attack data files\n",
    "add = \"ADFA-LD/ADFA-LD/Attack_Data_Master/\"\n",
    "# list of attacks\n",
    "attack = ['Adduser','Hydra_FTP','Hydra_SSH','Java_Meterpreter','Meterpreter','Web_Shell']\n",
    "\n",
    "# initializing dictionary for n-grams from all files\n",
    "traindict = {}\n",
    "\n",
    "Attack_list_new = []\n",
    "print(\"Generating Training Data ..................................\")\n",
    "for term in attack:\n",
    "\tprint(\"\tTraining data from \" + term)\n",
    "\tglobals()['%s_list' % term] = []\n",
    "\tin_address = add+term\n",
    "\tk = 1\n",
    "\t# finding list of data from all files\n",
    "\tfor i in range (1,11):\n",
    "\t\tread_files = glob.glob(in_address+\"_\"+str(i)+\"/*.txt\")\n",
    "\t\tfor f in read_files:\n",
    "\t\t\twith open(f, \"r\") as infile:\n",
    "\t\t\t\tglobals()['%s_list_array' % term+str(k)] = ALine =infile.read()\n",
    "\t\t\t\t#ALine = ALine[:820]                \n",
    "\t\t\t\tAttack_list_new.append(term +','+ str(ALine))\n",
    "\t\t\t\tglobals()['%s_list' % term].extend(globals()['%s_list_array' % term+str(k)])\n",
    "\t\t\t\tk += 1\n",
    "\t# number of lists for distinct files\n",
    "\tglobals()['%s_size' % term] = k-1\n",
    "\t# combined list of all files\n",
    "\tlistname = globals()['%s_list' % term]\n",
    "\t# finding n-grams and extracting top 30%\n",
    "\tfor n in n_values:\n",
    "\t\t#print(\"\t\tExtracting top 30% \"+str(n)+\"-grams from \"+term+\".......................\")\n",
    "\t\tdictname = ngrams_freq(listname,n)\n",
    "\t\ttop = math.ceil(0.3*len(dictname))\n",
    "\t\tdictname = Counter(dictname)\n",
    "\t\tfor k, v in dictname.most_common(top):\n",
    "\t\t\ttraindict.update({k : v})\n",
    "\n",
    "# finding training data for Normal file\n",
    "print(\"\tTraining data from Normal\")\n",
    "Normal_list = []\n",
    "Normal_list_new = []\n",
    "in_address = \"ADFA-LD/ADFA-LD/Training_Data_Master/\"\n",
    "k = 1\n",
    "read_files = glob.glob(in_address+\"/*.txt\")\n",
    "for f in read_files:\n",
    "\twith open(f, \"r\") as infile:\n",
    "\t\tglobals()['Normal%s_list_array' % str(k)] = Line = infile.read()\n",
    "\t\tNormal_list_new.append('Normal,'+ str(Line))\n",
    "\t\tNormal_list.extend(globals()['Normal%s_list_array' % str(k)])\n",
    "\t\tk += 1\n",
    "\n",
    "# number of lists for distinct files\n",
    "Normal_list_size = k-1\n",
    "# combined list of all files\n",
    "listname = Normal_list\n",
    "\n",
    "\n",
    "print(\"\\nnew_train.csv created..............................................\\n\")\n"
   ]
  },
  {
   "cell_type": "code",
   "execution_count": 3,
   "metadata": {},
   "outputs": [],
   "source": [
    "new_train_list = []\n",
    "new_train_list = Normal_list_new + Attack_list_new\n",
    "#new_train_list[1]\n",
    "#Attack_list_new[1]\n"
   ]
  },
  {
   "cell_type": "code",
   "execution_count": 4,
   "metadata": {},
   "outputs": [],
   "source": [
    "new_train_list = []\n",
    "new_train_list = Normal_list_new + Attack_list_new\n",
    "\n",
    "\n",
    "with open('new_train.csv', 'w') as f:\n",
    "    for item in new_train_list:\n",
    "        f.write(\"%s\\n\" % item)       "
   ]
  },
  {
   "cell_type": "code",
   "execution_count": 5,
   "metadata": {
    "scrolled": true
   },
   "outputs": [
    {
     "data": {
      "text/plain": [
       "Normal              833\n",
       "Hydra_SSH           176\n",
       "Hydra_FTP           162\n",
       "Java_Meterpreter    124\n",
       "Web_Shell           118\n",
       "Adduser              91\n",
       "Meterpreter          75\n",
       "Name: Label, dtype: int64"
      ]
     },
     "execution_count": 5,
     "metadata": {},
     "output_type": "execute_result"
    }
   ],
   "source": [
    "train = pd.read_csv(\"./new_train.csv\", sep=',',error_bad_lines=False, header=None, names=['Label','CallTrace'])\n",
    "train.head(5)\n",
    "train.shape\n",
    "#train.info()\n",
    "\n",
    "#train.describe(include = 'all')\n",
    "train_df = train.copy()\n",
    "train['Label'] = train['Label'].astype('category')\n",
    "train['CallTrace'] = train['CallTrace'].astype('category')\n",
    "\n",
    "train['Label'].value_counts()\n",
    "#train['CallTrace'].value_counts()"
   ]
  },
  {
   "cell_type": "code",
   "execution_count": 6,
   "metadata": {},
   "outputs": [
    {
     "data": {
      "text/plain": [
       "5    833\n",
       "2    176\n",
       "1    162\n",
       "3    124\n",
       "6    118\n",
       "0     91\n",
       "4     75\n",
       "Name: Label_Codes, dtype: int64"
      ]
     },
     "execution_count": 6,
     "metadata": {},
     "output_type": "execute_result"
    }
   ],
   "source": [
    "train['Label_Codes'] = train['Label'].cat.codes\n",
    "train['CallTrace_Codes'] = train['CallTrace'].cat.codes\n",
    "train['Label_Codes'].value_counts()"
   ]
  },
  {
   "cell_type": "code",
   "execution_count": 7,
   "metadata": {},
   "outputs": [
    {
     "data": {
      "text/html": [
       "<div>\n",
       "<style scoped>\n",
       "    .dataframe tbody tr th:only-of-type {\n",
       "        vertical-align: middle;\n",
       "    }\n",
       "\n",
       "    .dataframe tbody tr th {\n",
       "        vertical-align: top;\n",
       "    }\n",
       "\n",
       "    .dataframe thead th {\n",
       "        text-align: right;\n",
       "    }\n",
       "</style>\n",
       "<table border=\"1\" class=\"dataframe\">\n",
       "  <thead>\n",
       "    <tr style=\"text-align: right;\">\n",
       "      <th></th>\n",
       "      <th>Label</th>\n",
       "      <th>CallTrace</th>\n",
       "      <th>Label_Codes</th>\n",
       "      <th>CallTrace_Codes</th>\n",
       "    </tr>\n",
       "  </thead>\n",
       "  <tbody>\n",
       "    <tr>\n",
       "      <th>0</th>\n",
       "      <td>Normal</td>\n",
       "      <td>6 6 63 6 42 120 6 195 120 6 6 114 114 1 1 252 ...</td>\n",
       "      <td>5</td>\n",
       "      <td>1407</td>\n",
       "    </tr>\n",
       "    <tr>\n",
       "      <th>1</th>\n",
       "      <td>Normal</td>\n",
       "      <td>54 175 120 175 175 3 175 175 120 175 120 175 1...</td>\n",
       "      <td>5</td>\n",
       "      <td>1239</td>\n",
       "    </tr>\n",
       "    <tr>\n",
       "      <th>2</th>\n",
       "      <td>Normal</td>\n",
       "      <td>6 11 45 33 192 33 5 197 192 6 33 5 3 197 192 1...</td>\n",
       "      <td>5</td>\n",
       "      <td>1286</td>\n",
       "    </tr>\n",
       "    <tr>\n",
       "      <th>3</th>\n",
       "      <td>Normal</td>\n",
       "      <td>7 174 174 5 197 197 6 13 195 4 4 118 6 91 38 5...</td>\n",
       "      <td>5</td>\n",
       "      <td>1465</td>\n",
       "    </tr>\n",
       "    <tr>\n",
       "      <th>4</th>\n",
       "      <td>Normal</td>\n",
       "      <td>11 45 33 192 33 5 197 192 6 33 5 3 197 192 192...</td>\n",
       "      <td>5</td>\n",
       "      <td>93</td>\n",
       "    </tr>\n",
       "  </tbody>\n",
       "</table>\n",
       "</div>"
      ],
      "text/plain": [
       "    Label                                          CallTrace  Label_Codes  \\\n",
       "0  Normal  6 6 63 6 42 120 6 195 120 6 6 114 114 1 1 252 ...            5   \n",
       "1  Normal  54 175 120 175 175 3 175 175 120 175 120 175 1...            5   \n",
       "2  Normal  6 11 45 33 192 33 5 197 192 6 33 5 3 197 192 1...            5   \n",
       "3  Normal  7 174 174 5 197 197 6 13 195 4 4 118 6 91 38 5...            5   \n",
       "4  Normal  11 45 33 192 33 5 197 192 6 33 5 3 197 192 192...            5   \n",
       "\n",
       "   CallTrace_Codes  \n",
       "0             1407  \n",
       "1             1239  \n",
       "2             1286  \n",
       "3             1465  \n",
       "4               93  "
      ]
     },
     "execution_count": 7,
     "metadata": {},
     "output_type": "execute_result"
    }
   ],
   "source": [
    "train.head()"
   ]
  },
  {
   "cell_type": "markdown",
   "metadata": {},
   "source": [
    "# Multinominal Logistic Regression"
   ]
  },
  {
   "cell_type": "code",
   "execution_count": 8,
   "metadata": {},
   "outputs": [
    {
     "name": "stdout",
     "output_type": "stream",
     "text": [
      "Misclassified samples: 145\n",
      "Accuracy: 0.54\n"
     ]
    }
   ],
   "source": [
    "import warnings\n",
    "warnings.filterwarnings(\"ignore\")\n",
    "\n",
    "# split the dataset in train and test\n",
    "X = train.iloc[:, [3]].values\n",
    "y = train.iloc[:, 2].values\n",
    "\n",
    "\n",
    "# Splitting the dataset into the Training set and Test set\n",
    "from sklearn.model_selection import train_test_split\n",
    "X_train, X_test, y_train, y_test = train_test_split(X, y, test_size = 0.2, random_state = 0)\n",
    "\n",
    "# Feature Scaling\n",
    "from sklearn.preprocessing import StandardScaler\n",
    "sc = StandardScaler()\n",
    "X_train = sc.fit_transform(X_train)\n",
    "X_test = sc.transform(X_test)\n",
    "\n",
    "# Fitting Logistic Regression to the Training set\n",
    "from sklearn.linear_model import LogisticRegression\n",
    "classifier = LogisticRegression(multi_class='ovr', solver = 'lbfgs')\n",
    "classifier.fit(X_train, y_train)\n",
    "\n",
    "# Predicting the Test set results\n",
    "y_pred = classifier.predict(X_test)\n",
    "\n",
    "# How did our model perform?\n",
    "from sklearn import metrics\n",
    "count_misclassified = (y_test != y_pred).sum()\n",
    "print('Misclassified samples: {}'.format(count_misclassified))\n",
    "accuracy = metrics.accuracy_score(y_test, y_pred)\n",
    "print('Accuracy: {:.2f}'.format(accuracy))\n",
    "\n",
    "\n"
   ]
  },
  {
   "cell_type": "code",
   "execution_count": 9,
   "metadata": {},
   "outputs": [
    {
     "data": {
      "image/png": "[encoded data removed]",
      "text/plain": [
       "<Figure size 576x432 with 2 Axes>"
      ]
     },
     "metadata": {
      "needs_background": "light"
     },
     "output_type": "display_data"
    }
   ],
   "source": [
    "#classifier.predict_proba(X_test)\n",
    "\n",
    "# Making the Confusion Matrix\n",
    "from sklearn.metrics import confusion_matrix\n",
    "cm = confusion_matrix(y_test, y_pred)\n",
    "plot_confusion_matrix(cm,  \n",
    "                      normalize    = False,\n",
    "                      target_names = ['Adduser', 'Hydra_FTP', 'Hydra_SSH', 'Java_Meterpreter', 'Meterpreter', 'Normal', 'Web_Shell'],\n",
    "                      title        = \"Confusion Matrix\")"
   ]
  },
  {
   "cell_type": "markdown",
   "metadata": {},
   "source": [
    "# Logistic Regression Binary Classification"
   ]
  },
  {
   "cell_type": "code",
   "execution_count": 10,
   "metadata": {},
   "outputs": [
    {
     "data": {
      "text/plain": [
       "0.0    833\n",
       "1.0    746\n",
       "Name: Label_Binary, dtype: int64"
      ]
     },
     "execution_count": 10,
     "metadata": {},
     "output_type": "execute_result"
    }
   ],
   "source": [
    "train.loc[train.Label != 'Normal','Label_Binary']= 1\n",
    "train.loc[train.Label == 'Normal','Label_Binary']= 0\n",
    "train['Label_Binary'].value_counts()\n",
    "#train.head()"
   ]
  },
  {
   "cell_type": "code",
   "execution_count": 11,
   "metadata": {},
   "outputs": [
    {
     "data": {
      "text/html": [
       "<div>\n",
       "<style scoped>\n",
       "    .dataframe tbody tr th:only-of-type {\n",
       "        vertical-align: middle;\n",
       "    }\n",
       "\n",
       "    .dataframe tbody tr th {\n",
       "        vertical-align: top;\n",
       "    }\n",
       "\n",
       "    .dataframe thead th {\n",
       "        text-align: right;\n",
       "    }\n",
       "</style>\n",
       "<table border=\"1\" class=\"dataframe\">\n",
       "  <thead>\n",
       "    <tr style=\"text-align: right;\">\n",
       "      <th></th>\n",
       "      <th>Label</th>\n",
       "      <th>CallTrace</th>\n",
       "      <th>Label_Codes</th>\n",
       "      <th>CallTrace_Codes</th>\n",
       "      <th>Label_Binary</th>\n",
       "    </tr>\n",
       "  </thead>\n",
       "  <tbody>\n",
       "    <tr>\n",
       "      <th>0</th>\n",
       "      <td>Normal</td>\n",
       "      <td>6 6 63 6 42 120 6 195 120 6 6 114 114 1 1 252 ...</td>\n",
       "      <td>5</td>\n",
       "      <td>1407</td>\n",
       "      <td>0.0</td>\n",
       "    </tr>\n",
       "    <tr>\n",
       "      <th>1</th>\n",
       "      <td>Normal</td>\n",
       "      <td>54 175 120 175 175 3 175 175 120 175 120 175 1...</td>\n",
       "      <td>5</td>\n",
       "      <td>1239</td>\n",
       "      <td>0.0</td>\n",
       "    </tr>\n",
       "    <tr>\n",
       "      <th>2</th>\n",
       "      <td>Normal</td>\n",
       "      <td>6 11 45 33 192 33 5 197 192 6 33 5 3 197 192 1...</td>\n",
       "      <td>5</td>\n",
       "      <td>1286</td>\n",
       "      <td>0.0</td>\n",
       "    </tr>\n",
       "    <tr>\n",
       "      <th>3</th>\n",
       "      <td>Normal</td>\n",
       "      <td>7 174 174 5 197 197 6 13 195 4 4 118 6 91 38 5...</td>\n",
       "      <td>5</td>\n",
       "      <td>1465</td>\n",
       "      <td>0.0</td>\n",
       "    </tr>\n",
       "    <tr>\n",
       "      <th>4</th>\n",
       "      <td>Normal</td>\n",
       "      <td>11 45 33 192 33 5 197 192 6 33 5 3 197 192 192...</td>\n",
       "      <td>5</td>\n",
       "      <td>93</td>\n",
       "      <td>0.0</td>\n",
       "    </tr>\n",
       "  </tbody>\n",
       "</table>\n",
       "</div>"
      ],
      "text/plain": [
       "    Label                                          CallTrace  Label_Codes  \\\n",
       "0  Normal  6 6 63 6 42 120 6 195 120 6 6 114 114 1 1 252 ...            5   \n",
       "1  Normal  54 175 120 175 175 3 175 175 120 175 120 175 1...            5   \n",
       "2  Normal  6 11 45 33 192 33 5 197 192 6 33 5 3 197 192 1...            5   \n",
       "3  Normal  7 174 174 5 197 197 6 13 195 4 4 118 6 91 38 5...            5   \n",
       "4  Normal  11 45 33 192 33 5 197 192 6 33 5 3 197 192 192...            5   \n",
       "\n",
       "   CallTrace_Codes  Label_Binary  \n",
       "0             1407           0.0  \n",
       "1             1239           0.0  \n",
       "2             1286           0.0  \n",
       "3             1465           0.0  \n",
       "4               93           0.0  "
      ]
     },
     "execution_count": 11,
     "metadata": {},
     "output_type": "execute_result"
    }
   ],
   "source": [
    "train.head()"
   ]
  },
  {
   "cell_type": "code",
   "execution_count": 12,
   "metadata": {},
   "outputs": [
    {
     "name": "stdout",
     "output_type": "stream",
     "text": [
      "Misclassified samples: 156\n",
      "Accuracy: 0.51\n"
     ]
    }
   ],
   "source": [
    "import warnings\n",
    "warnings.filterwarnings(\"ignore\")\n",
    "\n",
    "# split the dataset in train and test\n",
    "X = train.iloc[:, [3]].values\n",
    "y = train.iloc[:, 4].values\n",
    "\n",
    "\n",
    "# Splitting the dataset into the Training set and Test set\n",
    "from sklearn.model_selection import train_test_split\n",
    "X_train, X_test, y_train, y_test = train_test_split(X, y, test_size = 0.2, random_state = 0)\n",
    "\n",
    "# Feature Scaling\n",
    "from sklearn.preprocessing import StandardScaler\n",
    "sc = StandardScaler()\n",
    "X_train = sc.fit_transform(X_train)\n",
    "X_test = sc.transform(X_test)\n",
    "\n",
    "# Fitting Logistic Regression to the Training set\n",
    "from sklearn.linear_model import LogisticRegression\n",
    "#classifier = LogisticRegression(multi_class='ovr', solver = 'lbfgs')\n",
    "classifier = LogisticRegression()\n",
    "classifier.fit(X_train, y_train)\n",
    "\n",
    "# Predicting the Test set results\n",
    "y_pred = classifier.predict(X_test)\n",
    "\n",
    "# How did our model perform?\n",
    "from sklearn import metrics\n",
    "count_misclassified = (y_test != y_pred).sum()\n",
    "print('Misclassified samples: {}'.format(count_misclassified))\n",
    "accuracy = metrics.accuracy_score(y_test, y_pred)\n",
    "print('Accuracy: {:.2f}'.format(accuracy))\n",
    "\n",
    "\n"
   ]
  },
  {
   "cell_type": "code",
   "execution_count": 13,
   "metadata": {},
   "outputs": [
    {
     "data": {
      "image/png": "[encoded data removed]",
      "text/plain": [
       "<Figure size 576x432 with 2 Axes>"
      ]
     },
     "metadata": {
      "needs_background": "light"
     },
     "output_type": "display_data"
    }
   ],
   "source": [
    "# Making the Confusion Matrix\n",
    "from sklearn.metrics import confusion_matrix\n",
    "cm = confusion_matrix(y_test, y_pred)\n",
    "plot_confusion_matrix(cm,  \n",
    "                      normalize    = False,\n",
    "                      target_names = ['Normal', 'Áttack'],\n",
    "                      title        = \"Confusion Matrix\")"
   ]
  },
  {
   "cell_type": "code",
   "execution_count": 14,
   "metadata": {},
   "outputs": [
    {
     "name": "stdout",
     "output_type": "stream",
     "text": [
      "              precision    recall  f1-score   support\n",
      "\n",
      "         0.0       0.63      0.54      0.58       199\n",
      "         1.0       0.37      0.45      0.40       117\n",
      "\n",
      "   micro avg       0.51      0.51      0.51       316\n",
      "   macro avg       0.50      0.50      0.49       316\n",
      "weighted avg       0.53      0.51      0.51       316\n",
      "\n"
     ]
    }
   ],
   "source": [
    "print(metrics.classification_report(y_pred, y_test))"
   ]
  },
  {
   "cell_type": "markdown",
   "metadata": {},
   "source": [
    "# OneHotEncoding for LogisticRegression"
   ]
  },
  {
   "cell_type": "code",
   "execution_count": 15,
   "metadata": {},
   "outputs": [
    {
     "data": {
      "text/plain": [
       "((1579, 1), (1579,))"
      ]
     },
     "execution_count": 15,
     "metadata": {},
     "output_type": "execute_result"
    }
   ],
   "source": [
    "# Split into predictor and response dataframes.\n",
    "train_df_enc = train_df.copy()\n",
    "X_df = train_df_enc.drop('Label', axis=1)\n",
    "y = train_df_enc['Label']\n",
    "\n",
    "X_df.shape,y.shape"
   ]
  },
  {
   "cell_type": "code",
   "execution_count": 16,
   "metadata": {},
   "outputs": [
    {
     "data": {
      "text/html": [
       "<div>\n",
       "<style scoped>\n",
       "    .dataframe tbody tr th:only-of-type {\n",
       "        vertical-align: middle;\n",
       "    }\n",
       "\n",
       "    .dataframe tbody tr th {\n",
       "        vertical-align: top;\n",
       "    }\n",
       "\n",
       "    .dataframe thead th {\n",
       "        text-align: right;\n",
       "    }\n",
       "</style>\n",
       "<table border=\"1\" class=\"dataframe\">\n",
       "  <thead>\n",
       "    <tr style=\"text-align: right;\">\n",
       "      <th></th>\n",
       "      <th>CallTrace</th>\n",
       "    </tr>\n",
       "  </thead>\n",
       "  <tbody>\n",
       "    <tr>\n",
       "      <th>0</th>\n",
       "      <td>6 6 63 6 42 120 6 195 120 6 6 114 114 1 1 252 ...</td>\n",
       "    </tr>\n",
       "    <tr>\n",
       "      <th>1</th>\n",
       "      <td>54 175 120 175 175 3 175 175 120 175 120 175 1...</td>\n",
       "    </tr>\n",
       "    <tr>\n",
       "      <th>2</th>\n",
       "      <td>6 11 45 33 192 33 5 197 192 6 33 5 3 197 192 1...</td>\n",
       "    </tr>\n",
       "    <tr>\n",
       "      <th>3</th>\n",
       "      <td>7 174 174 5 197 197 6 13 195 4 4 118 6 91 38 5...</td>\n",
       "    </tr>\n",
       "    <tr>\n",
       "      <th>4</th>\n",
       "      <td>11 45 33 192 33 5 197 192 6 33 5 3 197 192 192...</td>\n",
       "    </tr>\n",
       "  </tbody>\n",
       "</table>\n",
       "</div>"
      ],
      "text/plain": [
       "                                           CallTrace\n",
       "0  6 6 63 6 42 120 6 195 120 6 6 114 114 1 1 252 ...\n",
       "1  54 175 120 175 175 3 175 175 120 175 120 175 1...\n",
       "2  6 11 45 33 192 33 5 197 192 6 33 5 3 197 192 1...\n",
       "3  7 174 174 5 197 197 6 13 195 4 4 118 6 91 38 5...\n",
       "4  11 45 33 192 33 5 197 192 6 33 5 3 197 192 192..."
      ]
     },
     "execution_count": 16,
     "metadata": {},
     "output_type": "execute_result"
    }
   ],
   "source": [
    "X_df.head()"
   ]
  },
  {
   "cell_type": "code",
   "execution_count": 17,
   "metadata": {},
   "outputs": [
    {
     "data": {
      "text/html": [
       "<div>\n",
       "<style scoped>\n",
       "    .dataframe tbody tr th:only-of-type {\n",
       "        vertical-align: middle;\n",
       "    }\n",
       "\n",
       "    .dataframe tbody tr th {\n",
       "        vertical-align: top;\n",
       "    }\n",
       "\n",
       "    .dataframe thead th {\n",
       "        text-align: right;\n",
       "    }\n",
       "</style>\n",
       "<table border=\"1\" class=\"dataframe\">\n",
       "  <thead>\n",
       "    <tr style=\"text-align: right;\">\n",
       "      <th></th>\n",
       "      <th>Label</th>\n",
       "      <th>CallTrace</th>\n",
       "    </tr>\n",
       "  </thead>\n",
       "  <tbody>\n",
       "    <tr>\n",
       "      <th>0</th>\n",
       "      <td>Normal</td>\n",
       "      <td>6 6 63 6 42 120 6 195 120 6 6 114 114 1 1 252 ...</td>\n",
       "    </tr>\n",
       "    <tr>\n",
       "      <th>1</th>\n",
       "      <td>Normal</td>\n",
       "      <td>54 175 120 175 175 3 175 175 120 175 120 175 1...</td>\n",
       "    </tr>\n",
       "    <tr>\n",
       "      <th>2</th>\n",
       "      <td>Normal</td>\n",
       "      <td>6 11 45 33 192 33 5 197 192 6 33 5 3 197 192 1...</td>\n",
       "    </tr>\n",
       "    <tr>\n",
       "      <th>3</th>\n",
       "      <td>Normal</td>\n",
       "      <td>7 174 174 5 197 197 6 13 195 4 4 118 6 91 38 5...</td>\n",
       "    </tr>\n",
       "    <tr>\n",
       "      <th>4</th>\n",
       "      <td>Normal</td>\n",
       "      <td>11 45 33 192 33 5 197 192 6 33 5 3 197 192 192...</td>\n",
       "    </tr>\n",
       "  </tbody>\n",
       "</table>\n",
       "</div>"
      ],
      "text/plain": [
       "    Label                                          CallTrace\n",
       "0  Normal  6 6 63 6 42 120 6 195 120 6 6 114 114 1 1 252 ...\n",
       "1  Normal  54 175 120 175 175 3 175 175 120 175 120 175 1...\n",
       "2  Normal  6 11 45 33 192 33 5 197 192 6 33 5 3 197 192 1...\n",
       "3  Normal  7 174 174 5 197 197 6 13 195 4 4 118 6 91 38 5...\n",
       "4  Normal  11 45 33 192 33 5 197 192 6 33 5 3 197 192 192..."
      ]
     },
     "execution_count": 17,
     "metadata": {},
     "output_type": "execute_result"
    }
   ],
   "source": [
    "train_df.head()"
   ]
  },
  {
   "cell_type": "code",
   "execution_count": 18,
   "metadata": {},
   "outputs": [
    {
     "data": {
      "text/plain": [
       "0    833\n",
       "1    746\n",
       "dtype: int64"
      ]
     },
     "execution_count": 18,
     "metadata": {},
     "output_type": "execute_result"
    }
   ],
   "source": [
    "# Map response variable to integers 0,1.\n",
    "y = pd.Series(np.where(y.values != 'Normal',1,0), y.index)\n",
    "y.value_counts()"
   ]
  },
  {
   "cell_type": "code",
   "execution_count": 19,
   "metadata": {},
   "outputs": [],
   "source": [
    "# Label Encode instead of dummy variables\n",
    "\n",
    "mappings = []\n",
    "\n",
    "from sklearn.preprocessing import LabelEncoder\n",
    "\n",
    "label_encoder = LabelEncoder()\n",
    "\n",
    "label_df = train.drop('Label', axis=1)\n",
    "label_df = train.drop('Label_Binary', axis=1)\n",
    "label_df = train.drop('Label_Codes', axis=1)\n",
    "label_df['CallTrace'] = label_df['CallTrace_Codes']\n",
    "label_df = X_df.copy()\n",
    "for i, col in enumerate(label_df):\n",
    "    if label_df[col].dtype == 'object':\n",
    "        label_df[col] = label_encoder.fit_transform(np.array(label_df[col].astype(str)).reshape((-1,)))\n",
    "        mappings.append(dict(zip(label_encoder.classes_, range(1, len(label_encoder.classes_)+1))))"
   ]
  },
  {
   "cell_type": "code",
   "execution_count": 20,
   "metadata": {},
   "outputs": [
    {
     "data": {
      "text/html": [
       "<div>\n",
       "<style scoped>\n",
       "    .dataframe tbody tr th:only-of-type {\n",
       "        vertical-align: middle;\n",
       "    }\n",
       "\n",
       "    .dataframe tbody tr th {\n",
       "        vertical-align: top;\n",
       "    }\n",
       "\n",
       "    .dataframe thead th {\n",
       "        text-align: right;\n",
       "    }\n",
       "</style>\n",
       "<table border=\"1\" class=\"dataframe\">\n",
       "  <thead>\n",
       "    <tr style=\"text-align: right;\">\n",
       "      <th></th>\n",
       "      <th>CallTrace</th>\n",
       "    </tr>\n",
       "  </thead>\n",
       "  <tbody>\n",
       "    <tr>\n",
       "      <th>0</th>\n",
       "      <td>1407</td>\n",
       "    </tr>\n",
       "    <tr>\n",
       "      <th>1</th>\n",
       "      <td>1239</td>\n",
       "    </tr>\n",
       "    <tr>\n",
       "      <th>2</th>\n",
       "      <td>1286</td>\n",
       "    </tr>\n",
       "    <tr>\n",
       "      <th>3</th>\n",
       "      <td>1465</td>\n",
       "    </tr>\n",
       "    <tr>\n",
       "      <th>4</th>\n",
       "      <td>93</td>\n",
       "    </tr>\n",
       "  </tbody>\n",
       "</table>\n",
       "</div>"
      ],
      "text/plain": [
       "   CallTrace\n",
       "0       1407\n",
       "1       1239\n",
       "2       1286\n",
       "3       1465\n",
       "4         93"
      ]
     },
     "execution_count": 20,
     "metadata": {},
     "output_type": "execute_result"
    }
   ],
   "source": [
    "label_df.head()"
   ]
  },
  {
   "cell_type": "code",
   "execution_count": 21,
   "metadata": {},
   "outputs": [],
   "source": [
    "from sklearn.preprocessing import OneHotEncoder\n",
    "\n",
    "\n",
    "onehot_encoder = OneHotEncoder()\n",
    "for i, col in enumerate(label_df):\n",
    "    if label_df[col].dtype == 'object':\n",
    "        label_df[col] = onehot_encoder.fit_transform(np.array(label_df[col].astype(str)).reshape((-1,)))\n",
    "        mappings.append(dict(zip(onehot_encoder.classes_, range(1, len(onehot_encoder.classes_)+1))))"
   ]
  },
  {
   "cell_type": "code",
   "execution_count": 22,
   "metadata": {},
   "outputs": [
    {
     "data": {
      "text/plain": [
       "((1263, 1), (316, 1), (1263,), (316,))"
      ]
     },
     "execution_count": 22,
     "metadata": {},
     "output_type": "execute_result"
    }
   ],
   "source": [
    "X_train, X_test, y_train, y_test = train_test_split(label_df, y, test_size = 0.2, random_state = 10)\n",
    "X_train.shape, X_test.shape, y_train.shape, y_test.shape"
   ]
  },
  {
   "cell_type": "code",
   "execution_count": 23,
   "metadata": {},
   "outputs": [
    {
     "name": "stdout",
     "output_type": "stream",
     "text": [
      "Model accuracy is 0.5569620253164557\n"
     ]
    }
   ],
   "source": [
    "clf = LogisticRegression()\n",
    "model_mix = clf.fit(X_train, y_train)\n",
    "# y_pred = model_norm.predict(X_test)\n",
    "print(\"Model accuracy is\", model_mix.score(X_test, y_test))"
   ]
  },
  {
   "cell_type": "code",
   "execution_count": 24,
   "metadata": {},
   "outputs": [
    {
     "data": {
      "text/plain": [
       "LogisticRegression(C=1.0, class_weight=None, dual=False, fit_intercept=True,\n",
       "          intercept_scaling=1, max_iter=100, multi_class='warn',\n",
       "          n_jobs=None, penalty='l2', random_state=None, solver='warn',\n",
       "          tol=0.0001, verbose=0, warm_start=False)"
      ]
     },
     "execution_count": 24,
     "metadata": {},
     "output_type": "execute_result"
    }
   ],
   "source": [
    "model_mix"
   ]
  },
  {
   "cell_type": "code",
   "execution_count": 25,
   "metadata": {},
   "outputs": [],
   "source": [
    "# logit_roc_auc = roc_auc_score(y_test, model_norm.predict(X_test))\n",
    "# fpr, tpr, thresholds = roc_curve(y_test, model_norm.predict_proba(X_test)[:,1])\n",
    "\n",
    "classes = model_mix.predict(X_test)\n",
    "probs = model_mix.predict_proba(X_test)\n",
    "preds = probs[:,1]\n",
    "#preds"
   ]
  },
  {
   "cell_type": "code",
   "execution_count": 26,
   "metadata": {},
   "outputs": [
    {
     "data": {
      "image/png": "[encoded data removed]",
      "text/plain": [
       "<Figure size 432x288 with 1 Axes>"
      ]
     },
     "metadata": {
      "needs_background": "light"
     },
     "output_type": "display_data"
    }
   ],
   "source": [
    "labelfpr, labeltpr, labelthreshold = metrics.roc_curve(y_test, preds)\n",
    "label_roc_auc = metrics.auc(labelfpr, labeltpr)\n",
    "\n",
    "plt.figure()\n",
    "plt.plot(labelfpr, labeltpr, label='Logistic Regression with LabelEncoder(area = %0.2f)' % label_roc_auc)\n",
    "plt.plot([0, 1], [0, 1],'r--')\n",
    "plt.xlim([0.0, 1.0])\n",
    "plt.ylim([0.0, 1.05])\n",
    "plt.xlabel('False Positive Rate')\n",
    "plt.ylabel('True Positive Rate')\n",
    "plt.title('Receiver operating characteristic')\n",
    "plt.legend(loc=\"lower right\")\n",
    "plt.savefig('Log_ROC')\n",
    "plt.show()"
   ]
  },
  {
   "cell_type": "code",
   "execution_count": 27,
   "metadata": {},
   "outputs": [
    {
     "data": {
      "image/png": "[encoded data removed]",
      "text/plain": [
       "<Figure size 576x432 with 2 Axes>"
      ]
     },
     "metadata": {
      "needs_background": "light"
     },
     "output_type": "display_data"
    }
   ],
   "source": [
    "# Making the Confusion Matrix\n",
    "from sklearn.metrics import confusion_matrix\n",
    "cm = confusion_matrix(y_test, classes)\n",
    "plot_confusion_matrix(cm,  \n",
    "                      normalize    = False,\n",
    "                      target_names = ['Normal', 'Áttack'],\n",
    "                      title        = \"Confusion Matrix\")"
   ]
  },
  {
   "cell_type": "code",
   "execution_count": 28,
   "metadata": {},
   "outputs": [
    {
     "data": {
      "text/plain": [
       "((1263, 1), (316, 1), (1263,), (316,))"
      ]
     },
     "execution_count": 28,
     "metadata": {},
     "output_type": "execute_result"
    }
   ],
   "source": [
    "X_train.shape, X_test.shape, y_train.shape, y_test.shape"
   ]
  },
  {
   "cell_type": "code",
   "execution_count": 29,
   "metadata": {},
   "outputs": [
    {
     "name": "stdout",
     "output_type": "stream",
     "text": [
      "              precision    recall  f1-score   support\n",
      "\n",
      "           0       0.68      0.55      0.61       197\n",
      "           1       0.43      0.57      0.49       119\n",
      "\n",
      "   micro avg       0.56      0.56      0.56       316\n",
      "   macro avg       0.56      0.56      0.55       316\n",
      "weighted avg       0.59      0.56      0.56       316\n",
      "\n"
     ]
    }
   ],
   "source": [
    "print(metrics.classification_report(classes, y_test))"
   ]
  },
  {
   "cell_type": "markdown",
   "metadata": {},
   "source": [
    "# RandomForest Classification"
   ]
  },
  {
   "cell_type": "code",
   "execution_count": 30,
   "metadata": {},
   "outputs": [],
   "source": [
    "# Normalize using MinMaxScaler to constrain values to between 0 and 1.\n",
    "from sklearn.preprocessing import MinMaxScaler, StandardScaler\n",
    "\n",
    "scaler = MinMaxScaler(feature_range = (0,1))\n",
    "\n",
    "scaler.fit(X_train)\n",
    "X_train = scaler.transform(X_train)\n",
    "X_test = scaler.transform(X_test)"
   ]
  },
  {
   "cell_type": "code",
   "execution_count": 31,
   "metadata": {},
   "outputs": [
    {
     "name": "stdout",
     "output_type": "stream",
     "text": [
      "Model accuracy is 0.8037974683544303\n"
     ]
    }
   ],
   "source": [
    "clf = RandomForestClassifier(n_jobs=-1)\n",
    "model_rf = clf.fit(X_train, y_train)\n",
    "print('Model accuracy is',model_rf.score(X_test, y_test))"
   ]
  },
  {
   "cell_type": "code",
   "execution_count": 32,
   "metadata": {},
   "outputs": [
    {
     "data": {
      "image/png": "[encoded data removed]",
      "text/plain": [
       "<Figure size 432x288 with 1 Axes>"
      ]
     },
     "metadata": {
      "needs_background": "light"
     },
     "output_type": "display_data"
    }
   ],
   "source": [
    "probs = model_rf.predict_proba(X_test)\n",
    "preds = probs[:,1]\n",
    "rffpr, rftpr, rfthreshold = metrics.roc_curve(y_test, preds)\n",
    "rf_roc_auc = metrics.auc(rffpr, rftpr)\n",
    "\n",
    "plt.figure()\n",
    "plt.plot(rffpr, rftpr, label='Normalized Random Forest (area = %0.2f)' % rf_roc_auc)\n",
    "plt.plot([0, 1], [0, 1],'r--')\n",
    "plt.xlim([0.0, 1.0])\n",
    "plt.ylim([0.0, 1.05])\n",
    "plt.xlabel('False Positive Rate')\n",
    "plt.ylabel('True Positive Rate')\n",
    "plt.title('Receiver operating characteristic')\n",
    "plt.legend(loc=\"lower right\")\n",
    "plt.savefig('Log_ROC')\n",
    "plt.show()"
   ]
  },
  {
   "cell_type": "code",
   "execution_count": 33,
   "metadata": {},
   "outputs": [
    {
     "data": {
      "image/png": "[encoded data removed]",
      "text/plain": [
       "<Figure size 576x432 with 2 Axes>"
      ]
     },
     "metadata": {
      "needs_background": "light"
     },
     "output_type": "display_data"
    }
   ],
   "source": [
    "# Making the Confusion Matrix\n",
    "from sklearn.metrics import confusion_matrix\n",
    "classes = model_rf.predict(X_test)\n",
    "cm = confusion_matrix(y_test, classes)\n",
    "plot_confusion_matrix(cm,  \n",
    "                      normalize    = False,\n",
    "                      target_names = ['Normal', 'Áttack'],\n",
    "                      title        = \"Confusion Matrix\")"
   ]
  },
  {
   "cell_type": "code",
   "execution_count": 34,
   "metadata": {},
   "outputs": [
    {
     "name": "stdout",
     "output_type": "stream",
     "text": [
      "              precision    recall  f1-score   support\n",
      "\n",
      "           0       0.81      0.81      0.81       159\n",
      "           1       0.80      0.80      0.80       157\n",
      "\n",
      "   micro avg       0.80      0.80      0.80       316\n",
      "   macro avg       0.80      0.80      0.80       316\n",
      "weighted avg       0.80      0.80      0.80       316\n",
      "\n"
     ]
    }
   ],
   "source": [
    "print(metrics.classification_report(classes, y_test))"
   ]
  },
  {
   "cell_type": "markdown",
   "metadata": {},
   "source": [
    "# Train Data with ngrams"
   ]
  },
  {
   "cell_type": "code",
   "execution_count": 35,
   "metadata": {},
   "outputs": [
    {
     "data": {
      "text/html": [
       "<div>\n",
       "<style scoped>\n",
       "    .dataframe tbody tr th:only-of-type {\n",
       "        vertical-align: middle;\n",
       "    }\n",
       "\n",
       "    .dataframe tbody tr th {\n",
       "        vertical-align: top;\n",
       "    }\n",
       "\n",
       "    .dataframe thead th {\n",
       "        text-align: right;\n",
       "    }\n",
       "</style>\n",
       "<table border=\"1\" class=\"dataframe\">\n",
       "  <thead>\n",
       "    <tr style=\"text-align: right;\">\n",
       "      <th></th>\n",
       "      <th>0</th>\n",
       "    </tr>\n",
       "  </thead>\n",
       "  <tbody>\n",
       "    <tr>\n",
       "      <th>accuracy</th>\n",
       "      <td>0.531646</td>\n",
       "    </tr>\n",
       "    <tr>\n",
       "      <th>recall</th>\n",
       "      <td>0.579618</td>\n",
       "    </tr>\n",
       "    <tr>\n",
       "      <th>precision</th>\n",
       "      <td>0.526012</td>\n",
       "    </tr>\n",
       "    <tr>\n",
       "      <th>roc_auc_score</th>\n",
       "      <td>0.531947</td>\n",
       "    </tr>\n",
       "  </tbody>\n",
       "</table>\n",
       "</div>"
      ],
      "text/plain": [
       "                      0\n",
       "accuracy       0.531646\n",
       "recall         0.579618\n",
       "precision      0.526012\n",
       "roc_auc_score  0.531947"
      ]
     },
     "execution_count": 35,
     "metadata": {},
     "output_type": "execute_result"
    }
   ],
   "source": [
    "from sklearn.datasets import make_classification\n",
    "from sklearn.model_selection import train_test_split\n",
    "from sklearn.linear_model import LogisticRegression\n",
    "from sklearn.metrics import accuracy_score, confusion_matrix, recall_score, roc_auc_score, precision_score\n",
    "\n",
    "X, y = make_classification(\n",
    "    n_classes=2, class_sep=1.5, weights=[0.1, 0.9],\n",
    "    n_features=20, n_samples=1000, random_state=10\n",
    ")\n",
    "\n",
    "#X_train, X_test, y_train, y_test = train_test_split(X, y, test_size=0.33, random_state=42)\n",
    "\n",
    "clf = LogisticRegression(class_weight=\"balanced\")\n",
    "clf.fit(X_train, y_train)\n",
    "THRESHOLD = 0.5\n",
    "preds = np.where(clf.predict_proba(X_test)[:,1] > THRESHOLD, 1, 0)\n",
    "\n",
    "pd.DataFrame(data=[accuracy_score(y_test, preds), recall_score(y_test, preds),\n",
    "                   precision_score(y_test, preds), roc_auc_score(y_test, preds)], \n",
    "             index=[\"accuracy\", \"recall\", \"precision\", \"roc_auc_score\"])"
   ]
  },
  {
   "cell_type": "code",
   "execution_count": 36,
   "metadata": {},
   "outputs": [
    {
     "name": "stderr",
     "output_type": "stream",
     "text": [
      "Using TensorFlow backend.\n"
     ]
    }
   ],
   "source": [
    "from sklearn import model_selection, preprocessing, linear_model, naive_bayes, metrics, svm\n",
    "from sklearn.feature_extraction.text import TfidfVectorizer, CountVectorizer\n",
    "from sklearn import decomposition, ensemble\n",
    "\n",
    "import pandas, xgboost, numpy, textblob, string\n",
    "from keras.preprocessing import text, sequence\n",
    "from keras import layers, models, optimizers\n",
    "\n",
    "def train_model(classifier, feature_vector_train, label, feature_vector_valid, is_neural_net=False):\n",
    "    # fit the training dataset on the classifier\n",
    "    classifier.fit(feature_vector_train, label)\n",
    "    \n",
    "    # predict the labels on validation dataset\n",
    "    predictions = classifier.predict(feature_vector_valid)\n",
    "    \n",
    "    if is_neural_net:\n",
    "        predictions = predictions.argmax(axis=-1)\n",
    "    \n",
    "    return metrics.accuracy_score(predictions, valid_y)\n",
    "\n",
    "# load the dataset\n",
    "#data = open('data/corpus').read()\n",
    "#labels, texts = [], []\n",
    "#for i, line in enumerate(data.split(\"\\n\")):\n",
    "#    content = line.split()\n",
    "#    labels.append(content[0])\n",
    "#    texts.append(\" \".join(content[1:]))\n",
    "\n",
    "# create a dataframe using texts and lables\n",
    "#trainDF = pandas.DataFrame()\n",
    "#trainDF['text'] = texts\n",
    "#trainDF['label'] = labels"
   ]
  },
  {
   "cell_type": "code",
   "execution_count": 37,
   "metadata": {},
   "outputs": [
    {
     "data": {
      "text/html": [
       "<div>\n",
       "<style scoped>\n",
       "    .dataframe tbody tr th:only-of-type {\n",
       "        vertical-align: middle;\n",
       "    }\n",
       "\n",
       "    .dataframe tbody tr th {\n",
       "        vertical-align: top;\n",
       "    }\n",
       "\n",
       "    .dataframe thead th {\n",
       "        text-align: right;\n",
       "    }\n",
       "</style>\n",
       "<table border=\"1\" class=\"dataframe\">\n",
       "  <thead>\n",
       "    <tr style=\"text-align: right;\">\n",
       "      <th></th>\n",
       "      <th>CallTrace</th>\n",
       "    </tr>\n",
       "  </thead>\n",
       "  <tbody>\n",
       "    <tr>\n",
       "      <th>0</th>\n",
       "      <td>6 6 63 6 42 120 6 195 120 6 6 114 114 1 1 252 ...</td>\n",
       "    </tr>\n",
       "    <tr>\n",
       "      <th>1</th>\n",
       "      <td>54 175 120 175 175 3 175 175 120 175 120 175 1...</td>\n",
       "    </tr>\n",
       "    <tr>\n",
       "      <th>2</th>\n",
       "      <td>6 11 45 33 192 33 5 197 192 6 33 5 3 197 192 1...</td>\n",
       "    </tr>\n",
       "    <tr>\n",
       "      <th>3</th>\n",
       "      <td>7 174 174 5 197 197 6 13 195 4 4 118 6 91 38 5...</td>\n",
       "    </tr>\n",
       "    <tr>\n",
       "      <th>4</th>\n",
       "      <td>11 45 33 192 33 5 197 192 6 33 5 3 197 192 192...</td>\n",
       "    </tr>\n",
       "  </tbody>\n",
       "</table>\n",
       "</div>"
      ],
      "text/plain": [
       "                                           CallTrace\n",
       "0  6 6 63 6 42 120 6 195 120 6 6 114 114 1 1 252 ...\n",
       "1  54 175 120 175 175 3 175 175 120 175 120 175 1...\n",
       "2  6 11 45 33 192 33 5 197 192 6 33 5 3 197 192 1...\n",
       "3  7 174 174 5 197 197 6 13 195 4 4 118 6 91 38 5...\n",
       "4  11 45 33 192 33 5 197 192 6 33 5 3 197 192 192..."
      ]
     },
     "execution_count": 37,
     "metadata": {},
     "output_type": "execute_result"
    }
   ],
   "source": [
    "X_df.head()"
   ]
  },
  {
   "cell_type": "code",
   "execution_count": 38,
   "metadata": {},
   "outputs": [
    {
     "data": {
      "text/html": [
       "<div>\n",
       "<style scoped>\n",
       "    .dataframe tbody tr th:only-of-type {\n",
       "        vertical-align: middle;\n",
       "    }\n",
       "\n",
       "    .dataframe tbody tr th {\n",
       "        vertical-align: top;\n",
       "    }\n",
       "\n",
       "    .dataframe thead th {\n",
       "        text-align: right;\n",
       "    }\n",
       "</style>\n",
       "<table border=\"1\" class=\"dataframe\">\n",
       "  <thead>\n",
       "    <tr style=\"text-align: right;\">\n",
       "      <th></th>\n",
       "      <th>CallTrace_T</th>\n",
       "    </tr>\n",
       "  </thead>\n",
       "  <tbody>\n",
       "    <tr>\n",
       "      <th>0</th>\n",
       "      <td>6,6,63,6,42,120,6,195,120,6,6,114,114,1,1,252,...</td>\n",
       "    </tr>\n",
       "    <tr>\n",
       "      <th>1</th>\n",
       "      <td>54,175,120,175,175,3,175,175,120,175,120,175,1...</td>\n",
       "    </tr>\n",
       "    <tr>\n",
       "      <th>2</th>\n",
       "      <td>6,11,45,33,192,33,5,197,192,6,33,5,3,197,192,1...</td>\n",
       "    </tr>\n",
       "    <tr>\n",
       "      <th>3</th>\n",
       "      <td>7,174,174,5,197,197,6,13,195,4,4,118,6,91,38,5...</td>\n",
       "    </tr>\n",
       "    <tr>\n",
       "      <th>4</th>\n",
       "      <td>11,45,33,192,33,5,197,192,6,33,5,3,197,192,192...</td>\n",
       "    </tr>\n",
       "  </tbody>\n",
       "</table>\n",
       "</div>"
      ],
      "text/plain": [
       "                                         CallTrace_T\n",
       "0  6,6,63,6,42,120,6,195,120,6,6,114,114,1,1,252,...\n",
       "1  54,175,120,175,175,3,175,175,120,175,120,175,1...\n",
       "2  6,11,45,33,192,33,5,197,192,6,33,5,3,197,192,1...\n",
       "3  7,174,174,5,197,197,6,13,195,4,4,118,6,91,38,5...\n",
       "4  11,45,33,192,33,5,197,192,6,33,5,3,197,192,192..."
      ]
     },
     "execution_count": 38,
     "metadata": {},
     "output_type": "execute_result"
    }
   ],
   "source": [
    "# create a dataframe using texts and lables\n",
    "trainDF = train_df.copy()\n",
    "\n",
    "trainDF['CallTrace_T'] = trainDF.CallTrace.str.split(' ').str.join(',').astype(str)\n",
    "#X_df = trainDF.drop('Label', axis=1)\n",
    "X_df = trainDF.drop(['Label', 'CallTrace'], axis=1)\n",
    "y = trainDF['Label']\n",
    "\n",
    "# split the dataset into training and validation datasets \n",
    "train_x, valid_x, train_y, valid_y = model_selection.train_test_split(X_df, y)\n",
    "\n",
    "# label encode the target variable \n",
    "encoder = preprocessing.LabelEncoder()\n",
    "train_y = encoder.fit_transform(train_y)\n",
    "valid_y = encoder.fit_transform(valid_y)\n",
    "\n",
    "X_df.head()"
   ]
  },
  {
   "cell_type": "code",
   "execution_count": 39,
   "metadata": {},
   "outputs": [
    {
     "data": {
      "text/plain": [
       "((1184, 1), (395, 1), (1184,), (395,))"
      ]
     },
     "execution_count": 39,
     "metadata": {},
     "output_type": "execute_result"
    }
   ],
   "source": [
    "train_x.shape, valid_x.shape, train_y.shape, valid_y.shape"
   ]
  },
  {
   "cell_type": "markdown",
   "metadata": {},
   "source": [
    "## Feature Engineering\n",
    "\n",
    "2.1 Count Vectors as features\n",
    "\n",
    "2.2 TF-IDF Vectors as features\n",
    "\n",
    " Word level\n",
    "\n",
    " N-Gram level\n",
    "\n",
    " Character level\n",
    "\n",
    " 2.3 Word Embeddings as features\n",
    "\n",
    " 2.4 Text / NLP based features\n",
    "\n",
    " 2.5 Topic Models as features\n"
   ]
  },
  {
   "cell_type": "code",
   "execution_count": 40,
   "metadata": {},
   "outputs": [
    {
     "name": "stdout",
     "output_type": "stream",
     "text": [
      "[[0 0 0 0 0 0 0 0 0 0 0 0 0 0 0 0 0 0 0 0 0 0 0 0 0 0 0 0 0 0 0 0 0 0 0 0\n",
      "  0 0 0 0 0 0 0 0 0 0 0 0 0 0 0 0 0 0 0 0 0 0 0 0 0 0 0 0 0 0 0 0 0 0 0 0\n",
      "  0 0 0 0 0 0 0 0 0 0 0 0 0 0 0 0 0 0 0 0 0 0 0 0 0 0 0 0 0 0 0 0 0 0 0 0\n",
      "  0 0 0 0 0 0 0 0 0 0 0 0 0 0 0 0 0 0 0 0 0 0 0 0 0 0 0 0 0 0 0 0 0 0 0 0\n",
      "  0 0 0 0 0 0 0 0 0]]\n",
      "{'6': 133, '63': 135, '42': 127, '120': 11, '195': 49, '114': 6, '1': 0, '252': 84, '54': 131, '175': 38, '3': 105, '7': 139, '119': 9, '174': 37, '140': 18, '11': 4, '45': 129, '33': 117, '192': 47, '5': 130, '197': 51, '243': 83, '125': 13, '91': 147, '258': 88, '311': 112, '240': 81, '191': 46, '122': 12, '268': 95, '201': 56, '196': 50, '38': 122, '13': 15, '4': 124, '118': 8, '194': 48, '221': 72, '66': 138, '12': 10, '60': 134, '220': 71, '199': 53, '10': 1, '85': 145, '83': 144, '96': 150, '97': 151, '289': 100, '163': 33, '141': 19, '331': 118, '78': 142, '57': 132, '168': 34, '146': 23, '102': 2, '202': 57, '158': 29, '265': 93, '219': 70, '300': 107, '133': 17, '160': 31, '159': 30, '142': 20, '180': 41, '207': 62, '94': 149, '9': 146, '41': 126, '39': 123, '272': 99, '340': 120, '155': 26, '157': 28, '266': 94, '183': 42, '19': 45, '209': 64, '205': 60, '143': 21, '254': 85, '255': 86, '179': 40, '27': 97, '332': 119, '292': 101, '99': 152, '93': 148, '117': 7, '15': 25, '293': 102, '269': 96, '75': 140, '204': 59, '203': 58, '213': 68, '200': 55, '20': 54, '64': 136, '30': 106, '308': 110, '162': 32, '211': 66, '40': 125, '314': 113, '198': 52, '212': 67, '37': 121, '256': 87, '128': 14, '21': 65, '301': 108, '295': 103, '65': 137, '307': 109, '259': 89, '260': 91, '264': 92, '214': 69, '172': 35, '104': 3, '208': 63, '110': 5, '132': 16, '176': 39, '229': 76, '226': 74, '206': 61, '8': 143, '77': 141, '43': 128, '309': 111, '322': 115, '233': 79, '144': 22, '270': 98, '148': 24, '242': 82, '320': 114, '231': 78, '228': 75, '298': 104, '26': 90, '184': 43, '224': 73, '185': 44, '234': 80, '230': 77, '324': 116, '173': 36, '156': 27}\n",
      "(1, 153)\n"
     ]
    }
   ],
   "source": [
    "# create a count vectorizer object \n",
    "count_vect = CountVectorizer(analyzer='word', token_pattern=r'\\w{1,}')\n",
    "count_vect.fit(trainDF['CallTrace_T'])\n",
    "\n",
    "# transform the training and validation data using count vectorizer object\n",
    "xtrain_count =  count_vect.transform(train_x)\n",
    "xvalid_count =  count_vect.transform(valid_x)\n",
    "\n",
    "print(xtrain_count.toarray())\n",
    "print(count_vect.vocabulary_)\n",
    "print(xtrain_count.shape)\n",
    "#xt_count =pd.DataFrame(xtrain_count.A, columns=count_vect.get_feature_names())\n",
    "#xt_count.shape\n",
    "#print(pd.DataFrame(xtrain_count.A, columns=count_vect.get_feature_names()).to_string())"
   ]
  },
  {
   "cell_type": "code",
   "execution_count": 41,
   "metadata": {},
   "outputs": [
    {
     "ename": "ValueError",
     "evalue": "Found input variables with inconsistent numbers of samples: [1, 1184]",
     "output_type": "error",
     "traceback": [
      "\u001b[1;31m---------------------------------------------------------------------------\u001b[0m",
      "\u001b[1;31mValueError\u001b[0m                                Traceback (most recent call last)",
      "\u001b[1;32m<ipython-input-41-3924f370ab03>\u001b[0m in \u001b[0;36m<module>\u001b[1;34m\u001b[0m\n\u001b[0;32m      1\u001b[0m \u001b[1;31m# Linear Classifier on Count Vectors\u001b[0m\u001b[1;33m\u001b[0m\u001b[1;33m\u001b[0m\u001b[1;33m\u001b[0m\u001b[0m\n\u001b[1;32m----> 2\u001b[1;33m \u001b[0maccuracy\u001b[0m \u001b[1;33m=\u001b[0m \u001b[0mtrain_model\u001b[0m\u001b[1;33m(\u001b[0m\u001b[0mlinear_model\u001b[0m\u001b[1;33m.\u001b[0m\u001b[0mLogisticRegression\u001b[0m\u001b[1;33m(\u001b[0m\u001b[1;33m)\u001b[0m\u001b[1;33m,\u001b[0m \u001b[0mxtrain_count\u001b[0m\u001b[1;33m,\u001b[0m \u001b[0mtrain_y\u001b[0m\u001b[1;33m,\u001b[0m \u001b[0mxvalid_count\u001b[0m\u001b[1;33m)\u001b[0m\u001b[1;33m\u001b[0m\u001b[1;33m\u001b[0m\u001b[0m\n\u001b[0m\u001b[0;32m      3\u001b[0m \u001b[0mprint\u001b[0m\u001b[1;33m(\u001b[0m\u001b[1;34m\"LR, Count Vectors: \"\u001b[0m\u001b[1;33m,\u001b[0m \u001b[0maccuracy\u001b[0m\u001b[1;33m)\u001b[0m\u001b[1;33m\u001b[0m\u001b[1;33m\u001b[0m\u001b[0m\n",
      "\u001b[1;32m<ipython-input-36-c766096d1c1b>\u001b[0m in \u001b[0;36mtrain_model\u001b[1;34m(classifier, feature_vector_train, label, feature_vector_valid, is_neural_net)\u001b[0m\n\u001b[0;32m      9\u001b[0m \u001b[1;32mdef\u001b[0m \u001b[0mtrain_model\u001b[0m\u001b[1;33m(\u001b[0m\u001b[0mclassifier\u001b[0m\u001b[1;33m,\u001b[0m \u001b[0mfeature_vector_train\u001b[0m\u001b[1;33m,\u001b[0m \u001b[0mlabel\u001b[0m\u001b[1;33m,\u001b[0m \u001b[0mfeature_vector_valid\u001b[0m\u001b[1;33m,\u001b[0m \u001b[0mis_neural_net\u001b[0m\u001b[1;33m=\u001b[0m\u001b[1;32mFalse\u001b[0m\u001b[1;33m)\u001b[0m\u001b[1;33m:\u001b[0m\u001b[1;33m\u001b[0m\u001b[1;33m\u001b[0m\u001b[0m\n\u001b[0;32m     10\u001b[0m     \u001b[1;31m# fit the training dataset on the classifier\u001b[0m\u001b[1;33m\u001b[0m\u001b[1;33m\u001b[0m\u001b[1;33m\u001b[0m\u001b[0m\n\u001b[1;32m---> 11\u001b[1;33m     \u001b[0mclassifier\u001b[0m\u001b[1;33m.\u001b[0m\u001b[0mfit\u001b[0m\u001b[1;33m(\u001b[0m\u001b[0mfeature_vector_train\u001b[0m\u001b[1;33m,\u001b[0m \u001b[0mlabel\u001b[0m\u001b[1;33m)\u001b[0m\u001b[1;33m\u001b[0m\u001b[1;33m\u001b[0m\u001b[0m\n\u001b[0m\u001b[0;32m     12\u001b[0m \u001b[1;33m\u001b[0m\u001b[0m\n\u001b[0;32m     13\u001b[0m     \u001b[1;31m# predict the labels on validation dataset\u001b[0m\u001b[1;33m\u001b[0m\u001b[1;33m\u001b[0m\u001b[1;33m\u001b[0m\u001b[0m\n",
      "\u001b[1;32m~\\AppData\\Local\\Continuum\\anaconda3\\lib\\site-packages\\sklearn\\linear_model\\logistic.py\u001b[0m in \u001b[0;36mfit\u001b[1;34m(self, X, y, sample_weight)\u001b[0m\n\u001b[0;32m   1283\u001b[0m \u001b[1;33m\u001b[0m\u001b[0m\n\u001b[0;32m   1284\u001b[0m         X, y = check_X_y(X, y, accept_sparse='csr', dtype=_dtype, order=\"C\",\n\u001b[1;32m-> 1285\u001b[1;33m                          accept_large_sparse=solver != 'liblinear')\n\u001b[0m\u001b[0;32m   1286\u001b[0m         \u001b[0mcheck_classification_targets\u001b[0m\u001b[1;33m(\u001b[0m\u001b[0my\u001b[0m\u001b[1;33m)\u001b[0m\u001b[1;33m\u001b[0m\u001b[1;33m\u001b[0m\u001b[0m\n\u001b[0;32m   1287\u001b[0m         \u001b[0mself\u001b[0m\u001b[1;33m.\u001b[0m\u001b[0mclasses_\u001b[0m \u001b[1;33m=\u001b[0m \u001b[0mnp\u001b[0m\u001b[1;33m.\u001b[0m\u001b[0munique\u001b[0m\u001b[1;33m(\u001b[0m\u001b[0my\u001b[0m\u001b[1;33m)\u001b[0m\u001b[1;33m\u001b[0m\u001b[1;33m\u001b[0m\u001b[0m\n",
      "\u001b[1;32m~\\AppData\\Local\\Continuum\\anaconda3\\lib\\site-packages\\sklearn\\utils\\validation.py\u001b[0m in \u001b[0;36mcheck_X_y\u001b[1;34m(X, y, accept_sparse, accept_large_sparse, dtype, order, copy, force_all_finite, ensure_2d, allow_nd, multi_output, ensure_min_samples, ensure_min_features, y_numeric, warn_on_dtype, estimator)\u001b[0m\n\u001b[0;32m    764\u001b[0m         \u001b[0my\u001b[0m \u001b[1;33m=\u001b[0m \u001b[0my\u001b[0m\u001b[1;33m.\u001b[0m\u001b[0mastype\u001b[0m\u001b[1;33m(\u001b[0m\u001b[0mnp\u001b[0m\u001b[1;33m.\u001b[0m\u001b[0mfloat64\u001b[0m\u001b[1;33m)\u001b[0m\u001b[1;33m\u001b[0m\u001b[1;33m\u001b[0m\u001b[0m\n\u001b[0;32m    765\u001b[0m \u001b[1;33m\u001b[0m\u001b[0m\n\u001b[1;32m--> 766\u001b[1;33m     \u001b[0mcheck_consistent_length\u001b[0m\u001b[1;33m(\u001b[0m\u001b[0mX\u001b[0m\u001b[1;33m,\u001b[0m \u001b[0my\u001b[0m\u001b[1;33m)\u001b[0m\u001b[1;33m\u001b[0m\u001b[1;33m\u001b[0m\u001b[0m\n\u001b[0m\u001b[0;32m    767\u001b[0m \u001b[1;33m\u001b[0m\u001b[0m\n\u001b[0;32m    768\u001b[0m     \u001b[1;32mreturn\u001b[0m \u001b[0mX\u001b[0m\u001b[1;33m,\u001b[0m \u001b[0my\u001b[0m\u001b[1;33m\u001b[0m\u001b[1;33m\u001b[0m\u001b[0m\n",
      "\u001b[1;32m~\\AppData\\Local\\Continuum\\anaconda3\\lib\\site-packages\\sklearn\\utils\\validation.py\u001b[0m in \u001b[0;36mcheck_consistent_length\u001b[1;34m(*arrays)\u001b[0m\n\u001b[0;32m    233\u001b[0m     \u001b[1;32mif\u001b[0m \u001b[0mlen\u001b[0m\u001b[1;33m(\u001b[0m\u001b[0muniques\u001b[0m\u001b[1;33m)\u001b[0m \u001b[1;33m>\u001b[0m \u001b[1;36m1\u001b[0m\u001b[1;33m:\u001b[0m\u001b[1;33m\u001b[0m\u001b[1;33m\u001b[0m\u001b[0m\n\u001b[0;32m    234\u001b[0m         raise ValueError(\"Found input variables with inconsistent numbers of\"\n\u001b[1;32m--> 235\u001b[1;33m                          \" samples: %r\" % [int(l) for l in lengths])\n\u001b[0m\u001b[0;32m    236\u001b[0m \u001b[1;33m\u001b[0m\u001b[0m\n\u001b[0;32m    237\u001b[0m \u001b[1;33m\u001b[0m\u001b[0m\n",
      "\u001b[1;31mValueError\u001b[0m: Found input variables with inconsistent numbers of samples: [1, 1184]"
     ]
    }
   ],
   "source": [
    "# Linear Classifier on Count Vectors\n",
    "accuracy = train_model(linear_model.LogisticRegression(), xtrain_count, train_y, xvalid_count)\n",
    "print(\"LR, Count Vectors: \", accuracy)"
   ]
  },
  {
   "cell_type": "code",
   "execution_count": null,
   "metadata": {},
   "outputs": [],
   "source": [
    "# word level tf-idf\n",
    "#tfidf_vect = TfidfVectorizer(analyzer='word', token_pattern=r'\\w{1,}', max_features=5000)\n",
    "#tfidf_vect.fit(trainDF['CallTrace'])\n",
    "#xtrain_tfidf =  tfidf_vect.transform(train_x)\n",
    "#xvalid_tfidf =  tfidf_vect.transform(valid_x)\n",
    "#print(xtrain_tfidf.toarray())\n",
    "#print(tfidf_vect.vocabulary_)\n",
    "#print(xtrain_tfidf.shape)"
   ]
  },
  {
   "cell_type": "code",
   "execution_count": null,
   "metadata": {},
   "outputs": [],
   "source": [
    "# Linear Classifier on Count Vectors\n",
    "#accuracy = train_model(linear_model.LogisticRegression(), xtrain_count, train_y, xvalid_count)\n",
    "#print(\"LR, Count Vectors: \", accuracy)"
   ]
  },
  {
   "cell_type": "code",
   "execution_count": null,
   "metadata": {},
   "outputs": [],
   "source": [
    "# ngram level tf-idf \n",
    "#tfidf_vect_ngram = TfidfVectorizer(analyzer='word', token_pattern=r'\\w{1,}', ngram_range=(2,3), max_features=5000)\n",
    "#tfidf_vect_ngram.fit(trainDF['CallTrace_T'])\n",
    "#xtrain_tfidf_ngram =  tfidf_vect_ngram.transform(train_x)\n",
    "#xvalid_tfidf_ngram =  tfidf_vect_ngram.transform(valid_x)"
   ]
  },
  {
   "cell_type": "code",
   "execution_count": null,
   "metadata": {},
   "outputs": [],
   "source": [
    "# Linear Classifier on Ngram Level TF IDF Vectors\n",
    "#accuracy = train_model(linear_model.LogisticRegression(), xtrain_tfidf_ngram, train_y, xvalid_tfidf_ngram)\n",
    "#print(\"LR, N-Gram Vectors: \", accuracy)"
   ]
  },
  {
   "cell_type": "code",
   "execution_count": null,
   "metadata": {},
   "outputs": [],
   "source": [
    "# characters level tf-idf\n",
    "#tfidf_vect_ngram_chars = TfidfVectorizer(analyzer='char', token_pattern=r'\\w{1,}', ngram_range=(2,3), max_features=5000)\n",
    "#tfidf_vect_ngram_chars.fit(trainDF['CallTrace_T'])\n",
    "#xtrain_tfidf_ngram_chars =  tfidf_vect_ngram_chars.transform(train_x) \n",
    "#xvalid_tfidf_ngram_chars =  tfidf_vect_ngram_chars.transform(valid_x) "
   ]
  },
  {
   "cell_type": "code",
   "execution_count": null,
   "metadata": {},
   "outputs": [],
   "source": [
    "# Linear Classifier on Character Level TF IDF Vectors\n",
    "#accuracy = train_model(linear_model.LogisticRegression(), xtrain_tfidf_ngram_chars, train_y, xvalid_tfidf_ngram_chars)\n",
    "#print(\"LR, CharLevel Vectors: \", accuracy)"
   ]
  }
 ],
 "metadata": {
  "kernelspec": {
   "display_name": "Python 3",
   "language": "python",
   "name": "python3"
  },
  "language_info": {
   "codemirror_mode": {
    "name": "ipython",
    "version": 3
   },
   "file_extension": ".py",
   "mimetype": "text/x-python",
   "name": "python",
   "nbconvert_exporter": "python",
   "pygments_lexer": "ipython3",
   "version": "3.7.1"
  }
 },
 "nbformat": 4,
 "nbformat_minor": 2
}
