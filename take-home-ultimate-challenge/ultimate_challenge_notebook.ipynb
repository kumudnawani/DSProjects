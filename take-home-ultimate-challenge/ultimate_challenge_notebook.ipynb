{
 "cells": [
  {
   "cell_type": "markdown",
   "metadata": {},
   "source": [
    "# Ultimate Challenge\n"
   ]
  },
  {
   "cell_type": "code",
   "execution_count": 1,
   "metadata": {},
   "outputs": [],
   "source": [
    "import warnings\n",
    "warnings.filterwarnings('ignore')\n",
    "\n",
    "import json\n",
    "import pandas as pd\n",
    "import numpy as np\n",
    "import matplotlib.pyplot as plt\n",
    "%matplotlib inline\n",
    "import seaborn as sns\n",
    "sns.set_style(\"whitegrid\")"
   ]
  },
  {
   "cell_type": "markdown",
   "metadata": {},
   "source": [
    "# Part I. EDA of user logins"
   ]
  },
  {
   "cell_type": "markdown",
   "metadata": {},
   "source": [
    "## 1. Import data and basic wrangling"
   ]
  },
  {
   "cell_type": "code",
   "execution_count": 2,
   "metadata": {},
   "outputs": [],
   "source": [
    "with open('logins.json') as f:\n",
    "    data = json.load(f)\n",
    "\n",
    "login = pd.DataFrame(data)"
   ]
  },
  {
   "cell_type": "code",
   "execution_count": 3,
   "metadata": {},
   "outputs": [
    {
     "name": "stdout",
     "output_type": "stream",
     "text": [
      "<class 'pandas.core.frame.DataFrame'>\n",
      "RangeIndex: 93142 entries, 0 to 93141\n",
      "Data columns (total 1 columns):\n",
      "login_time    93142 non-null object\n",
      "dtypes: object(1)\n",
      "memory usage: 727.8+ KB\n"
     ]
    },
    {
     "data": {
      "text/html": [
       "<div>\n",
       "<style scoped>\n",
       "    .dataframe tbody tr th:only-of-type {\n",
       "        vertical-align: middle;\n",
       "    }\n",
       "\n",
       "    .dataframe tbody tr th {\n",
       "        vertical-align: top;\n",
       "    }\n",
       "\n",
       "    .dataframe thead th {\n",
       "        text-align: right;\n",
       "    }\n",
       "</style>\n",
       "<table border=\"1\" class=\"dataframe\">\n",
       "  <thead>\n",
       "    <tr style=\"text-align: right;\">\n",
       "      <th></th>\n",
       "      <th>login_time</th>\n",
       "    </tr>\n",
       "  </thead>\n",
       "  <tbody>\n",
       "    <tr>\n",
       "      <th>0</th>\n",
       "      <td>1970-01-01 20:13:18</td>\n",
       "    </tr>\n",
       "    <tr>\n",
       "      <th>1</th>\n",
       "      <td>1970-01-01 20:16:10</td>\n",
       "    </tr>\n",
       "  </tbody>\n",
       "</table>\n",
       "</div>"
      ],
      "text/plain": [
       "            login_time\n",
       "0  1970-01-01 20:13:18\n",
       "1  1970-01-01 20:16:10"
      ]
     },
     "execution_count": 3,
     "metadata": {},
     "output_type": "execute_result"
    }
   ],
   "source": [
    "login.info()\n",
    "login.head(2)"
   ]
  },
  {
   "cell_type": "code",
   "execution_count": 4,
   "metadata": {},
   "outputs": [
    {
     "data": {
      "text/html": [
       "<div>\n",
       "<style scoped>\n",
       "    .dataframe tbody tr th:only-of-type {\n",
       "        vertical-align: middle;\n",
       "    }\n",
       "\n",
       "    .dataframe tbody tr th {\n",
       "        vertical-align: top;\n",
       "    }\n",
       "\n",
       "    .dataframe thead th {\n",
       "        text-align: right;\n",
       "    }\n",
       "</style>\n",
       "<table border=\"1\" class=\"dataframe\">\n",
       "  <thead>\n",
       "    <tr style=\"text-align: right;\">\n",
       "      <th></th>\n",
       "      <th>login_time</th>\n",
       "    </tr>\n",
       "  </thead>\n",
       "  <tbody>\n",
       "    <tr>\n",
       "      <th>count</th>\n",
       "      <td>93142</td>\n",
       "    </tr>\n",
       "    <tr>\n",
       "      <th>unique</th>\n",
       "      <td>92265</td>\n",
       "    </tr>\n",
       "    <tr>\n",
       "      <th>top</th>\n",
       "      <td>1970-02-24 23:09:57</td>\n",
       "    </tr>\n",
       "    <tr>\n",
       "      <th>freq</th>\n",
       "      <td>3</td>\n",
       "    </tr>\n",
       "  </tbody>\n",
       "</table>\n",
       "</div>"
      ],
      "text/plain": [
       "                 login_time\n",
       "count                 93142\n",
       "unique                92265\n",
       "top     1970-02-24 23:09:57\n",
       "freq                      3"
      ]
     },
     "execution_count": 4,
     "metadata": {},
     "output_type": "execute_result"
    }
   ],
   "source": [
    "login.describe()"
   ]
  },
  {
   "cell_type": "markdown",
   "metadata": {},
   "source": [
    "As shown, there is no missing values, but some duplicated timestamps, especiallly there are 3 entries of the same timestamp of \"1970-02-24 23:09:57\". Without further information on how the data was collected and how frequently a user can login to their account , it's hard to say if these duplicated entries are valid or not. For the following analysis, we will treat them as valid entries. "
   ]
  },
  {
   "cell_type": "code",
   "execution_count": 5,
   "metadata": {},
   "outputs": [
    {
     "data": {
      "text/html": [
       "<div>\n",
       "<style scoped>\n",
       "    .dataframe tbody tr th:only-of-type {\n",
       "        vertical-align: middle;\n",
       "    }\n",
       "\n",
       "    .dataframe tbody tr th {\n",
       "        vertical-align: top;\n",
       "    }\n",
       "\n",
       "    .dataframe thead th {\n",
       "        text-align: right;\n",
       "    }\n",
       "</style>\n",
       "<table border=\"1\" class=\"dataframe\">\n",
       "  <thead>\n",
       "    <tr style=\"text-align: right;\">\n",
       "      <th></th>\n",
       "      <th>login_time</th>\n",
       "    </tr>\n",
       "  </thead>\n",
       "  <tbody>\n",
       "    <tr>\n",
       "      <th>6</th>\n",
       "      <td>1970-01-01 20:12:16</td>\n",
       "    </tr>\n",
       "    <tr>\n",
       "      <th>0</th>\n",
       "      <td>1970-01-01 20:13:18</td>\n",
       "    </tr>\n",
       "    <tr>\n",
       "      <th>1</th>\n",
       "      <td>1970-01-01 20:16:10</td>\n",
       "    </tr>\n",
       "    <tr>\n",
       "      <th>3</th>\n",
       "      <td>1970-01-01 20:16:36</td>\n",
       "    </tr>\n",
       "    <tr>\n",
       "      <th>2</th>\n",
       "      <td>1970-01-01 20:16:37</td>\n",
       "    </tr>\n",
       "  </tbody>\n",
       "</table>\n",
       "</div>"
      ],
      "text/plain": [
       "           login_time\n",
       "6 1970-01-01 20:12:16\n",
       "0 1970-01-01 20:13:18\n",
       "1 1970-01-01 20:16:10\n",
       "3 1970-01-01 20:16:36\n",
       "2 1970-01-01 20:16:37"
      ]
     },
     "execution_count": 5,
     "metadata": {},
     "output_type": "execute_result"
    }
   ],
   "source": [
    "# convert 'login_time' column as datetime format and sort in ascending order\n",
    "login['login_time'] = pd.to_datetime(login.login_time, format=\"%Y-%m-%d\")\n",
    "login = login.sort_values('login_time')\n",
    "login.head()"
   ]
  },
  {
   "cell_type": "markdown",
   "metadata": {},
   "source": [
    "As shown, the original data was not ordered by the timestamp completely. "
   ]
  },
  {
   "cell_type": "markdown",
   "metadata": {},
   "source": [
    "## 2. Aggregate counts based on 15-minute intervals"
   ]
  },
  {
   "cell_type": "code",
   "execution_count": 6,
   "metadata": {},
   "outputs": [],
   "source": [
    "login['count'] = 1\n",
    "login = login.set_index('login_time') # set 'login_time' as the DateTime index"
   ]
  },
  {
   "cell_type": "code",
   "execution_count": 7,
   "metadata": {},
   "outputs": [],
   "source": [
    "# resample these login counts based on 15-minute time intervals\n",
    "login = login.resample('15T').sum()"
   ]
  },
  {
   "cell_type": "code",
   "execution_count": 8,
   "metadata": {},
   "outputs": [
    {
     "data": {
      "text/html": [
       "<div>\n",
       "<style scoped>\n",
       "    .dataframe tbody tr th:only-of-type {\n",
       "        vertical-align: middle;\n",
       "    }\n",
       "\n",
       "    .dataframe tbody tr th {\n",
       "        vertical-align: top;\n",
       "    }\n",
       "\n",
       "    .dataframe thead th {\n",
       "        text-align: right;\n",
       "    }\n",
       "</style>\n",
       "<table border=\"1\" class=\"dataframe\">\n",
       "  <thead>\n",
       "    <tr style=\"text-align: right;\">\n",
       "      <th></th>\n",
       "      <th>count</th>\n",
       "    </tr>\n",
       "    <tr>\n",
       "      <th>login_time</th>\n",
       "      <th></th>\n",
       "    </tr>\n",
       "  </thead>\n",
       "  <tbody>\n",
       "    <tr>\n",
       "      <th>1970-01-01 20:00:00</th>\n",
       "      <td>2</td>\n",
       "    </tr>\n",
       "    <tr>\n",
       "      <th>1970-01-01 20:15:00</th>\n",
       "      <td>6</td>\n",
       "    </tr>\n",
       "    <tr>\n",
       "      <th>1970-01-01 20:30:00</th>\n",
       "      <td>9</td>\n",
       "    </tr>\n",
       "    <tr>\n",
       "      <th>1970-01-01 20:45:00</th>\n",
       "      <td>7</td>\n",
       "    </tr>\n",
       "    <tr>\n",
       "      <th>1970-01-01 21:00:00</th>\n",
       "      <td>1</td>\n",
       "    </tr>\n",
       "  </tbody>\n",
       "</table>\n",
       "</div>"
      ],
      "text/plain": [
       "                     count\n",
       "login_time                \n",
       "1970-01-01 20:00:00      2\n",
       "1970-01-01 20:15:00      6\n",
       "1970-01-01 20:30:00      9\n",
       "1970-01-01 20:45:00      7\n",
       "1970-01-01 21:00:00      1"
      ]
     },
     "execution_count": 8,
     "metadata": {},
     "output_type": "execute_result"
    }
   ],
   "source": [
    "login.head()"
   ]
  },
  {
   "cell_type": "markdown",
   "metadata": {},
   "source": [
    "## 3. Visualizing login patterns and trends"
   ]
  },
  {
   "cell_type": "markdown",
   "metadata": {},
   "source": [
    "### 3.1 Histogram"
   ]
  },
  {
   "cell_type": "code",
   "execution_count": 9,
   "metadata": {},
   "outputs": [
    {
     "data": {
      "image/png": "[encoded data removed]",
      "text/plain": [
       "<Figure size 432x288 with 1 Axes>"
      ]
     },
     "metadata": {},
     "output_type": "display_data"
    }
   ],
   "source": [
    "# understand the basic distribution of login counts at 15-minute intervals\n",
    "login['count'].plot(kind='hist',bins=np.arange(0,90,5),color='blue',title=\"Distribution of login counts at 15-minute interval\");\n",
    "plt.xlabel(\"# of logins within the 15-minute interval\");\n",
    "plt.ylabel(\"Counts\");"
   ]
  },
  {
   "cell_type": "markdown",
   "metadata": {},
   "source": [
    "As shown, most of the login counts at 15-minute interval are in the range of 0-20. <br> "
   ]
  },
  {
   "cell_type": "markdown",
   "metadata": {},
   "source": [
    "### 3.2 Plot the time series"
   ]
  },
  {
   "cell_type": "code",
   "execution_count": 10,
   "metadata": {},
   "outputs": [
    {
     "data": {
      "image/png": "[encoded data removed]",
      "text/plain": [
       "<Figure size 1440x288 with 3 Axes>"
      ]
     },
     "metadata": {},
     "output_type": "display_data"
    }
   ],
   "source": [
    "# plot the time series data\n",
    "plt.figure(figsize=(20,4));\n",
    "ax1 = plt.subplot(1,3,1)\n",
    "login.plot(ax=ax1,color='blue',title='Login traffic (login counts) over the entire time frame',legend=False);\n",
    "ax2 = plt.subplot(1,3,2)\n",
    "login['1970-02'].plot(ax=ax2,color='blue',title='Login traffic (login counts) over a typical one-month period',legend=False);\n",
    "ax3 = plt.subplot(1,3,3)\n",
    "login['1970-02-07':'1970-02-08'].plot(ax=ax3,color='blue', title='Login traffic (login counts) over a typical two-day period',legend=False);"
   ]
  },
  {
   "cell_type": "markdown",
   "metadata": {},
   "source": [
    "The time series trends of login counts at 15-minute interval shows a clear daily cycle and a weekly cycle on top of that, which we will take a deeper look at.<br>"
   ]
  },
  {
   "cell_type": "markdown",
   "metadata": {},
   "source": [
    "### 3.3 Cyclic patterns"
   ]
  },
  {
   "cell_type": "code",
   "execution_count": 11,
   "metadata": {},
   "outputs": [],
   "source": [
    "# extract time features from datetime index\n",
    "login['month'] = login.index.month\n",
    "login['week'] = login.index.week\n",
    "login['day'] = login.index.day\n",
    "login['hour'] = login.index.hour\n",
    "login['dayofweek'] = login.index.dayofweek"
   ]
  },
  {
   "cell_type": "code",
   "execution_count": 12,
   "metadata": {},
   "outputs": [
    {
     "data": {
      "image/png": "[encoded data removed]",
      "text/plain": [
       "<Figure size 1080x360 with 2 Axes>"
      ]
     },
     "metadata": {},
     "output_type": "display_data"
    }
   ],
   "source": [
    "# boxplot showing daily and weekly cycles\n",
    "\n",
    "plt.figure(figsize=(15,5))\n",
    "# daily cycles\n",
    "ax1 = plt.subplot(1,2,1)\n",
    "sns.boxplot(x='hour',y='count',data=login,ax=ax1);\n",
    "ax1.set_title('Boxplot of login counts at 15-min interval by hour of the day');\n",
    "# weekly cycles\n",
    "ax2 = plt.subplot(1,2,2)\n",
    "sns.boxplot(x='dayofweek',y='count',data=login,ax=ax2);\n",
    "ax2.set_title('Boxplot of login counts at 15-min interval by day of the week');\n",
    "ax2.set_xticklabels(['Mon','Tue','Wed','Thu','Fri','Sat','Sun']);"
   ]
  },
  {
   "cell_type": "markdown",
   "metadata": {},
   "source": [
    "As shown, the counts show clear cyclic patterns:<br>\n",
    "1) daily pattern: the login count at 15-minute intervals starts off the day from its daily lowest in the early morning (6am-9am), bounches up to its first spike around lunch time (11am-12pm), followed by a graduate decline in the afternoon till 5pm; it gradually rises back up in the early evening and reaches its second peak in late evening to midnight (21pm-2am). The high counts also show wider distributions in general.<br>\n",
    "2) weekly pattern: the login count at 15-minute intervals sees the lowest on Monday, and gradually ramps up throughout the week, and reaches its peak on weekends. Login counts on Saturday are slightly higher than those on Sunday. Again, the higher counts are associated with wider distributions.<br>\n",
    "\n",
    "However, it's possible that the daily pattern differs between weekdays and weekends. Therefore, a 2D heatmap might reveal more insights on the interplay between daily cycles and weekly cycles."
   ]
  },
  {
   "cell_type": "code",
   "execution_count": 13,
   "metadata": {},
   "outputs": [
    {
     "data": {
      "image/png": "[encoded data removed]",
      "text/plain": [
       "<Figure size 432x288 with 2 Axes>"
      ]
     },
     "metadata": {},
     "output_type": "display_data"
    }
   ],
   "source": [
    "# pivot 'login' dataframe by 'dayofweek' as the index and 'hour' as the column, average the login counts at the values\n",
    "login_p = pd.pivot_table(login, index='dayofweek',columns='hour',values='count',aggfunc='mean')\n",
    "login_p.head(2)\n",
    "\n",
    "# plot the heatmap\n",
    "ax = sns.heatmap(login_p);\n",
    "ax.set_title(\"Average login counts as a function of day of the week and hour of the day\");\n",
    "ax.set_yticklabels(['Mon','Tue','Wed','Thu','Fri','Sat','Sun']);"
   ]
  },
  {
   "cell_type": "markdown",
   "metadata": {},
   "source": [
    "As shown, two distinct daily cycles are observed on weekdays $vs.$ weekends:<br>\n",
    "1) weekdays: the login counts spike before lunch at 11am and late evening 22-23pm, and dips early mornig around 6-8am, and in the afternoon around 16-17pm. On average, the counts are at the lowest on Monday and highest on Friday during weekdays.<br>\n",
    "2) weekends: the login counts reach its peak after midnight around 1am-5am, and dips in the late morning around 8-10am, whereas the entire afternoon and evening see moderate login activities.<br>\n",
    "(note: this underlying weekend pattern was shaddowed earlier due to the small ratio of weekend days vs weekdays.)"
   ]
  },
  {
   "cell_type": "markdown",
   "metadata": {},
   "source": [
    "### 3.4 Trends over time"
   ]
  },
  {
   "cell_type": "code",
   "execution_count": 14,
   "metadata": {},
   "outputs": [
    {
     "data": {
      "image/png": "[encoded data removed]",
      "text/plain": [
       "<Figure size 1080x360 with 2 Axes>"
      ]
     },
     "metadata": {},
     "output_type": "display_data"
    }
   ],
   "source": [
    "# boxplot showing trends over time\n",
    "plt.figure(figsize=(15,5))\n",
    "# monthly statistics over time\n",
    "ax1 = plt.subplot(1,2,1)\n",
    "sns.boxplot(x='month',y='count',data=login,ax=ax1);\n",
    "ax1.set_title('Monthly statistics (boxplot) of login counts over time');\n",
    "ax1.set_xticklabels(['Jan','Feb','Mar','Apr']);\n",
    "# weekly statistics over time\n",
    "ax2 = plt.subplot(1,2,2)\n",
    "sns.boxplot(x='week',y='count',data=login,ax=ax2);\n",
    "ax2.set_title('Weekly statistics (boxplot) of login counts over time');"
   ]
  },
  {
   "cell_type": "markdown",
   "metadata": {},
   "source": [
    "As shown, the login counts at 15-minute interval rise from January to March, followed by a decline in April. This trend over time is even more promininent when looking at the chart of weekly statistics of login counts.<br>\n",
    "The continuous rise in login counts from January to early March (week 1 to 12) shows a good sign of improving user engagement. However, the significant decline in week 15 & 16 (April) might indicate some serious problems, which definitely worth looking into. "
   ]
  },
  {
   "cell_type": "markdown",
   "metadata": {},
   "source": [
    "# Part 2. Experiment and metrics design\n",
    "\n",
    "The neighboring cities of Gotham and Metropolis have complementary circadian rhythms: on weekdays, Ultimate Gotham is most active at night, and Ultimate Metropolis is most active during the day. On weekends, there is reasonable activity in both cities.<br>\n",
    "However, a toll bridge, with a two-way toll, between the two cities causes driver partners to tend to be exclusive to each city. The Ultimate managers of city operations for the two cities have proposed an experiment to encourage driver partners to be available in both cities, by reimbursing all toll costs."
   ]
  },
  {
   "cell_type": "markdown",
   "metadata": {},
   "source": [
    "## 1 What would you choose as the key measure of success of this experiment in encouraging driver partners to serve both cities, and why would you choose this metric?"
   ]
  },
  {
   "cell_type": "markdown",
   "metadata": {},
   "source": [
    "**First we need to find two groups of driver partners:** <br>\n",
    "Group A): driver partners exclusive to city 'Gotham' <br>\n",
    "Group B): driver partners exclusive to city 'Metropolis'<br>\n",
    "\n",
    "**My proposed key measure of success is:**<br>\n",
    "1) the increased time spend in city 'Metropolis' by group A drivers (drivers associated with 'Gotham')<br>\n",
    "2) the increased time spend in city 'Gotham' by group B drivers (drivers associated with 'Metropolis')<br>\n",
    "We should track both groups because this proposed experiment might only have an effect on one of the groups.<br>\n",
    "\n",
    "**Reasons:**<br>\n",
    "**1) this is an effective measure of whether driver partners are serving both cities or not:**<br>\n",
    "If drivers are serving both cities, they must spend time in both cities. For drivers previously exclusive to 'Gotham', they must spend more time in 'Metropolis' if they start to serve both cities, and vise versa. <br>\n",
    "\n",
    "**2) when compared with other effective measures, this is among the easiest-to-collect metric, because it doesn't require additional infrastructures, equipments and policies to be implemented:**<br>\n",
    "\n",
    "Assuming that the toll stations at the two-way toll bridge already keep a record of the toll amount, the driver/vehicle identify (driver ID, or vehicle license plate) and the corresponding timestamp everytime a toll is collected. We can easily compute the time a particular driver spend in a city by looking at the two adjacent toll collection entries of that driver (e.g.: subtracting the timestamp of toll collected in direction 'Gotham'--> 'Metropolis' from the next timestamp of toll collected in direction 'Metropolis'-->'Gotham' is the time the driver spend in city 'Metropolis' during that trip. <br>\n",
    "\n",
    "Therefore, this metric can be obtained based on the existing recording system at the toll bridge. Whereas other more direct measures such as tracking picking up and dropping off locations of driver partners will require installing additional location-tracking devices, and drivers' agreement on participation (being tracked).<br>"
   ]
  },
  {
   "cell_type": "markdown",
   "metadata": {},
   "source": [
    "## 2 Describe a practical experiment you would design to compare the effectiveness of the proposed change in relation to the key measure of success. Please provide details on:"
   ]
  },
  {
   "cell_type": "markdown",
   "metadata": {},
   "source": [
    "**a) how you will implement the experiment?**<br>\n",
    "\n",
    "- First, based on the current toll records, we need to devide the driver partners into two groups proposed above by analyzing the time drivers spent in each city. In particular, we are interested in drivers currently mostly exclusive to city 'Gotham' as group A, and driver currently mostly exclusive to city 'Metropolis' as group B.<br>\n",
    "note: There could be a third group (group C) for drivers currently already serving both cities, depending on the scope of the experiment and the resources (money and labor) available to the experiment. <br>\n",
    "- Secondly, for each group, we will split the group in half randomly. Reach out to the picked drivers in the group (e.g. when they pass the toll-bridge) and provide them with the toll reimbursement offer.<br>\n",
    "- Lastly, for each group, we look at the toll records for all drivers in the group after half of them (the experiment) have been given the offer, and compare their statistics (the time drivers spend in their non-associated city) to see if the difference between the experient and the control is statistically significant."
   ]
  },
  {
   "cell_type": "markdown",
   "metadata": {},
   "source": [
    "**b) what statistical test(s) you will conduct to verify the significance of the observation?**<br>\n",
    "\n",
    "By dividing each group of drivers randomly in half, we can conduct a A/B test. This allows us to evaluate the key metric for each group by comparing the experiment $vs.$ control with the toll reimbursement offer as the only variable. In particular, this allows a comparison within exactly the same timeframe, as workday vs. weekend and weather condition all have an impact on drivers activity.<br>\n",
    "\n",
    "After enough data are collected, we will compute a two-sample t statistic to determine if the average time drivers spend in their non-associated city is significant different between the experiment vs control.<br> \n",
    "* Significance level: 0.05 (or even 0.01)<br>\n",
    "* Null hypothesis is: $$H_0: \\mu_(experiment) - \\mu_(control) = 0$$ \n",
    "* Alternative hypothesis is: $$H_a: \\mu_(experiment) - \\mu_(control) > 0$$\n",
    "\n",
    "We will compute the t-statistics and use $t$ table to find the p-value and draw conclusion."
   ]
  },
  {
   "cell_type": "markdown",
   "metadata": {},
   "source": [
    "**c) how you would interpret the results and provide recommendations to the city operations team along with any caveats:**<br>\n",
    "\n",
    "The interpretation depends on the p-value concluded from the above t-tests for each group.<br> \n",
    "If p-value is smaller than the significance level for both group A and B, the experiment and the results along with the confidence level and the power of the statistical tests should be present to the city operation team, so they can make an informed decision on whether to implement the toll reimbursement strategy or not. <br>\n",
    "\n",
    "The potential caveats are: <br>\n",
    "* the difference is only significant during weekdays, but not on weekends:<br>\n",
    "This is entirely possible given that, there is reasonable activity in both cities on weekends, and the drivers have enough riders by staying only in one city.<br>\n",
    "* the difference is only significant in one group:<br>\n",
    "This is also possible. For instance, city 'Gotham' is mostly active at night. Without bridge toll, drivers associated with city 'Gotham' might be willing to go to city 'Metropolis' during the day for more riders, resulting in a significant difference in this group; <br>\n",
    "But city 'Metropolis' is mostly active during the day, and drivers associated with city 'Metropolis' might not be willing to serve city 'Gotham' at night, especially if they prefer to stay home with family during night time. This will result in non-significant difference in this group. "
   ]
  },
  {
   "cell_type": "markdown",
   "metadata": {},
   "source": [
    "# Part 3. Predictive modeling "
   ]
  },
  {
   "cell_type": "markdown",
   "metadata": {},
   "source": [
    "## 1. Import data"
   ]
  },
  {
   "cell_type": "code",
   "execution_count": 15,
   "metadata": {},
   "outputs": [],
   "source": [
    "with open('ultimate_data_challenge.json') as f:\n",
    "    data = json.load(f)\n",
    "user = pd.DataFrame(data)"
   ]
  },
  {
   "cell_type": "code",
   "execution_count": 16,
   "metadata": {},
   "outputs": [
    {
     "name": "stdout",
     "output_type": "stream",
     "text": [
      "<class 'pandas.core.frame.DataFrame'>\n",
      "RangeIndex: 50000 entries, 0 to 49999\n",
      "Data columns (total 12 columns):\n",
      "avg_dist                  50000 non-null float64\n",
      "avg_rating_by_driver      49799 non-null float64\n",
      "avg_rating_of_driver      41878 non-null float64\n",
      "avg_surge                 50000 non-null float64\n",
      "city                      50000 non-null object\n",
      "last_trip_date            50000 non-null object\n",
      "phone                     49604 non-null object\n",
      "signup_date               50000 non-null object\n",
      "surge_pct                 50000 non-null float64\n",
      "trips_in_first_30_days    50000 non-null int64\n",
      "ultimate_black_user       50000 non-null bool\n",
      "weekday_pct               50000 non-null float64\n",
      "dtypes: bool(1), float64(6), int64(1), object(4)\n",
      "memory usage: 4.2+ MB\n"
     ]
    },
    {
     "data": {
      "text/html": [
       "<div>\n",
       "<style scoped>\n",
       "    .dataframe tbody tr th:only-of-type {\n",
       "        vertical-align: middle;\n",
       "    }\n",
       "\n",
       "    .dataframe tbody tr th {\n",
       "        vertical-align: top;\n",
       "    }\n",
       "\n",
       "    .dataframe thead th {\n",
       "        text-align: right;\n",
       "    }\n",
       "</style>\n",
       "<table border=\"1\" class=\"dataframe\">\n",
       "  <thead>\n",
       "    <tr style=\"text-align: right;\">\n",
       "      <th></th>\n",
       "      <th>avg_dist</th>\n",
       "      <th>avg_rating_by_driver</th>\n",
       "      <th>avg_rating_of_driver</th>\n",
       "      <th>avg_surge</th>\n",
       "      <th>city</th>\n",
       "      <th>last_trip_date</th>\n",
       "      <th>phone</th>\n",
       "      <th>signup_date</th>\n",
       "      <th>surge_pct</th>\n",
       "      <th>trips_in_first_30_days</th>\n",
       "      <th>ultimate_black_user</th>\n",
       "      <th>weekday_pct</th>\n",
       "    </tr>\n",
       "  </thead>\n",
       "  <tbody>\n",
       "    <tr>\n",
       "      <th>0</th>\n",
       "      <td>3.67</td>\n",
       "      <td>5.0</td>\n",
       "      <td>4.7</td>\n",
       "      <td>1.1</td>\n",
       "      <td>King's Landing</td>\n",
       "      <td>2014-06-17</td>\n",
       "      <td>iPhone</td>\n",
       "      <td>2014-01-25</td>\n",
       "      <td>15.4</td>\n",
       "      <td>4</td>\n",
       "      <td>True</td>\n",
       "      <td>46.2</td>\n",
       "    </tr>\n",
       "    <tr>\n",
       "      <th>1</th>\n",
       "      <td>8.26</td>\n",
       "      <td>5.0</td>\n",
       "      <td>5.0</td>\n",
       "      <td>1.0</td>\n",
       "      <td>Astapor</td>\n",
       "      <td>2014-05-05</td>\n",
       "      <td>Android</td>\n",
       "      <td>2014-01-29</td>\n",
       "      <td>0.0</td>\n",
       "      <td>0</td>\n",
       "      <td>False</td>\n",
       "      <td>50.0</td>\n",
       "    </tr>\n",
       "  </tbody>\n",
       "</table>\n",
       "</div>"
      ],
      "text/plain": [
       "   avg_dist  avg_rating_by_driver  avg_rating_of_driver  avg_surge  \\\n",
       "0      3.67                   5.0                   4.7        1.1   \n",
       "1      8.26                   5.0                   5.0        1.0   \n",
       "\n",
       "             city last_trip_date    phone signup_date  surge_pct  \\\n",
       "0  King's Landing     2014-06-17   iPhone  2014-01-25       15.4   \n",
       "1         Astapor     2014-05-05  Android  2014-01-29        0.0   \n",
       "\n",
       "   trips_in_first_30_days  ultimate_black_user  weekday_pct  \n",
       "0                       4                 True         46.2  \n",
       "1                       0                False         50.0  "
      ]
     },
     "execution_count": 16,
     "metadata": {},
     "output_type": "execute_result"
    }
   ],
   "source": [
    "user.info()\n",
    "user.head(2)"
   ]
  },
  {
   "cell_type": "markdown",
   "metadata": {},
   "source": [
    "As shown, there are three columns containing missing information, one being categorical columns and two being numercal columns. These missing value should be dealt with. <br>\n",
    "In addition, there are two columns containing date-related records. These should be converted to datetime format."
   ]
  },
  {
   "cell_type": "markdown",
   "metadata": {},
   "source": [
    "## 2. Data wrangling"
   ]
  },
  {
   "cell_type": "code",
   "execution_count": 17,
   "metadata": {},
   "outputs": [],
   "source": [
    "# convert date-related columns to datetime format\n",
    "user['last_trip_date'] = pd.to_datetime(user.last_trip_date, format='%Y-%m-%d')\n",
    "user['signup_date'] = pd.to_datetime(user.signup_date, format='%Y-%m-%d')"
   ]
  },
  {
   "cell_type": "code",
   "execution_count": 18,
   "metadata": {},
   "outputs": [],
   "source": [
    "# fill in missing values as 'not_available' for the categorical column 'phone'\n",
    "user.phone = user.phone.fillna('not_available')"
   ]
  },
  {
   "cell_type": "markdown",
   "metadata": {},
   "source": [
    "note: the missing values in the two numerical columns, 'avg_rating_by_driver' and 'avg_rating_of_driver', are left as they are for now. A good imputing strategy will be determined later after more insights from EDA. "
   ]
  },
  {
   "cell_type": "code",
   "execution_count": 19,
   "metadata": {},
   "outputs": [
    {
     "name": "stdout",
     "output_type": "stream",
     "text": [
      "---\n",
      " Winterfell        23336\n",
      "Astapor           16534\n",
      "King's Landing    10130\n",
      "Name: city, dtype: int64\n",
      "---\n",
      " iPhone           34582\n",
      "Android          15022\n",
      "not_available      396\n",
      "Name: phone, dtype: int64\n",
      "---\n",
      " False    31146\n",
      "True     18854\n",
      "Name: ultimate_black_user, dtype: int64\n"
     ]
    }
   ],
   "source": [
    "# check on categorical column\n",
    "print(\"---\\n\",user.city.value_counts(dropna=False))\n",
    "print(\"---\\n\",user.phone.value_counts(dropna=False))\n",
    "print(\"---\\n\",user.ultimate_black_user.value_counts(dropna=False))"
   ]
  },
  {
   "cell_type": "markdown",
   "metadata": {},
   "source": [
    "All categorical columns look good."
   ]
  },
  {
   "cell_type": "code",
   "execution_count": 20,
   "metadata": {},
   "outputs": [
    {
     "data": {
      "text/html": [
       "<div>\n",
       "<style scoped>\n",
       "    .dataframe tbody tr th:only-of-type {\n",
       "        vertical-align: middle;\n",
       "    }\n",
       "\n",
       "    .dataframe tbody tr th {\n",
       "        vertical-align: top;\n",
       "    }\n",
       "\n",
       "    .dataframe thead th {\n",
       "        text-align: right;\n",
       "    }\n",
       "</style>\n",
       "<table border=\"1\" class=\"dataframe\">\n",
       "  <thead>\n",
       "    <tr style=\"text-align: right;\">\n",
       "      <th></th>\n",
       "      <th>avg_dist</th>\n",
       "      <th>avg_rating_by_driver</th>\n",
       "      <th>avg_rating_of_driver</th>\n",
       "      <th>avg_surge</th>\n",
       "      <th>surge_pct</th>\n",
       "      <th>trips_in_first_30_days</th>\n",
       "      <th>weekday_pct</th>\n",
       "    </tr>\n",
       "  </thead>\n",
       "  <tbody>\n",
       "    <tr>\n",
       "      <th>count</th>\n",
       "      <td>50000.000000</td>\n",
       "      <td>49799.000000</td>\n",
       "      <td>41878.000000</td>\n",
       "      <td>50000.000000</td>\n",
       "      <td>50000.000000</td>\n",
       "      <td>50000.000000</td>\n",
       "      <td>50000.000000</td>\n",
       "    </tr>\n",
       "    <tr>\n",
       "      <th>mean</th>\n",
       "      <td>5.796827</td>\n",
       "      <td>4.778158</td>\n",
       "      <td>4.601559</td>\n",
       "      <td>1.074764</td>\n",
       "      <td>8.849536</td>\n",
       "      <td>2.278200</td>\n",
       "      <td>60.926084</td>\n",
       "    </tr>\n",
       "    <tr>\n",
       "      <th>std</th>\n",
       "      <td>5.707357</td>\n",
       "      <td>0.446652</td>\n",
       "      <td>0.617338</td>\n",
       "      <td>0.222336</td>\n",
       "      <td>19.958811</td>\n",
       "      <td>3.792684</td>\n",
       "      <td>37.081503</td>\n",
       "    </tr>\n",
       "    <tr>\n",
       "      <th>min</th>\n",
       "      <td>0.000000</td>\n",
       "      <td>1.000000</td>\n",
       "      <td>1.000000</td>\n",
       "      <td>1.000000</td>\n",
       "      <td>0.000000</td>\n",
       "      <td>0.000000</td>\n",
       "      <td>0.000000</td>\n",
       "    </tr>\n",
       "    <tr>\n",
       "      <th>25%</th>\n",
       "      <td>2.420000</td>\n",
       "      <td>4.700000</td>\n",
       "      <td>4.300000</td>\n",
       "      <td>1.000000</td>\n",
       "      <td>0.000000</td>\n",
       "      <td>0.000000</td>\n",
       "      <td>33.300000</td>\n",
       "    </tr>\n",
       "    <tr>\n",
       "      <th>50%</th>\n",
       "      <td>3.880000</td>\n",
       "      <td>5.000000</td>\n",
       "      <td>4.900000</td>\n",
       "      <td>1.000000</td>\n",
       "      <td>0.000000</td>\n",
       "      <td>1.000000</td>\n",
       "      <td>66.700000</td>\n",
       "    </tr>\n",
       "    <tr>\n",
       "      <th>75%</th>\n",
       "      <td>6.940000</td>\n",
       "      <td>5.000000</td>\n",
       "      <td>5.000000</td>\n",
       "      <td>1.050000</td>\n",
       "      <td>8.600000</td>\n",
       "      <td>3.000000</td>\n",
       "      <td>100.000000</td>\n",
       "    </tr>\n",
       "    <tr>\n",
       "      <th>max</th>\n",
       "      <td>160.960000</td>\n",
       "      <td>5.000000</td>\n",
       "      <td>5.000000</td>\n",
       "      <td>8.000000</td>\n",
       "      <td>100.000000</td>\n",
       "      <td>125.000000</td>\n",
       "      <td>100.000000</td>\n",
       "    </tr>\n",
       "  </tbody>\n",
       "</table>\n",
       "</div>"
      ],
      "text/plain": [
       "           avg_dist  avg_rating_by_driver  avg_rating_of_driver     avg_surge  \\\n",
       "count  50000.000000          49799.000000          41878.000000  50000.000000   \n",
       "mean       5.796827              4.778158              4.601559      1.074764   \n",
       "std        5.707357              0.446652              0.617338      0.222336   \n",
       "min        0.000000              1.000000              1.000000      1.000000   \n",
       "25%        2.420000              4.700000              4.300000      1.000000   \n",
       "50%        3.880000              5.000000              4.900000      1.000000   \n",
       "75%        6.940000              5.000000              5.000000      1.050000   \n",
       "max      160.960000              5.000000              5.000000      8.000000   \n",
       "\n",
       "          surge_pct  trips_in_first_30_days   weekday_pct  \n",
       "count  50000.000000            50000.000000  50000.000000  \n",
       "mean       8.849536                2.278200     60.926084  \n",
       "std       19.958811                3.792684     37.081503  \n",
       "min        0.000000                0.000000      0.000000  \n",
       "25%        0.000000                0.000000     33.300000  \n",
       "50%        0.000000                1.000000     66.700000  \n",
       "75%        8.600000                3.000000    100.000000  \n",
       "max      100.000000              125.000000    100.000000  "
      ]
     },
     "execution_count": 20,
     "metadata": {},
     "output_type": "execute_result"
    }
   ],
   "source": [
    "# check on numerical columns\n",
    "user.describe()"
   ]
  },
  {
   "cell_type": "markdown",
   "metadata": {},
   "source": [
    "As shown, the maximum values in some numerical columns look much larger than the mean, but boxplot and histogram were plotted behind the scenes and no apparent outliers are identified. "
   ]
  },
  {
   "cell_type": "code",
   "execution_count": 21,
   "metadata": {},
   "outputs": [
    {
     "name": "stdout",
     "output_type": "stream",
     "text": [
      "---\n",
      " count                   50000\n",
      "unique                    182\n",
      "top       2014-06-29 00:00:00\n",
      "freq                     2036\n",
      "first     2014-01-01 00:00:00\n",
      "last      2014-07-01 00:00:00\n",
      "Name: last_trip_date, dtype: object\n",
      "---\n",
      " count                   50000\n",
      "unique                     31\n",
      "top       2014-01-18 00:00:00\n",
      "freq                     2948\n",
      "first     2014-01-01 00:00:00\n",
      "last      2014-01-31 00:00:00\n",
      "Name: signup_date, dtype: object\n"
     ]
    }
   ],
   "source": [
    "# check on datetime columns\n",
    "print(\"---\\n\", user['last_trip_date'].describe())\n",
    "print(\"---\\n\", user['signup_date'].describe())\n",
    "\n",
    "assert len(user[user.last_trip_date < user.signup_date]) == 0"
   ]
  },
  {
   "cell_type": "markdown",
   "metadata": {},
   "source": [
    "As shown, the 'signup_date' is indeed between '2014-01-01 00:00:00' and '2014-01-31 00:00:00', that is, all users belong to the cohort of January, 2014. <br>\n",
    "In addition, the latest time in the 'last_trip_date' column was '2014-07-01 00:00:00', therefore we assume the data was pulled right after '2014-07-01 00:00:00', that is at least six months after signup for this cohort of users signed up in January, 2014."
   ]
  },
  {
   "cell_type": "markdown",
   "metadata": {},
   "source": [
    "## 3. Compute the fraction of users 'retained'\n",
    "Since the data was pulled on 2014-07-01, therefore a user is considered 'retained' if the user took a trip within the 30 days prior to 2014-07-01. "
   ]
  },
  {
   "cell_type": "code",
   "execution_count": 22,
   "metadata": {},
   "outputs": [
    {
     "data": {
      "text/plain": [
       "Timestamp('2014-06-01 00:00:00')"
      ]
     },
     "execution_count": 22,
     "metadata": {},
     "output_type": "execute_result"
    }
   ],
   "source": [
    "# compute the cutoff time for determing user retention\n",
    "cutoff = user.last_trip_date.max() - pd.Timedelta('30 days')\n",
    "cutoff"
   ]
  },
  {
   "cell_type": "code",
   "execution_count": 23,
   "metadata": {},
   "outputs": [],
   "source": [
    "# determine if a user is retained based on the cutoff time\n",
    "user['retained'] = user.last_trip_date.apply(lambda x: True if x >= cutoff else False)"
   ]
  },
  {
   "cell_type": "code",
   "execution_count": 24,
   "metadata": {},
   "outputs": [
    {
     "data": {
      "text/plain": [
       "0.37608"
      ]
     },
     "execution_count": 24,
     "metadata": {},
     "output_type": "execute_result"
    }
   ],
   "source": [
    "# compute the fraction of user retained\n",
    "user.retained.sum()/len(user)"
   ]
  },
  {
   "cell_type": "markdown",
   "metadata": {},
   "source": [
    "As shown, only 37.6% of all users signed up in January, 2014 are retained six month later. "
   ]
  },
  {
   "cell_type": "markdown",
   "metadata": {},
   "source": [
    "## 4. EDA"
   ]
  },
  {
   "cell_type": "markdown",
   "metadata": {},
   "source": [
    "### 4.1 Correlation of user retention with categorical columns"
   ]
  },
  {
   "cell_type": "code",
   "execution_count": 25,
   "metadata": {},
   "outputs": [
    {
     "data": {
      "image/png": "[encoded data removed]",
      "text/plain": [
       "<Figure size 1080x360 with 2 Axes>"
      ]
     },
     "metadata": {},
     "output_type": "display_data"
    }
   ],
   "source": [
    "# correlation between 'retained' and 'phone'\n",
    "plt.figure(figsize=(15,5))\n",
    "ax1 = plt.subplot(1,2,1)\n",
    "sns.countplot(x='phone', data=user, hue='retained',ax=ax1);\n",
    "ax2 = plt.subplot(1,2,2)\n",
    "sns.countplot(x='phone', data=user[user.phone == 'not_available'], hue='retained',ax=ax2);"
   ]
  },
  {
   "cell_type": "markdown",
   "metadata": {},
   "source": [
    "As shown, user retention is strongly correlated to the type of phone used by the user:<br> iphone users show a much higher retention rate (44.9%) than Android users (20.9%), whereas for users with no phone informaiton available, the rate is in the middle (33.6%)."
   ]
  },
  {
   "cell_type": "code",
   "execution_count": 26,
   "metadata": {},
   "outputs": [
    {
     "data": {
      "image/png": "[encoded data removed]",
      "text/plain": [
       "<Figure size 432x288 with 1 Axes>"
      ]
     },
     "metadata": {},
     "output_type": "display_data"
    }
   ],
   "source": [
    "# correlation between 'retained' and 'city'\n",
    "sns.countplot(x='city', data=user, hue='retained');"
   ]
  },
  {
   "cell_type": "markdown",
   "metadata": {},
   "source": [
    "As shown, user retention is also strongly correlated to the city the user signed up in:<br> King's landing gives the highest retention rate among the three cities, whereas Astapor is the lowest. "
   ]
  },
  {
   "cell_type": "code",
   "execution_count": 27,
   "metadata": {},
   "outputs": [
    {
     "data": {
      "image/png": "[encoded data removed]",
      "text/plain": [
       "<Figure size 432x288 with 1 Axes>"
      ]
     },
     "metadata": {},
     "output_type": "display_data"
    }
   ],
   "source": [
    "# correlation between 'retained' and 'city'\n",
    "sns.countplot(x='ultimate_black_user', data=user, hue='retained');"
   ]
  },
  {
   "cell_type": "markdown",
   "metadata": {},
   "source": [
    "As shown, user retention also correlates to whether a user is an 'ultimate black user':<br> \n",
    "Ultimate black users have a higher retention rate than non ultimate black users."
   ]
  },
  {
   "cell_type": "markdown",
   "metadata": {},
   "source": [
    "### 4.2 Correlation of user retention with numerical columns"
   ]
  },
  {
   "cell_type": "code",
   "execution_count": 28,
   "metadata": {},
   "outputs": [
    {
     "data": {
      "image/png": "[encoded data removed]",
      "text/plain": [
       "<Figure size 432x288 with 2 Axes>"
      ]
     },
     "metadata": {},
     "output_type": "display_data"
    }
   ],
   "source": [
    "sns.heatmap(user.corr(),annot=True);"
   ]
  },
  {
   "cell_type": "markdown",
   "metadata": {},
   "source": [
    "As shown, among the numerical columns, 'trips_in_first_30_days' shows the most positive correlations whereas the 'avg_dist' shows the most negative correlations.<br>\n",
    "There are several numerical columns only showing minor correlations, including 'avg_rating_by_driver' and 'avg_rating_of_driver' columns. Therefore, we will simply use the median of those two columns to impute the missing values."
   ]
  },
  {
   "cell_type": "markdown",
   "metadata": {},
   "source": [
    "### 4.3 Correlation of user retention with datetime columns"
   ]
  },
  {
   "cell_type": "code",
   "execution_count": 29,
   "metadata": {},
   "outputs": [
    {
     "name": "stdout",
     "output_type": "stream",
     "text": [
      "signup_date\n",
      "0    0.387984\n",
      "1    0.376073\n",
      "2    0.376645\n",
      "3    0.360115\n",
      "4    0.370533\n",
      "5    0.380453\n",
      "6    0.384687\n",
      "Name: retained, dtype: float64\n"
     ]
    },
    {
     "data": {
      "image/png": "[encoded data removed]",
      "text/plain": [
       "<Figure size 432x288 with 1 Axes>"
      ]
     },
     "metadata": {},
     "output_type": "display_data"
    }
   ],
   "source": [
    "# correlation between 'retained' and 'day of the week' the user signed up\n",
    "sns.countplot(x=user.signup_date.dt.dayofweek, data=user, hue='retained');\n",
    "print(user.groupby(user.signup_date.dt.dayofweek)['retained'].mean())"
   ]
  },
  {
   "cell_type": "code",
   "execution_count": 30,
   "metadata": {},
   "outputs": [
    {
     "name": "stdout",
     "output_type": "stream",
     "text": [
      "signup_date\n",
      "1    0.413005\n",
      "2    0.377241\n",
      "3    0.358766\n",
      "4    0.374445\n",
      "5    0.370746\n",
      "Name: retained, dtype: float64\n"
     ]
    },
    {
     "data": {
      "image/png": "[encoded data removed]",
      "text/plain": [
       "<Figure size 432x288 with 1 Axes>"
      ]
     },
     "metadata": {},
     "output_type": "display_data"
    }
   ],
   "source": [
    "# correlation between 'retained' and 'week of the month' the user signed up\n",
    "sns.countplot(x=user.signup_date.dt.week, data=user, hue='retained');\n",
    "print(user.groupby(user.signup_date.dt.week)['retained'].mean())\n",
    "\n",
    "# add 'signup_week' as a new featue and drop the original 'signup_date' column\n",
    "user['signup_week'] = user.signup_date.dt.week.astype('category')\n",
    "user = user.drop('signup_date',axis=1)"
   ]
  },
  {
   "cell_type": "markdown",
   "metadata": {},
   "source": [
    "As show, there is little correlation between user retention and on which day of the week they signed up. Therefore, this feature is not added.<br>\n",
    "On the other hand, a minor correlation is observed between user retention and on which week of January they signed up, therefore this is added a new feature, and the original 'signup_date' column is dropped. "
   ]
  },
  {
   "cell_type": "code",
   "execution_count": 31,
   "metadata": {},
   "outputs": [
    {
     "name": "stdout",
     "output_type": "stream",
     "text": [
      "last_trip_date\n",
      "0    0.438352\n",
      "1    0.381611\n",
      "2    0.328779\n",
      "3    0.340780\n",
      "4    0.359635\n",
      "5    0.371874\n",
      "6    0.389008\n",
      "Name: retained, dtype: float64\n"
     ]
    },
    {
     "data": {
      "image/png": "[encoded data removed]",
      "text/plain": [
       "<Figure size 432x288 with 1 Axes>"
      ]
     },
     "metadata": {},
     "output_type": "display_data"
    }
   ],
   "source": [
    "# correlation between 'retained' and 'day of the week' the user's last trip is\n",
    "sns.countplot(x=user.last_trip_date.dt.dayofweek, data=user, hue='retained');\n",
    "print(user.groupby(user.last_trip_date.dt.dayofweek)['retained'].mean())\n",
    "\n",
    "# add 'lasttrip_dayofweek' as a new featue\n",
    "user['lasttrip_dayofweek'] = user.last_trip_date.dt.dayofweek.astype('category')"
   ]
  },
  {
   "cell_type": "code",
   "execution_count": 32,
   "metadata": {},
   "outputs": [
    {
     "data": {
      "image/png": "[encoded data removed]",
      "text/plain": [
       "<Figure size 432x288 with 1 Axes>"
      ]
     },
     "metadata": {},
     "output_type": "display_data"
    }
   ],
   "source": [
    "# correlation between 'retained' and the month the user's last trip is\n",
    "sns.countplot(x=user.last_trip_date.dt.month, data=user, hue='retained');\n",
    "# drop the original 'last_trip_date' column\n",
    "user = user.drop('last_trip_date',axis=1)"
   ]
  },
  {
   "cell_type": "markdown",
   "metadata": {},
   "source": [
    "As show, there is a minor correlation is observed between user retention and on which day of the week the user's last trip occurs, therefore this is added a new feature.<br>\n",
    "On the other hand, the user retention is totally correlated to the month of the last trip as expected, since the the 'retained' user is identified based on their last trip date being 2014-06-01 and after. Therefore, this feature is not added and the original 'last_trip_date' column is dropped."
   ]
  },
  {
   "cell_type": "markdown",
   "metadata": {},
   "source": [
    "## 5. Modeling\n",
    "\n",
    "To predict user adoption of the product, four different classification algorithms are experimented: \n",
    "1. linear Logistic Regression classification algorithm\n",
    "2. non-linear Support Vector Machine classification algorithm\n",
    "3. ensembles of tree-based Random Forest classification algorithm \n",
    "4. ensembles of tree-based Gradient Boosting classification algorithm"
   ]
  },
  {
   "cell_type": "code",
   "execution_count": 33,
   "metadata": {},
   "outputs": [
    {
     "name": "stderr",
     "output_type": "stream",
     "text": [
      "/anaconda3/lib/python3.6/site-packages/sklearn/ensemble/weight_boosting.py:29: DeprecationWarning: numpy.core.umath_tests is an internal NumPy module and should not be imported. It will be removed in a future NumPy release.\n",
      "  from numpy.core.umath_tests import inner1d\n"
     ]
    }
   ],
   "source": [
    "from sklearn.preprocessing import StandardScaler\n",
    "from sklearn.model_selection import train_test_split\n",
    "from sklearn.model_selection import GridSearchCV\n",
    "from sklearn.pipeline import Pipeline\n",
    "from sklearn.linear_model import LogisticRegression\n",
    "from sklearn.svm import SVC\n",
    "from sklearn.ensemble import RandomForestClassifier, GradientBoostingClassifier\n",
    "\n",
    "from sklearn.metrics import accuracy_score, f1_score, classification_report"
   ]
  },
  {
   "cell_type": "markdown",
   "metadata": {},
   "source": [
    "### 5.1 Setup"
   ]
  },
  {
   "cell_type": "code",
   "execution_count": 34,
   "metadata": {},
   "outputs": [],
   "source": [
    "# impute missing values in 'avg_rating_by_driver' and 'avg_rating_of_driver' columns\n",
    "user['avg_rating_by_driver'] = user.avg_rating_by_driver.fillna(user.avg_rating_by_driver.median())\n",
    "user['avg_rating_of_driver'] = user.avg_rating_of_driver.fillna(user.avg_rating_of_driver.median())"
   ]
  },
  {
   "cell_type": "code",
   "execution_count": 35,
   "metadata": {},
   "outputs": [
    {
     "data": {
      "text/html": [
       "<div>\n",
       "<style scoped>\n",
       "    .dataframe tbody tr th:only-of-type {\n",
       "        vertical-align: middle;\n",
       "    }\n",
       "\n",
       "    .dataframe tbody tr th {\n",
       "        vertical-align: top;\n",
       "    }\n",
       "\n",
       "    .dataframe thead th {\n",
       "        text-align: right;\n",
       "    }\n",
       "</style>\n",
       "<table border=\"1\" class=\"dataframe\">\n",
       "  <thead>\n",
       "    <tr style=\"text-align: right;\">\n",
       "      <th></th>\n",
       "      <th>avg_dist</th>\n",
       "      <th>avg_rating_by_driver</th>\n",
       "      <th>avg_rating_of_driver</th>\n",
       "      <th>avg_surge</th>\n",
       "      <th>surge_pct</th>\n",
       "      <th>trips_in_first_30_days</th>\n",
       "      <th>ultimate_black_user</th>\n",
       "      <th>weekday_pct</th>\n",
       "      <th>city_King's Landing</th>\n",
       "      <th>city_Winterfell</th>\n",
       "      <th>...</th>\n",
       "      <th>signup_week_2</th>\n",
       "      <th>signup_week_3</th>\n",
       "      <th>signup_week_4</th>\n",
       "      <th>signup_week_5</th>\n",
       "      <th>lasttrip_dayofweek_1</th>\n",
       "      <th>lasttrip_dayofweek_2</th>\n",
       "      <th>lasttrip_dayofweek_3</th>\n",
       "      <th>lasttrip_dayofweek_4</th>\n",
       "      <th>lasttrip_dayofweek_5</th>\n",
       "      <th>lasttrip_dayofweek_6</th>\n",
       "    </tr>\n",
       "  </thead>\n",
       "  <tbody>\n",
       "    <tr>\n",
       "      <th>0</th>\n",
       "      <td>3.67</td>\n",
       "      <td>5.0</td>\n",
       "      <td>4.7</td>\n",
       "      <td>1.1</td>\n",
       "      <td>15.4</td>\n",
       "      <td>4</td>\n",
       "      <td>True</td>\n",
       "      <td>46.2</td>\n",
       "      <td>1</td>\n",
       "      <td>0</td>\n",
       "      <td>...</td>\n",
       "      <td>0</td>\n",
       "      <td>0</td>\n",
       "      <td>1</td>\n",
       "      <td>0</td>\n",
       "      <td>1</td>\n",
       "      <td>0</td>\n",
       "      <td>0</td>\n",
       "      <td>0</td>\n",
       "      <td>0</td>\n",
       "      <td>0</td>\n",
       "    </tr>\n",
       "    <tr>\n",
       "      <th>1</th>\n",
       "      <td>8.26</td>\n",
       "      <td>5.0</td>\n",
       "      <td>5.0</td>\n",
       "      <td>1.0</td>\n",
       "      <td>0.0</td>\n",
       "      <td>0</td>\n",
       "      <td>False</td>\n",
       "      <td>50.0</td>\n",
       "      <td>0</td>\n",
       "      <td>0</td>\n",
       "      <td>...</td>\n",
       "      <td>0</td>\n",
       "      <td>0</td>\n",
       "      <td>0</td>\n",
       "      <td>1</td>\n",
       "      <td>0</td>\n",
       "      <td>0</td>\n",
       "      <td>0</td>\n",
       "      <td>0</td>\n",
       "      <td>0</td>\n",
       "      <td>0</td>\n",
       "    </tr>\n",
       "  </tbody>\n",
       "</table>\n",
       "<p>2 rows × 22 columns</p>\n",
       "</div>"
      ],
      "text/plain": [
       "   avg_dist  avg_rating_by_driver  avg_rating_of_driver  avg_surge  surge_pct  \\\n",
       "0      3.67                   5.0                   4.7        1.1       15.4   \n",
       "1      8.26                   5.0                   5.0        1.0        0.0   \n",
       "\n",
       "   trips_in_first_30_days  ultimate_black_user  weekday_pct  \\\n",
       "0                       4                 True         46.2   \n",
       "1                       0                False         50.0   \n",
       "\n",
       "   city_King's Landing  city_Winterfell          ...           signup_week_2  \\\n",
       "0                    1                0          ...                       0   \n",
       "1                    0                0          ...                       0   \n",
       "\n",
       "   signup_week_3  signup_week_4  signup_week_5  lasttrip_dayofweek_1  \\\n",
       "0              0              1              0                     1   \n",
       "1              0              0              1                     0   \n",
       "\n",
       "   lasttrip_dayofweek_2  lasttrip_dayofweek_3  lasttrip_dayofweek_4  \\\n",
       "0                     0                     0                     0   \n",
       "1                     0                     0                     0   \n",
       "\n",
       "   lasttrip_dayofweek_5  lasttrip_dayofweek_6  \n",
       "0                     0                     0  \n",
       "1                     0                     0  \n",
       "\n",
       "[2 rows x 22 columns]"
      ]
     },
     "execution_count": 35,
     "metadata": {},
     "output_type": "execute_result"
    }
   ],
   "source": [
    "# extract features X and target variable y\n",
    "X = pd.get_dummies(user.drop('retained',axis=1), drop_first=True)\n",
    "y = user.retained\n",
    "\n",
    "X.head(2)"
   ]
  },
  {
   "cell_type": "code",
   "execution_count": 36,
   "metadata": {},
   "outputs": [],
   "source": [
    "# train-test split\n",
    "X_train, X_test, y_train, y_test = train_test_split(X, y, stratify=y, random_state=42)"
   ]
  },
  {
   "cell_type": "code",
   "execution_count": 37,
   "metadata": {},
   "outputs": [],
   "source": [
    "# initiate the score table\n",
    "index = ['LogisticRegression','SVC','RandomForestClassifier','GradientBoostingClassifier']\n",
    "score_table = pd.DataFrame(index = index, columns= ['accuracy_train','f1_score_train','accuracy_test','f1_score_test'])\n",
    "\n",
    "# define function for plotting the results\n",
    "def compute_log_result(algo, pred_train, pred_test):\n",
    "    \"\"\"compute and log the performance for both training and test sets\"\"\"\n",
    "    \n",
    "    # compute the performance  \n",
    "    accuracy_train = accuracy_score(y_train, pred_train)\n",
    "    accuracy_test = accuracy_score(y_test, pred_test)\n",
    "    f1_train = f1_score(y_train, pred_train)\n",
    "    f1_test = f1_score(y_test, pred_test)\n",
    "    \n",
    "    # log the performance\n",
    "    score_table.loc[algo,:] = accuracy_train, f1_train, accuracy_test, f1_test\n",
    "    \n",
    "    # compute confusion matrix and print\n",
    "    print(\"Classification results based on the testset:\\n\", classification_report(y_test, pred_test))"
   ]
  },
  {
   "cell_type": "markdown",
   "metadata": {},
   "source": [
    "### 5.2 Prototyping with default parameters"
   ]
  },
  {
   "cell_type": "code",
   "execution_count": 38,
   "metadata": {},
   "outputs": [
    {
     "name": "stdout",
     "output_type": "stream",
     "text": [
      "Classification results based on the testset:\n",
      "              precision    recall  f1-score   support\n",
      "\n",
      "      False       0.74      0.85      0.79      7799\n",
      "       True       0.67      0.50      0.57      4701\n",
      "\n",
      "avg / total       0.71      0.72      0.71     12500\n",
      "\n"
     ]
    }
   ],
   "source": [
    "# fit logistic regression model with default parameters\n",
    "\n",
    "logit = Pipeline([('scaler', StandardScaler()),('logit',LogisticRegression())])\n",
    "logit.fit(X_train, y_train)\n",
    "pred_train = logit.predict(X_train)\n",
    "pred_test = logit.predict(X_test)\n",
    "\n",
    "# logging of model performance\n",
    "compute_log_result(\"LogisticRegression\", pred_train, pred_test)"
   ]
  },
  {
   "cell_type": "code",
   "execution_count": 39,
   "metadata": {},
   "outputs": [
    {
     "name": "stdout",
     "output_type": "stream",
     "text": [
      "Classification results based on the testset:\n",
      "              precision    recall  f1-score   support\n",
      "\n",
      "      False       0.78      0.86      0.82      7799\n",
      "       True       0.72      0.59      0.65      4701\n",
      "\n",
      "avg / total       0.76      0.76      0.75     12500\n",
      "\n"
     ]
    }
   ],
   "source": [
    "# fit support vector machine model with default parameters\n",
    "\n",
    "svc = Pipeline([('scaler', StandardScaler()),('svc', SVC())])\n",
    "svc.fit(X_train, y_train)\n",
    "pred_train = svc.predict(X_train)\n",
    "pred_test = svc.predict(X_test)\n",
    "\n",
    "# logging of model performance\n",
    "compute_log_result(\"SVC\", pred_train, pred_test)"
   ]
  },
  {
   "cell_type": "code",
   "execution_count": 40,
   "metadata": {},
   "outputs": [
    {
     "name": "stdout",
     "output_type": "stream",
     "text": [
      "Classification results based on the testset:\n",
      "              precision    recall  f1-score   support\n",
      "\n",
      "      False       0.78      0.86      0.82      7799\n",
      "       True       0.72      0.59      0.65      4701\n",
      "\n",
      "avg / total       0.75      0.76      0.75     12500\n",
      "\n"
     ]
    }
   ],
   "source": [
    "# fit random forest model with default parameters\n",
    "\n",
    "rfc = Pipeline([('scaler', StandardScaler()),('rfc', RandomForestClassifier(class_weight='balanced'))]) # set class_weight='balanced' to adjust for the imbalanced classes\n",
    "rfc.fit(X_train, y_train)\n",
    "pred_train = rfc.predict(X_train)\n",
    "pred_test = rfc.predict(X_test)\n",
    "\n",
    "compute_log_result(\"RandomForestClassifier\", pred_train, pred_test)"
   ]
  },
  {
   "cell_type": "code",
   "execution_count": 41,
   "metadata": {},
   "outputs": [
    {
     "name": "stdout",
     "output_type": "stream",
     "text": [
      "Classification results based on the testset:\n",
      "              precision    recall  f1-score   support\n",
      "\n",
      "      False       0.81      0.86      0.84      7799\n",
      "       True       0.74      0.67      0.70      4701\n",
      "\n",
      "avg / total       0.79      0.79      0.79     12500\n",
      "\n"
     ]
    }
   ],
   "source": [
    "# fit gradientboosting model with default parameters\n",
    "\n",
    "gbc = Pipeline([('scaler', StandardScaler()),('gbc', GradientBoostingClassifier())]) # set class_weight='balanced' to adjust for the imbalanced classes\n",
    "gbc.fit(X_train, y_train)\n",
    "pred_train = gbc.predict(X_train)\n",
    "pred_test = gbc.predict(X_test)\n",
    "\n",
    "compute_log_result(\"GradientBoostingClassifier\", pred_train, pred_test)"
   ]
  },
  {
   "cell_type": "code",
   "execution_count": 42,
   "metadata": {},
   "outputs": [
    {
     "name": "stdout",
     "output_type": "stream",
     "text": [
      "                           accuracy_train f1_score_train accuracy_test  \\\n",
      "LogisticRegression                0.72232       0.576828       0.71928   \n",
      "SVC                              0.780507       0.677885       0.75896   \n",
      "RandomForestClassifier           0.982827       0.976786       0.75776   \n",
      "GradientBoostingClassifier       0.788507       0.702992       0.78888   \n",
      "\n",
      "                           f1_score_test  \n",
      "LogisticRegression              0.570659  \n",
      "SVC                             0.647066  \n",
      "RandomForestClassifier          0.646592  \n",
      "GradientBoostingClassifier      0.704843  \n"
     ]
    }
   ],
   "source": [
    "print(score_table)"
   ]
  },
  {
   "cell_type": "markdown",
   "metadata": {},
   "source": [
    "### 5.3 Optimization\n",
    "As shown, with the default parameters, GradientBoostingClassifier gives the best performance among the three. Therefore, parameter tuning of the GradientBoostingClassifier model is further performed using gridsearch cross validation."
   ]
  },
  {
   "cell_type": "code",
   "execution_count": 48,
   "metadata": {
    "scrolled": false
   },
   "outputs": [
    {
     "name": "stdout",
     "output_type": "stream",
     "text": [
      "Best parameters: {'gbc__max_features': 'sqrt', 'gbc__n_estimators': 700}\n",
      "Corresponding accuracy score: 0.7912266666666666\n"
     ]
    }
   ],
   "source": [
    "# Grid search optimization of GradientBoostingClassifier\n",
    "\n",
    "# Grid search of parameters n_estimators and max_features to improve GradientBoostingClassifer model\n",
    "parameters = {'gbc__n_estimators': np.arange(500,1000,100), 'gbc__max_features':[None,'sqrt','log2']}\n",
    "gbc_cv = GridSearchCV(gbc, parameters, scoring='accuracy', cv=5)\n",
    "gbc_cv.fit(X_train, y_train)\n",
    "print('Best parameters:', gbc_cv.best_params_)\n",
    "print('Corresponding accuracy score:', gbc_cv.best_score_)"
   ]
  },
  {
   "cell_type": "code",
   "execution_count": 49,
   "metadata": {},
   "outputs": [
    {
     "name": "stdout",
     "output_type": "stream",
     "text": [
      "Classification results based on the testset:\n",
      "              precision    recall  f1-score   support\n",
      "\n",
      "      False       0.81      0.87      0.84      7799\n",
      "       True       0.75      0.67      0.71      4701\n",
      "\n",
      "avg / total       0.79      0.79      0.79     12500\n",
      "\n"
     ]
    }
   ],
   "source": [
    "# updated GradientBoostingClassifier model with the optimized parameter\n",
    "gbc = Pipeline([('scaler', StandardScaler()),('gbc', GradientBoostingClassifier(n_estimators=700, max_features='sqrt'))])\n",
    "gbc.fit(X_train, y_train)\n",
    "pred_train = gbc.predict(X_train)\n",
    "pred_test = gbc.predict(X_test)\n",
    "\n",
    "compute_log_result(\"GradientBoostingClassifier\", pred_train, pred_test)"
   ]
  },
  {
   "cell_type": "code",
   "execution_count": 50,
   "metadata": {},
   "outputs": [
    {
     "name": "stdout",
     "output_type": "stream",
     "text": [
      "accuracy_train      0.8032\n",
      "f1_score_train    0.723243\n",
      "accuracy_test      0.79392\n",
      "f1_score_test     0.710757\n",
      "Name: GradientBoostingClassifier, dtype: object\n",
      "                   feature  importance\n",
      "7              weekday_pct    0.160749\n",
      "5   trips_in_first_30_days    0.145351\n",
      "0                 avg_dist    0.121783\n",
      "4                surge_pct    0.098709\n",
      "1     avg_rating_by_driver    0.093130\n",
      "3                avg_surge    0.090360\n",
      "2     avg_rating_of_driver    0.069615\n",
      "8      city_King's Landing    0.043062\n",
      "6      ultimate_black_user    0.022774\n",
      "9          city_Winterfell    0.021621\n",
      "10            phone_iPhone    0.021345\n",
      "18    lasttrip_dayofweek_3    0.013887\n",
      "21    lasttrip_dayofweek_6    0.013761\n",
      "20    lasttrip_dayofweek_5    0.013165\n",
      "19    lasttrip_dayofweek_4    0.013137\n",
      "13           signup_week_3    0.012644\n",
      "12           signup_week_2    0.008701\n",
      "17    lasttrip_dayofweek_2    0.008014\n",
      "11     phone_not_available    0.007638\n",
      "15           signup_week_5    0.007446\n",
      "16    lasttrip_dayofweek_1    0.006877\n",
      "14           signup_week_4    0.006230\n"
     ]
    }
   ],
   "source": [
    "# final results\n",
    "print(score_table.loc['GradientBoostingClassifier'])\n",
    "\n",
    "# feature importance ranking from the optimized GradientBoostingClassifier \n",
    "feature_rank = pd.DataFrame({'feature': X_train.columns, 'importance': gbc.named_steps.gbc.feature_importances_})\n",
    "print(feature_rank.sort_values(by='importance',ascending=False))"
   ]
  },
  {
   "cell_type": "markdown",
   "metadata": {},
   "source": [
    "As shown, the optimized GradientBoostingClassifier gives the best accuracy score and F1 score among all. The feature ranking from the optimized classifier suggests that athe percent of weekday trips('weekday_pct'), trips taken in the first 30 days of signing up ('trips_in_first_30_days') and average trip distance ('avg_dist') are the top three factors indicating user retention after 6 month of signing up. "
   ]
  },
  {
   "cell_type": "markdown",
   "metadata": {},
   "source": [
    "### 5.4 Client recommendation"
   ]
  },
  {
   "cell_type": "markdown",
   "metadata": {},
   "source": [
    "To understand and improve long-term rider retention:<br>\n",
    "\n",
    "1) Regular marketing email/outreach to users who take trips of intermediate distances, having the majority of their trips during weekdays, more than 2 trips during the first 30 days, and at least one trip of surge pricing, to make sure those who have needs and are likely to retain will indeed retain without dropping off. <br>\n",
    "2) Have more marketing campaign and maybe consider offering discount/coupon/incentives in cities 'Winterfell' and 'Astapor' as those two cities see a much lower user retention rate than city 'King's landing'. <br> Further investigation on why King's landing is much more successful at retaining users might provide valuable insights. <br>\n",
    "3) Investigate into why Android phone users show a significantly lower retention rate than iphone users. If part of the service involves the mobile app, this could suggest that the Android app might have bugs, or at least is not very user friendly."
   ]
  }
 ],
 "metadata": {
  "kernelspec": {
   "display_name": "Python 3",
   "language": "python",
   "name": "python3"
  },
  "language_info": {
   "codemirror_mode": {
    "name": "ipython",
    "version": 3
   },
   "file_extension": ".py",
   "mimetype": "text/x-python",
   "name": "python",
   "nbconvert_exporter": "python",
   "pygments_lexer": "ipython3",
   "version": "3.6.5"
  }
 },
 "nbformat": 4,
 "nbformat_minor": 2
}
